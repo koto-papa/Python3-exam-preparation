{
 "cells": [
  {
   "cell_type": "markdown",
   "id": "e70df43c-d4c9-467a-8a89-42b0bfe1abd4",
   "metadata": {},
   "source": [
    "# 標準ライブラリについて"
   ]
  },
  {
   "cell_type": "code",
   "execution_count": null,
   "id": "1d175583-3280-4913-9659-bfad9e7320c5",
   "metadata": {},
   "outputs": [],
   "source": [
    "# import ライブラリ名　でライブラリをインポートできます。\n",
    "# import ライブラリ名 as 別名　でライブラリに別名を付けてインポートすることが可能です。\n",
    "# ライブラリ名.関数名()で実行します。\n",
    "\n",
    "# from ライブラリ名 import クラスもしくは関数　でライブラリの特定のクラスだけを使えるようになります。\n",
    "# 関数名()のみで実行できます。"
   ]
  },
  {
   "cell_type": "code",
   "execution_count": 2,
   "id": "272227a6-0c5d-4703-903d-4127814b6e53",
   "metadata": {},
   "outputs": [
    {
     "data": {
      "text/plain": [
       "'C:\\\\Users\\\\user\\\\Desktop\\\\python3_基礎'"
      ]
     },
     "execution_count": 2,
     "metadata": {},
     "output_type": "execute_result"
    }
   ],
   "source": [
    "# osは、デバイスのOSに依存した機能を使うための標準ライブラリ\n",
    "import os\n",
    "os.getcwd()\n",
    "# getcwdでファイルが保存されているパスを表示できます。\n",
    "# cwdは、カレントワーキングディレクトリの略です。"
   ]
  },
  {
   "cell_type": "code",
   "execution_count": 5,
   "id": "6e906c9d-448c-4807-99b8-23295345663c",
   "metadata": {},
   "outputs": [
    {
     "data": {
      "text/plain": [
       "'C:\\\\Users\\\\user\\\\Desktop\\\\python3_基礎\\\\practice8 ライブラリ.ipynb'"
      ]
     },
     "execution_count": 5,
     "metadata": {},
     "output_type": "execute_result"
    }
   ],
   "source": [
    "path=os.path.abspath('practice8 ライブラリ.ipynb')\n",
    "path\n",
    "# path.abspathで絶対パスを取得できます。"
   ]
  },
  {
   "cell_type": "code",
   "execution_count": 3,
   "id": "5f13c54a-b5cf-4f3f-bb5d-be321e5c20f6",
   "metadata": {},
   "outputs": [
    {
     "data": {
      "text/plain": [
       "'C:¥\\\\dir\\\\file.txt'"
      ]
     },
     "execution_count": 3,
     "metadata": {},
     "output_type": "execute_result"
    }
   ],
   "source": [
    "path = os.path.join('C:¥', 'dir', 'file.txt')\n",
    "path\n",
    "# path.joinで実行環境のOSに応じて区切り文字を自動で付与できます。"
   ]
  },
  {
   "cell_type": "code",
   "execution_count": 5,
   "id": "93b35c07-2417-4062-b1f2-1d6eb096ec0f",
   "metadata": {},
   "outputs": [],
   "source": [
    "os.mkdir('test')\n",
    "# 同じ階層にフォルダを作成できます。\n",
    "# mkdirは、メイクディレクトリの略です"
   ]
  },
  {
   "cell_type": "code",
   "execution_count": 7,
   "id": "23955362-a8c7-4a54-abe2-973879dfa16e",
   "metadata": {},
   "outputs": [],
   "source": [
    "os.rename('test','test2')\n",
    "# フォルダ名の変更ができます。"
   ]
  },
  {
   "cell_type": "code",
   "execution_count": null,
   "id": "954d1449-4aa4-457a-9223-bbfc71ed8a85",
   "metadata": {},
   "outputs": [],
   "source": []
  },
  {
   "cell_type": "code",
   "execution_count": 8,
   "id": "24d2f0ac-ebe9-48fe-b8ab-b1d0bc962007",
   "metadata": {},
   "outputs": [
    {
     "data": {
      "text/plain": [
       "'\\\\Users\\\\user\\\\Desktop\\\\test2'"
      ]
     },
     "execution_count": 8,
     "metadata": {},
     "output_type": "execute_result"
    }
   ],
   "source": [
    "# shutilは、ファイルやファイルの集まりに対して操作をする標準ライブラリ\n",
    "# shell Utilitiesの略です。\n",
    "import shutil\n",
    "shutil.move('test2','\\\\Users\\\\user\\\\Desktop')\n",
    "# moveでフォルダを移動できます。"
   ]
  },
  {
   "cell_type": "code",
   "execution_count": 9,
   "id": "66dbf388-d29d-4de6-a1db-76352ca6dfa4",
   "metadata": {},
   "outputs": [],
   "source": [
    "shutil.rmtree('\\\\Users\\\\user\\\\Desktop\\\\test2')\n",
    "# rmtreeでフォルダを削除できます。"
   ]
  },
  {
   "cell_type": "code",
   "execution_count": null,
   "id": "3a6ae954-5959-448b-a735-2f799b05c374",
   "metadata": {},
   "outputs": [],
   "source": []
  },
  {
   "cell_type": "code",
   "execution_count": 2,
   "id": "db2ac36d-66cc-49c7-a645-adb796ae4573",
   "metadata": {},
   "outputs": [
    {
     "name": "stdout",
     "output_type": "stream",
     "text": [
      "3.872983346207417\n"
     ]
    }
   ],
   "source": [
    "# mathは、数式の標準ライブラリ\n",
    "import math\n",
    "x = 15\n",
    "print(math.sqrt((x)))\n",
    "# sqrtで引数に指定した値の平方根を返します。"
   ]
  },
  {
   "cell_type": "code",
   "execution_count": 3,
   "id": "367d2907-7d87-4a62-aec4-a758568be1c5",
   "metadata": {},
   "outputs": [
    {
     "name": "stdout",
     "output_type": "stream",
     "text": [
      "1.3862943611198906\n",
      "2.0\n"
     ]
    }
   ],
   "source": [
    "x = 4\n",
    "y = 2\n",
    "print(math.log(x))\n",
    "print(math.log(x, y))\n",
    "# logは引数を1つ指定した場合、xの自然対数を返します。\n",
    "# 引数を2つ指定した場合、yを底としたxの対数を返します。"
   ]
  },
  {
   "cell_type": "code",
   "execution_count": 5,
   "id": "5fa16cef-4955-47f7-b85a-3e19042c7081",
   "metadata": {},
   "outputs": [
    {
     "name": "stdout",
     "output_type": "stream",
     "text": [
      "5\n",
      "-2\n"
     ]
    }
   ],
   "source": [
    "x = 5.1234\n",
    "y = -1.234\n",
    "print(math.floor((x)))\n",
    "print(math.floor((y)))\n",
    "# floorは引数に指定した浮動小数点数以下で最大の整数を返します。"
   ]
  },
  {
   "cell_type": "code",
   "execution_count": 7,
   "id": "313c283e-b4e6-4da1-b91e-39a2d35eabab",
   "metadata": {},
   "outputs": [
    {
     "name": "stdout",
     "output_type": "stream",
     "text": [
      "6\n",
      "-1\n"
     ]
    }
   ],
   "source": [
    "x = 5.1234\n",
    "y = -1.234\n",
    "print(math.ceil((x)))\n",
    "print(math.ceil((y)))\n",
    "# ceilは引数に指定した浮動小数点数以上で最小の整数を返します。"
   ]
  },
  {
   "cell_type": "code",
   "execution_count": null,
   "id": "a8aafbf0-d05a-4b93-a338-fb6048017034",
   "metadata": {},
   "outputs": [],
   "source": []
  },
  {
   "cell_type": "code",
   "execution_count": 13,
   "id": "db81e5b8-1035-4578-92af-29e51c6006a2",
   "metadata": {},
   "outputs": [
    {
     "name": "stdout",
     "output_type": "stream",
     "text": [
      "0.07939200972367566\n"
     ]
    }
   ],
   "source": [
    "# randomはランダムな処理が必要な場合に使用する標準ライブラリ\n",
    "import random\n",
    "num = random.random()\n",
    "print(num)\n",
    "# randomは0.0から1.0の範囲のfloat型の値を返します。"
   ]
  },
  {
   "cell_type": "code",
   "execution_count": 24,
   "id": "9f9e928f-2066-4097-8ca1-8c2177d730d1",
   "metadata": {},
   "outputs": [
    {
     "name": "stdout",
     "output_type": "stream",
     "text": [
      "4.188607048451166\n"
     ]
    }
   ],
   "source": [
    "num = random.uniform(2,5)\n",
    "print(num)\n",
    "# uniformは任意の範囲でfloat型の値を返します。"
   ]
  },
  {
   "cell_type": "code",
   "execution_count": 70,
   "id": "36f17e37-c098-442e-90f6-1a4b77fdd8a9",
   "metadata": {},
   "outputs": [
    {
     "name": "stdout",
     "output_type": "stream",
     "text": [
      "9\n"
     ]
    }
   ],
   "source": [
    "print(random.randrange(10))\n",
    "# randrange(start, stop, step)は任意の範囲でint型の値を返します。\n",
    "# 引数start, stepは省略可能です。省略した場合はstart=0, step=1となります。"
   ]
  },
  {
   "cell_type": "code",
   "execution_count": 74,
   "id": "e4beb253-7bca-4d6d-8562-623bc7fe242c",
   "metadata": {},
   "outputs": [
    {
     "name": "stdout",
     "output_type": "stream",
     "text": [
      "7\n"
     ]
    }
   ],
   "source": [
    "print(random.randint(1,10))\n",
    "# randintは任意の範囲でint型の値を返します。\n",
    "# randint(a,b)で、bを含みます。"
   ]
  },
  {
   "cell_type": "code",
   "execution_count": 34,
   "id": "cf4eee70-7c44-4af3-af9d-3f9e5e694bcb",
   "metadata": {},
   "outputs": [
    {
     "name": "stdout",
     "output_type": "stream",
     "text": [
      "peach\n"
     ]
    }
   ],
   "source": [
    "mylist = [\"apple\", \"banana\", \"melon\", \"strawberry\", \"peach\", \"lemon\"]\n",
    "print(random.choice(mylist))\n",
    "# choiceは複数の要素を含むシーケンス型オブジェクトを引数に受け取り、そこからランダムに要素を１つ返します。"
   ]
  },
  {
   "cell_type": "code",
   "execution_count": 82,
   "id": "b9e10289-7e17-4ce2-a2e0-9bbd9e91f33d",
   "metadata": {},
   "outputs": [
    {
     "name": "stdout",
     "output_type": "stream",
     "text": [
      "['strawberry', 'melon']\n"
     ]
    }
   ],
   "source": [
    "mylist = [\"apple\", \"banana\", \"melon\", \"strawberry\", \"peach\", \"lemon\"]\n",
    "print(random.sample(mylist, 2))\n",
    "# sampleは複数の要素を含むシーケンス型オブジェクトを引数に受け取り、そこからランダムに要素を複数返します。"
   ]
  },
  {
   "cell_type": "code",
   "execution_count": 51,
   "id": "80f5a776-5911-45b7-b67d-41b7967f2f8d",
   "metadata": {},
   "outputs": [
    {
     "name": "stdout",
     "output_type": "stream",
     "text": [
      "abcdefghijklmnopqrstuvwxyzABCDEFGHIJKLMNOPQRSTUVWXYZ0123456789\n",
      "7m2HG\n"
     ]
    }
   ],
   "source": [
    "# randomライブラリの発展的な使い方\n",
    "# stringは、文字列の操作に便利な標準ライブラリ\n",
    "# ascii_lettersはアルファベットの大文字と小文字のすべてを含む文字列です。\n",
    "# digitsは、0から9までの文字列です。\n",
    "import random\n",
    "import string\n",
    "chars = string.ascii_letters + string.digits\n",
    "print(chars)\n",
    "n = 5\n",
    "s = ''\n",
    "mystr = s.join([random.choice(chars) for i in range(n)])\n",
    "print(mystr)\n",
    "# 文字列をランダムに生成"
   ]
  },
  {
   "cell_type": "code",
   "execution_count": null,
   "id": "4daccbf3-43bd-4234-88a9-52fcd6cd4465",
   "metadata": {},
   "outputs": [],
   "source": []
  },
  {
   "cell_type": "code",
   "execution_count": null,
   "id": "ae8e9e3c-274d-450f-84db-10aceafe93e0",
   "metadata": {},
   "outputs": [],
   "source": [
    "# sysは、Pythonのインタプリタや実行環境など、システムの挙動を管理・操作するための標準ライブラリ\n",
    "import sys\n",
    "sys.exit()\n",
    "# exitでプログラムを終了させます。"
   ]
  },
  {
   "cell_type": "code",
   "execution_count": null,
   "id": "19ec8a94-21f2-40b3-9c67-bd8aa6622a51",
   "metadata": {},
   "outputs": [],
   "source": [
    "# globは、指定されたパターンにマッチするファイルパス名を取得する標準ライブラリ\n",
    "import glob\n",
    "title = glob.glob('*.txt')\n",
    "# glob()でディレクトリの中のファイルをリストで取得できます。"
   ]
  },
  {
   "cell_type": "code",
   "execution_count": null,
   "id": "4b121705-5dac-443e-b6bc-13da6f54c0a0",
   "metadata": {},
   "outputs": [],
   "source": []
  },
  {
   "cell_type": "code",
   "execution_count": null,
   "id": "c1781589-56e2-444a-914d-5c490b2f7a17",
   "metadata": {},
   "outputs": [],
   "source": [
    "# datetimeは、日付と時刻を操作するときに使われる標準ライブラリ"
   ]
  },
  {
   "cell_type": "code",
   "execution_count": 9,
   "id": "0229357c-eca6-4153-b6c3-938d857044af",
   "metadata": {},
   "outputs": [
    {
     "name": "stdout",
     "output_type": "stream",
     "text": [
      "2024-05-03 22:01:54.626388\n"
     ]
    }
   ],
   "source": [
    "import datetime\n",
    "dt_now = datetime.datetime.now()\n",
    "print(dt_now)\n",
    "# now()で今日の日付と現在時刻を取得できます。"
   ]
  },
  {
   "cell_type": "code",
   "execution_count": 10,
   "id": "8dfcfa32-d57c-4874-a9f6-c42d7688dbfd",
   "metadata": {},
   "outputs": [
    {
     "name": "stdout",
     "output_type": "stream",
     "text": [
      "2024-05-03\n"
     ]
    }
   ],
   "source": [
    "d_today = datetime.date.today()\n",
    "print(d_today)\n",
    "# today()で今日の日付を取得できます。"
   ]
  },
  {
   "cell_type": "code",
   "execution_count": 15,
   "id": "53228b99-ccab-4e1f-a34b-bd6926f5cbbe",
   "metadata": {},
   "outputs": [
    {
     "name": "stdout",
     "output_type": "stream",
     "text": [
      "2024-04-23\n",
      "2024-05-07 09:21:54.626388\n"
     ]
    }
   ],
   "source": [
    "print(d_today - datetime.timedelta(days=10))\n",
    "print(dt_now + datetime.timedelta(minutes=5000))\n",
    "# timedelta()で日時の差を取得したり、ある日時との足し引きもできます。\n",
    "# timedeltaオブジェクトが保持しているのは、days, seconds, microsecondsの情報のみです。"
   ]
  },
  {
   "cell_type": "code",
   "execution_count": 18,
   "id": "6e610e47-3c99-4442-8c83-51bb30cdd335",
   "metadata": {},
   "outputs": [
    {
     "name": "stdout",
     "output_type": "stream",
     "text": [
      "2024/05/03\n",
      "2024/05/03 22:01:54\n"
     ]
    }
   ],
   "source": [
    "print(d_today.strftime('%Y/%m/%d'))\n",
    "print(dt_now.strftime('%Y/%m/%d %H:%M:%S'))\n",
    "# strftime()で日時を任意のフォーマットの文字列に変換できます。"
   ]
  },
  {
   "cell_type": "code",
   "execution_count": 19,
   "id": "2b43aa43-32fb-4e22-a8f0-7e072ec38adb",
   "metadata": {},
   "outputs": [
    {
     "name": "stdout",
     "output_type": "stream",
     "text": [
      "2023-04-01 20:30:00\n"
     ]
    }
   ],
   "source": [
    "s = '2023/4/1 20:30'\n",
    "s_format = '%Y/%m/%d %H:%M'\n",
    "dt = datetime.datetime.strptime(s, s_format)\n",
    "print(dt)\n",
    "# strptime()で日時を表す文字列からdatetimeオブジェクトを生成できます。\n",
    "# 第一引数に対象の文字列、第二引数に書式化文字列を指定します。"
   ]
  },
  {
   "cell_type": "code",
   "execution_count": null,
   "id": "9ef67c8b-9580-4477-9dad-e4b68794e862",
   "metadata": {},
   "outputs": [],
   "source": []
  },
  {
   "cell_type": "code",
   "execution_count": null,
   "id": "f4c1982f-847e-4bae-9f7d-605a103e34e6",
   "metadata": {},
   "outputs": [],
   "source": [
    "# timeは、時間に関する情報を扱うための標準ライブラリ\n",
    "# sleep()でスリープしたい秒数を指定できます。"
   ]
  },
  {
   "cell_type": "code",
   "execution_count": 8,
   "id": "42f6afbd-8ea3-49b5-a880-bf7554d656e2",
   "metadata": {},
   "outputs": [
    {
     "name": "stdout",
     "output_type": "stream",
     "text": [
      "1秒経過\n",
      "2秒経過\n",
      "3秒経過\n",
      "4秒経過\n",
      "5秒経過\n",
      "処理終了\n"
     ]
    }
   ],
   "source": [
    "import time\n",
    "for i in range(1,6):\n",
    "    time.sleep(1)\n",
    "    print('{}秒経過'.format(i))\n",
    "print('処理終了')\n",
    "# sleep(1)で処理を１秒ずつ停止できます。"
   ]
  },
  {
   "cell_type": "code",
   "execution_count": null,
   "id": "75accf0d-0531-4426-8979-257733dc2718",
   "metadata": {},
   "outputs": [],
   "source": []
  },
  {
   "cell_type": "code",
   "execution_count": 1,
   "id": "4615a6c7-c074-4635-8d9f-ad2816f4cd42",
   "metadata": {},
   "outputs": [
    {
     "name": "stdout",
     "output_type": "stream",
     "text": [
      "<class 'str'>\n"
     ]
    }
   ],
   "source": [
    "# JSONとはJavaScript Object Notationのことです。\n",
    "# WEBシステム上の異なるプログラミング言語間のデータの受け渡し等に用いられます。\n",
    "# JSONは『キーと値』という形式のツリー構造の文字列です。\n",
    "# jsonは、PythonでJSONを扱うための標準ライブラリです。\n",
    "import json\n",
    "j = json.dumps({'one': 1, 'two': 2})\n",
    "print(type(j))\n",
    "# dumpsで辞書型の値をJSONに変換してファイルに出力します。"
   ]
  },
  {
   "cell_type": "code",
   "execution_count": null,
   "id": "7270f03a-2d65-462c-b53c-efb1ce0cf9a9",
   "metadata": {},
   "outputs": [],
   "source": []
  },
  {
   "cell_type": "code",
   "execution_count": null,
   "id": "d3cf1c38-b4f3-4063-9659-05fc5cc598f5",
   "metadata": {},
   "outputs": [],
   "source": [
    "# reは、正規表現に関する標準ライブラリ\n",
    "# 正規表現を一言でいうと「ひとつの文字列で複数の文字列を表現すること」です。\n",
    "# 正規表現でよく使う特殊文字は以下となります。\n",
    "# 　\\d 数字\n",
    "# 　\\w 任意の英数字\n",
    "# 　. 任意の1文字\n",
    "# 　^ 先頭\n",
    "# 　$ 末尾\n",
    "# 　* 0文字以上の繰り返し\n",
    "# 　+ 1文字以上の繰り返し\n",
    "# 　{m} m回の繰り返し\n",
    "# 　[...] 指定したいずれかの文字\n",
    "# 　[^...] 指定したいずれかの文字以外\n",
    "# 　(x|y) xかyの選択\n"
   ]
  },
  {
   "cell_type": "code",
   "execution_count": null,
   "id": "01c18fac-1529-4e4b-af27-2bc6ba6a35c1",
   "metadata": {},
   "outputs": [],
   "source": [
    "# csvは、CSV形式のデータの読み書きを行うための標準ライブラリ"
   ]
  },
  {
   "cell_type": "markdown",
   "id": "56a2a27d-9014-4d4c-a1fa-bbd93be80665",
   "metadata": {},
   "source": [
    "# 外部ライブラリについて"
   ]
  },
  {
   "cell_type": "code",
   "execution_count": null,
   "id": "77ef1f0b-f11f-4944-924e-fe2e38027821",
   "metadata": {},
   "outputs": [],
   "source": [
    "# OSのコマンドプロンプト上でインストールします。\n",
    "# python -m pip install ライブラリ名　でライブラリをインストールできます。"
   ]
  },
  {
   "cell_type": "code",
   "execution_count": null,
   "id": "918d2da7-6b04-4935-a64e-f7bd21aee837",
   "metadata": {},
   "outputs": [],
   "source": [
    "# jpholidayは、日本の祝日がわかる外部ライブラリ\n",
    "!pip install jpholiday"
   ]
  },
  {
   "cell_type": "code",
   "execution_count": 15,
   "id": "7f67f3fb-980d-453f-a026-23b7b94b0669",
   "metadata": {},
   "outputs": [
    {
     "data": {
      "text/plain": [
       "[(datetime.date(2024, 1, 1), '元日'),\n",
       " (datetime.date(2024, 1, 8), '成人の日'),\n",
       " (datetime.date(2024, 2, 11), '建国記念の日'),\n",
       " (datetime.date(2024, 2, 12), '建国記念の日 振替休日'),\n",
       " (datetime.date(2024, 2, 23), '天皇誕生日'),\n",
       " (datetime.date(2024, 3, 20), '春分の日'),\n",
       " (datetime.date(2024, 4, 29), '昭和の日'),\n",
       " (datetime.date(2024, 5, 3), '憲法記念日'),\n",
       " (datetime.date(2024, 5, 4), 'みどりの日'),\n",
       " (datetime.date(2024, 5, 5), 'こどもの日'),\n",
       " (datetime.date(2024, 5, 6), 'こどもの日 振替休日'),\n",
       " (datetime.date(2024, 7, 15), '海の日'),\n",
       " (datetime.date(2024, 8, 11), '山の日'),\n",
       " (datetime.date(2024, 8, 12), '山の日 振替休日'),\n",
       " (datetime.date(2024, 9, 16), '敬老の日'),\n",
       " (datetime.date(2024, 9, 22), '秋分の日'),\n",
       " (datetime.date(2024, 9, 23), '秋分の日 振替休日'),\n",
       " (datetime.date(2024, 10, 14), 'スポーツの日'),\n",
       " (datetime.date(2024, 11, 3), '文化の日'),\n",
       " (datetime.date(2024, 11, 4), '文化の日 振替休日'),\n",
       " (datetime.date(2024, 11, 23), '勤労感謝の日')]"
      ]
     },
     "execution_count": 15,
     "metadata": {},
     "output_type": "execute_result"
    }
   ],
   "source": [
    "import jpholiday\n",
    "jpholiday.year_holidays(2024)"
   ]
  },
  {
   "cell_type": "code",
   "execution_count": 16,
   "id": "4677662c-2eae-42b7-a4d1-f73505ce5bc2",
   "metadata": {},
   "outputs": [
    {
     "data": {
      "text/plain": [
       "21"
      ]
     },
     "execution_count": 16,
     "metadata": {},
     "output_type": "execute_result"
    }
   ],
   "source": [
    "len(jpholiday.year_holidays(2024))"
   ]
  },
  {
   "cell_type": "code",
   "execution_count": null,
   "id": "dfd31766-1e51-404e-a8bd-5426be996584",
   "metadata": {},
   "outputs": [],
   "source": [
    "# OpenPyXLは、PythonからExcelを操作するための外部ライブラリ"
   ]
  },
  {
   "cell_type": "code",
   "execution_count": 12,
   "id": "29e4e0e7-0cbd-4fec-be64-9a2b2424a22d",
   "metadata": {},
   "outputs": [
    {
     "name": "stdout",
     "output_type": "stream",
     "text": [
      "Requirement already satisfied: matplotlib in c:\\users\\user\\anaconda3\\lib\\site-packages (3.8.0)\n",
      "Requirement already satisfied: contourpy>=1.0.1 in c:\\users\\user\\anaconda3\\lib\\site-packages (from matplotlib) (1.2.0)\n",
      "Requirement already satisfied: cycler>=0.10 in c:\\users\\user\\anaconda3\\lib\\site-packages (from matplotlib) (0.11.0)\n",
      "Requirement already satisfied: fonttools>=4.22.0 in c:\\users\\user\\anaconda3\\lib\\site-packages (from matplotlib) (4.25.0)\n",
      "Requirement already satisfied: kiwisolver>=1.0.1 in c:\\users\\user\\anaconda3\\lib\\site-packages (from matplotlib) (1.4.4)\n",
      "Requirement already satisfied: numpy<2,>=1.21 in c:\\users\\user\\anaconda3\\lib\\site-packages (from matplotlib) (1.26.4)\n",
      "Requirement already satisfied: packaging>=20.0 in c:\\users\\user\\anaconda3\\lib\\site-packages (from matplotlib) (23.1)\n",
      "Requirement already satisfied: pillow>=6.2.0 in c:\\users\\user\\anaconda3\\lib\\site-packages (from matplotlib) (10.2.0)\n",
      "Requirement already satisfied: pyparsing>=2.3.1 in c:\\users\\user\\anaconda3\\lib\\site-packages (from matplotlib) (3.0.9)\n",
      "Requirement already satisfied: python-dateutil>=2.7 in c:\\users\\user\\anaconda3\\lib\\site-packages (from matplotlib) (2.8.2)\n",
      "Requirement already satisfied: six>=1.5 in c:\\users\\user\\anaconda3\\lib\\site-packages (from python-dateutil>=2.7->matplotlib) (1.16.0)\n"
     ]
    }
   ],
   "source": [
    "# matplotlibは、グラフを作成するための外部ライブラリ\n",
    "!pip install matplotlib"
   ]
  },
  {
   "cell_type": "code",
   "execution_count": 13,
   "id": "47056199-b856-4898-89ba-162734b17fa4",
   "metadata": {},
   "outputs": [
    {
     "data": {
      "text/plain": [
       "[<matplotlib.lines.Line2D at 0x2677cd4d250>]"
      ]
     },
     "execution_count": 13,
     "metadata": {},
     "output_type": "execute_result"
    },
    {
     "data": {
      "image/png": "[encoded data removed]",
      "text/plain": [
       "<Figure size 640x480 with 1 Axes>"
      ]
     },
     "metadata": {},
     "output_type": "display_data"
    }
   ],
   "source": [
    "import matplotlib.pyplot as plt\n",
    "x=[1,2,3,4,5]\n",
    "y=[1,5,3,4,7]\n",
    "plt.plot(x,y)"
   ]
  },
  {
   "cell_type": "code",
   "execution_count": 14,
   "id": "722c42d4-812e-4aa6-bdb6-e2da10ca2021",
   "metadata": {},
   "outputs": [
    {
     "data": {
      "text/plain": [
       "<BarContainer object of 5 artists>"
      ]
     },
     "execution_count": 14,
     "metadata": {},
     "output_type": "execute_result"
    },
    {
     "data": {
      "image/png": "[encoded data removed]",
      "text/plain": [
       "<Figure size 640x480 with 1 Axes>"
      ]
     },
     "metadata": {},
     "output_type": "display_data"
    }
   ],
   "source": [
    "plt.bar(x,y)"
   ]
  }
 ],
 "metadata": {
  "kernelspec": {
   "display_name": "Python 3 (ipykernel)",
   "language": "python",
   "name": "python3"
  },
  "language_info": {
   "codemirror_mode": {
    "name": "ipython",
    "version": 3
   },
   "file_extension": ".py",
   "mimetype": "text/x-python",
   "name": "python",
   "nbconvert_exporter": "python",
   "pygments_lexer": "ipython3",
   "version": "3.11.7"
  }
 },
 "nbformat": 4,
 "nbformat_minor": 5
}
