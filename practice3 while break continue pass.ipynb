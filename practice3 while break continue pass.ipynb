{
 "cells": [
  {
   "cell_type": "markdown",
   "id": "bd71eb1d-0100-416d-981e-9a8d811d549a",
   "metadata": {},
   "source": [
    "# while文について"
   ]
  },
  {
   "cell_type": "code",
   "execution_count": null,
   "id": "5000b3fd-6322-4a36-9881-22c28cbdb4b5",
   "metadata": {},
   "outputs": [],
   "source": [
    "# while 文は指定した条件式が真の間、処理を繰り返し実行します。\n",
    "# 条件式が偽になった時に実行される処理を else 節のあとに記述します。\n",
    "\n",
    "# while 条件式:\n",
    "    # 条件式が真の時に実行する文\n",
    "# else:\n",
    "    # 条件式が偽の時に実行する文"
   ]
  },
  {
   "cell_type": "code",
   "execution_count": null,
   "id": "ffd2bf86-43bc-4c0c-8846-f12285334d2f",
   "metadata": {},
   "outputs": [],
   "source": [
    "# a = 0\n",
    "# while a < 10:\n",
    "#     print(a)\n",
    "# 上記のコードを実行すると、0が出力され続け処理が止まらなくなるので注意が必要です。\n",
    "# 処理を永久に続ける場合は「while True:」と記述します。"
   ]
  },
  {
   "cell_type": "code",
   "execution_count": 1,
   "id": "312c5b90-92a9-4997-999f-fa2f9abd0c97",
   "metadata": {},
   "outputs": [
    {
     "name": "stdout",
     "output_type": "stream",
     "text": [
      "0\n",
      "1\n",
      "2\n",
      "3\n",
      "4\n",
      "5\n",
      "6\n",
      "7\n",
      "8\n",
      "9\n"
     ]
    }
   ],
   "source": [
    "a = 0\n",
    "while a < 10:\n",
    "    print(a)\n",
    "    a = a + 1"
   ]
  },
  {
   "cell_type": "code",
   "execution_count": 2,
   "id": "e93a7fd1-06b8-45d6-b6f9-ee9d6db863b2",
   "metadata": {},
   "outputs": [
    {
     "name": "stdout",
     "output_type": "stream",
     "text": [
      "1\n",
      "1\n",
      "2\n",
      "3\n",
      "5\n",
      "8\n",
      "13\n"
     ]
    }
   ],
   "source": [
    "a = 0\n",
    "b = 1\n",
    "while a < 10:\n",
    "    c = a + b\n",
    "    a = b\n",
    "    b = c\n",
    "    print(a)"
   ]
  },
  {
   "cell_type": "code",
   "execution_count": 3,
   "id": "ae7b5638-10d8-4d45-b9a3-f0250c073ac0",
   "metadata": {},
   "outputs": [
    {
     "name": "stdout",
     "output_type": "stream",
     "text": [
      "0\n",
      "1\n",
      "1\n",
      "2\n",
      "3\n",
      "5\n",
      "8\n"
     ]
    }
   ],
   "source": [
    "a = 0\n",
    "b = 1\n",
    "while a < 10:\n",
    "    print(a)\n",
    "    c = a + b\n",
    "    a = b\n",
    "    b = c"
   ]
  },
  {
   "cell_type": "code",
   "execution_count": 4,
   "id": "7b9341cc-e3db-440c-969b-981520cd30e7",
   "metadata": {},
   "outputs": [
    {
     "name": "stdout",
     "output_type": "stream",
     "text": [
      "0\n",
      "1\n",
      "1\n",
      "2\n",
      "3\n",
      "5\n",
      "8\n"
     ]
    }
   ],
   "source": [
    "# 多重代入を用いて、変数への値の代入を複数行に分けて記述する代わりに、(,)で区切って１行で記述できる\n",
    "a, b = 0, 1\n",
    "while a < 10:\n",
    "    print(a)\n",
    "    a, b = b, a+b"
   ]
  },
  {
   "cell_type": "code",
   "execution_count": 5,
   "id": "882d3f9c-f86e-459c-9e83-3d2ce161aea4",
   "metadata": {},
   "outputs": [
    {
     "name": "stdout",
     "output_type": "stream",
     "text": [
      "0,1,1,2,3,5,8,"
     ]
    }
   ],
   "source": [
    "# print()関数の()内に end = ',' を記述すると、連続して出力される値の間にカンマ（,）を入れて連結した値を出力できる\n",
    "a, b = 0, 1\n",
    "while a < 10:\n",
    "    print(a, end = ',')\n",
    "    a, b = b, a + b"
   ]
  },
  {
   "cell_type": "code",
   "execution_count": null,
   "id": "31871a2b-d2b5-408d-89f2-b1e45d986b6e",
   "metadata": {},
   "outputs": [],
   "source": []
  },
  {
   "cell_type": "code",
   "execution_count": 6,
   "id": "57d715f8-85d5-49d8-b514-b6ff76ba589b",
   "metadata": {},
   "outputs": [
    {
     "name": "stdout",
     "output_type": "stream",
     "text": [
      "1\n",
      "2\n"
     ]
    }
   ],
   "source": [
    "x, y = 1, 2\n",
    "print(x)\n",
    "print(y)"
   ]
  },
  {
   "cell_type": "code",
   "execution_count": 7,
   "id": "f51a4fa0-e7c4-47c0-8c25-e2620ed2366a",
   "metadata": {},
   "outputs": [
    {
     "name": "stdout",
     "output_type": "stream",
     "text": [
      "2\n",
      "101\n"
     ]
    }
   ],
   "source": [
    "# 多重代入を用いた場合、代入される前の値が代入される\n",
    "x = 100\n",
    "x, y = 2, x + 1\n",
    "print(x)\n",
    "print(y)"
   ]
  },
  {
   "cell_type": "code",
   "execution_count": 8,
   "id": "66d64e3a-11de-4121-bcf3-67872d056589",
   "metadata": {},
   "outputs": [
    {
     "name": "stdout",
     "output_type": "stream",
     "text": [
      "2\n",
      "3\n"
     ]
    }
   ],
   "source": [
    "# 基本的な代入を用いた場合、随時変数へ値が代入されるため、多重代入を用いた場合と結果が異なる\n",
    "x = 100\n",
    "x = 2\n",
    "y = x + 1\n",
    "print(x)\n",
    "print(y)"
   ]
  },
  {
   "cell_type": "markdown",
   "id": "56f3fb7e-169e-402d-9440-1fc2480d21d5",
   "metadata": {},
   "source": [
    "# break,continue,passについて"
   ]
  },
  {
   "cell_type": "code",
   "execution_count": 1,
   "id": "127283d3-e3de-42c9-b0ad-b47674ab47eb",
   "metadata": {},
   "outputs": [
    {
     "name": "stdout",
     "output_type": "stream",
     "text": [
      "0\n",
      "1\n",
      "2\n",
      "3\n",
      "隊長‼ 3を発見しました‼ \n",
      "4\n",
      "for文が最後まで行われました\n"
     ]
    }
   ],
   "source": [
    "for i in range(5):\n",
    "    print(i)\n",
    "    if i==3:\n",
    "        print(f'隊長‼ {i}を発見しました‼ ') \n",
    "else:\n",
    "  print(\"for文が最後まで行われました\")"
   ]
  },
  {
   "cell_type": "code",
   "execution_count": 19,
   "id": "dde5234e-ddca-49b8-b1d7-4dcc20ad05ff",
   "metadata": {},
   "outputs": [
    {
     "name": "stdout",
     "output_type": "stream",
     "text": [
      "0\n",
      "1\n",
      "2\n",
      "3\n",
      "隊長‼ 3を発見しました‼ \n",
      "途中で終了\n"
     ]
    }
   ],
   "source": [
    "# breakで処理を終了します。\n",
    "for i in range(5):\n",
    "    print(i)\n",
    "    if i==3:\n",
    "        print(f'隊長‼ {i}を発見しました‼ ')\n",
    "        print(\"途中で終了\")\n",
    "        break\n",
    "else:\n",
    "  print(\"for文が終了されました\")"
   ]
  },
  {
   "cell_type": "code",
   "execution_count": null,
   "id": "63a9f4ce-aaa2-4c8c-bbc5-b41f40dafa3a",
   "metadata": {},
   "outputs": [],
   "source": []
  },
  {
   "cell_type": "code",
   "execution_count": 3,
   "id": "8842dc1a-1d7e-4c50-9a3a-afddc7511eab",
   "metadata": {},
   "outputs": [
    {
     "name": "stdout",
     "output_type": "stream",
     "text": [
      "111\n",
      "103\n",
      "99\n",
      "115\n"
     ]
    }
   ],
   "source": [
    "# continueで処理をスキップできます。\n",
    "a = [111, 103, 109, 99, 115]\n",
    "for i in a:\n",
    "    if i == 109:\n",
    "        continue\n",
    "    print(i)"
   ]
  },
  {
   "cell_type": "code",
   "execution_count": 4,
   "id": "e0341134-1ea3-4e15-875e-e0ca25ba9a91",
   "metadata": {},
   "outputs": [
    {
     "name": "stdout",
     "output_type": "stream",
     "text": [
      "1\n",
      "a\n",
      "2\n",
      "a\n"
     ]
    }
   ],
   "source": [
    "for i in range(3):\n",
    "    if i == 0:\n",
    "        continue\n",
    "    print(i)\n",
    "    for v in ['a', 'b', 'c']:\n",
    "        print(v)\n",
    "        break"
   ]
  },
  {
   "cell_type": "code",
   "execution_count": null,
   "id": "a42c5a12-1e46-47eb-b809-5159f61ec6f3",
   "metadata": {},
   "outputs": [],
   "source": []
  },
  {
   "cell_type": "code",
   "execution_count": 1,
   "id": "64b7f3d2-4770-4569-b8d4-ca145de03d3f",
   "metadata": {},
   "outputs": [
    {
     "name": "stdout",
     "output_type": "stream",
     "text": [
      "検品： 111 g\n",
      "検品： 103 g\n",
      "検品： 109 g\n",
      "検品： 99 g\n",
      "検品： 115 g\n",
      "検品はすべて終了しました。\n"
     ]
    }
   ],
   "source": [
    "target = [111, 103, 109, 99, 115]\n",
    "for t in target:\n",
    "    print('検品：',  t, 'g')\n",
    "else:\n",
    "    print('検品はすべて終了しました。')"
   ]
  },
  {
   "cell_type": "code",
   "execution_count": 2,
   "id": "b5d8e108-6e8f-404f-b863-5e6c37ccbba9",
   "metadata": {},
   "outputs": [
    {
     "name": "stdout",
     "output_type": "stream",
     "text": [
      "正常値： 111 g\n",
      "正常値： 103 g\n",
      "正常値： 109 g\n",
      "異常値を発見しました： 99 g\n",
      "正常値： 115 g\n"
     ]
    }
   ],
   "source": [
    "target = [111, 103, 109, 99, 115]\n",
    "for t in target:\n",
    "    if t < 100 or t > 120:\n",
    "        print('異常値を発見しました：',  t, 'g')\n",
    "    else:\n",
    "        print('正常値：',  t, 'g')"
   ]
  },
  {
   "cell_type": "code",
   "execution_count": 3,
   "id": "b6af6403-7f16-408c-9064-85abb24efb18",
   "metadata": {},
   "outputs": [
    {
     "name": "stdout",
     "output_type": "stream",
     "text": [
      "正常値： 111 g\n",
      "正常値： 103 g\n",
      "正常値： 109 g\n",
      "異常値を発見しました： 99 g\n"
     ]
    }
   ],
   "source": [
    "target = [111, 103, 109, 99, 115]\n",
    "for t in target:\n",
    "    if t < 100 or t > 120:\n",
    "        print('異常値を発見しました：',  t, 'g')\n",
    "        break\n",
    "    print('正常値：',  t, 'g')"
   ]
  },
  {
   "cell_type": "code",
   "execution_count": 8,
   "id": "764610da-2a18-4d77-8644-d13ffdcc8e87",
   "metadata": {},
   "outputs": [
    {
     "name": "stdout",
     "output_type": "stream",
     "text": [
      "正常値： 111 g\n",
      "正常値： 103 g\n",
      "正常値： 109 g\n",
      "異常値を発見しました： 99 g\n",
      "正常値： 115 g\n"
     ]
    }
   ],
   "source": [
    "target = [111, 103, 109, 99, 115]\n",
    "for t in target:\n",
    "    if t < 100 or t > 120:\n",
    "        print('異常値を発見しました：',  t, 'g')\n",
    "        continue\n",
    "    print('正常値：',  t, 'g')"
   ]
  },
  {
   "cell_type": "code",
   "execution_count": 5,
   "id": "d8d48be9-ee0d-44b5-9817-3323a131d74c",
   "metadata": {},
   "outputs": [
    {
     "name": "stdout",
     "output_type": "stream",
     "text": [
      "正常値： 111 g\n",
      "正常値： 103 g\n",
      "正常値： 109 g\n",
      "異常値を発見しました： 99 g\n",
      "検品は途中で終了しました！\n"
     ]
    }
   ],
   "source": [
    "target = [111, 103, 109, 99, 115]\n",
    "for t in target:\n",
    "    if t < 100 or t > 120:\n",
    "        print('異常値を発見しました：',  t, 'g')\n",
    "        break\n",
    "    else:\n",
    "        print('正常値：',  t, 'g')\n",
    "print('検品は途中で終了しました！')"
   ]
  },
  {
   "cell_type": "code",
   "execution_count": null,
   "id": "01cc64dc-8736-4c08-91e2-a234956e95f8",
   "metadata": {},
   "outputs": [],
   "source": []
  },
  {
   "cell_type": "code",
   "execution_count": 5,
   "id": "79700e19-e43d-4388-a5bb-957822de085e",
   "metadata": {},
   "outputs": [
    {
     "name": "stdout",
     "output_type": "stream",
     "text": [
      "1 番目のセットは出荷できます\n",
      "2 番目のセットに異常値を発見しました： 99 g\n",
      "3 番目のセットは出荷できます\n"
     ]
    }
   ],
   "source": [
    "targets =[[100, 120, 108, 116, 111], [111, 103, 109, 99, 115], [110, 107, 100, 104, 119]]\n",
    "for num, target in enumerate(targets):\n",
    "    for t in target:\n",
    "        if t < 100 or t > 120:\n",
    "            print(num+1, '番目のセットに異常値を発見しました：',  t, 'g')\n",
    "            break\n",
    "    else:\n",
    "        print(num+1, '番目のセットは出荷できます')"
   ]
  },
  {
   "cell_type": "code",
   "execution_count": 12,
   "id": "1afb6581-94c8-4af0-8941-cadf069af896",
   "metadata": {},
   "outputs": [
    {
     "name": "stdout",
     "output_type": "stream",
     "text": [
      "1 番目のセットの検品が完了しました\n",
      "2 番目のセットは検品を中断します\n",
      "3 番目のセットに異常値： 99 gがありました\n",
      "3 番目のセットの検品が完了しました\n",
      "4 番目のセットの検品が完了しました\n"
     ]
    }
   ],
   "source": [
    "targets =[[100, 120, 108, 116, 111], [117, 110, 116, 102], [111, 103, 109, 99, 115], [110, 107, 100, 104, 119]]\n",
    "for num, target in enumerate(targets):\n",
    "    for t in target:\n",
    "        if len(target) != 5:\n",
    "            print(num+1, '番目のセットは検品を中断します')\n",
    "            break\n",
    "        elif 100<= t <= 120:\n",
    "            continue\n",
    "        print(num+1, '番目のセットに異常値：',  t, 'gがありました')\n",
    "    else:\n",
    "        print(num+1, '番目のセットの検品が完了しました')"
   ]
  },
  {
   "cell_type": "code",
   "execution_count": null,
   "id": "f1668a23-598c-4988-b1d6-945edfc97eaf",
   "metadata": {},
   "outputs": [],
   "source": []
  },
  {
   "cell_type": "code",
   "execution_count": 9,
   "id": "c9f27b07-db99-4082-b375-d1b9d1b193f7",
   "metadata": {},
   "outputs": [
    {
     "ename": "SyntaxError",
     "evalue": "incomplete input (1925085379.py, line 1)",
     "output_type": "error",
     "traceback": [
      "\u001b[1;36m  Cell \u001b[1;32mIn[9], line 1\u001b[1;36m\u001b[0m\n\u001b[1;33m    for i in range(5):\u001b[0m\n\u001b[1;37m                      ^\u001b[0m\n\u001b[1;31mSyntaxError\u001b[0m\u001b[1;31m:\u001b[0m incomplete input\n"
     ]
    }
   ],
   "source": [
    "for i in range(5):"
   ]
  },
  {
   "cell_type": "code",
   "execution_count": 4,
   "id": "6d22c997-2677-4c1f-8b45-7d2dbc686958",
   "metadata": {},
   "outputs": [],
   "source": [
    "# このような場面でエラーを発生させたくない場合、passを用いる\n",
    "for i in range(5):\n",
    "    pass"
   ]
  },
  {
   "cell_type": "code",
   "execution_count": null,
   "id": "ec845382-bad2-4af2-b80a-1fdfa401d89e",
   "metadata": {},
   "outputs": [],
   "source": []
  },
  {
   "cell_type": "code",
   "execution_count": null,
   "id": "b5e6f7b3-efdc-47ca-aef6-b562069415cb",
   "metadata": {},
   "outputs": [],
   "source": []
  }
 ],
 "metadata": {
  "kernelspec": {
   "display_name": "Python 3 (ipykernel)",
   "language": "python",
   "name": "python3"
  },
  "language_info": {
   "codemirror_mode": {
    "name": "ipython",
    "version": 3
   },
   "file_extension": ".py",
   "mimetype": "text/x-python",
   "name": "python",
   "nbconvert_exporter": "python",
   "pygments_lexer": "ipython3",
   "version": "3.11.7"
  }
 },
 "nbformat": 4,
 "nbformat_minor": 5
}
