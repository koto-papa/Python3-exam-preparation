{
 "cells": [
  {
   "cell_type": "markdown",
   "id": "0477be76-48b7-44b1-b974-c44aedd85061",
   "metadata": {},
   "source": [
    "# エラーについて"
   ]
  },
  {
   "cell_type": "code",
   "execution_count": 1,
   "id": "93a867b8-5a0a-45a4-9fae-a4c98ad55706",
   "metadata": {},
   "outputs": [
    {
     "ename": "SyntaxError",
     "evalue": "incomplete input (149104261.py, line 1)",
     "output_type": "error",
     "traceback": [
      "\u001b[1;36m  Cell \u001b[1;32mIn[1], line 1\u001b[1;36m\u001b[0m\n\u001b[1;33m    print(\u001b[0m\n\u001b[1;37m          ^\u001b[0m\n\u001b[1;31mSyntaxError\u001b[0m\u001b[1;31m:\u001b[0m incomplete input\n"
     ]
    }
   ],
   "source": [
    "print(\n",
    "# 構文エラー"
   ]
  },
  {
   "cell_type": "code",
   "execution_count": 6,
   "id": "641ac3a1-f0ba-4251-8075-566f32da5006",
   "metadata": {},
   "outputs": [
    {
     "ename": "SyntaxError",
     "evalue": "invalid syntax (1828815733.py, line 1)",
     "output_type": "error",
     "traceback": [
      "\u001b[1;36m  Cell \u001b[1;32mIn[6], line 1\u001b[1;36m\u001b[0m\n\u001b[1;33m    for i range(5) in:\u001b[0m\n\u001b[1;37m          ^\u001b[0m\n\u001b[1;31mSyntaxError\u001b[0m\u001b[1;31m:\u001b[0m invalid syntax\n"
     ]
    }
   ],
   "source": [
    "for i range(5) in:\n",
    "    print(\"Hello\")\n",
    "# 構文エラー"
   ]
  },
  {
   "cell_type": "code",
   "execution_count": 7,
   "id": "9006f31d-cebd-4ca1-8ab7-66836c3b9906",
   "metadata": {},
   "outputs": [
    {
     "ename": "IndentationError",
     "evalue": "expected an indented block after 'for' statement on line 1 (3684362263.py, line 2)",
     "output_type": "error",
     "traceback": [
      "\u001b[1;36m  Cell \u001b[1;32mIn[7], line 2\u001b[1;36m\u001b[0m\n\u001b[1;33m    print(\"Hello\")\u001b[0m\n\u001b[1;37m    ^\u001b[0m\n\u001b[1;31mIndentationError\u001b[0m\u001b[1;31m:\u001b[0m expected an indented block after 'for' statement on line 1\n"
     ]
    }
   ],
   "source": [
    "for i in range(5):\n",
    "print(\"Hello\")\n",
    "# インデントエラー"
   ]
  },
  {
   "cell_type": "code",
   "execution_count": null,
   "id": "85853965-73fe-4e51-8b44-8768fa60c588",
   "metadata": {},
   "outputs": [],
   "source": []
  },
  {
   "cell_type": "code",
   "execution_count": 12,
   "id": "47a208c8-426d-44cf-984f-0712acd6e804",
   "metadata": {
    "scrolled": true
   },
   "outputs": [
    {
     "ename": "ZeroDivisionError",
     "evalue": "division by zero",
     "output_type": "error",
     "traceback": [
      "\u001b[1;31m---------------------------------------------------------------------------\u001b[0m",
      "\u001b[1;31mZeroDivisionError\u001b[0m                         Traceback (most recent call last)",
      "Cell \u001b[1;32mIn[12], line 1\u001b[0m\n\u001b[1;32m----> 1\u001b[0m \u001b[38;5;241m3\u001b[39m \u001b[38;5;241m/\u001b[39m \u001b[38;5;241m0\u001b[39m\n",
      "\u001b[1;31mZeroDivisionError\u001b[0m: division by zero"
     ]
    }
   ],
   "source": [
    "3 / 0\n",
    "# 例外　0割りエラー"
   ]
  },
  {
   "cell_type": "code",
   "execution_count": null,
   "id": "de8f1a8a-6d6c-462c-b76d-75c5fcc938b0",
   "metadata": {},
   "outputs": [],
   "source": []
  },
  {
   "cell_type": "code",
   "execution_count": 13,
   "id": "c78f2391-f254-4c33-baa4-06d824189d56",
   "metadata": {},
   "outputs": [
    {
     "ename": "NameError",
     "evalue": "name 'name' is not defined",
     "output_type": "error",
     "traceback": [
      "\u001b[1;31m---------------------------------------------------------------------------\u001b[0m",
      "\u001b[1;31mNameError\u001b[0m                                 Traceback (most recent call last)",
      "Cell \u001b[1;32mIn[13], line 1\u001b[0m\n\u001b[1;32m----> 1\u001b[0m name \u001b[38;5;241m*\u001b[39m \u001b[38;5;241m3\u001b[39m\n",
      "\u001b[1;31mNameError\u001b[0m: name 'name' is not defined"
     ]
    }
   ],
   "source": [
    "name * 3\n",
    "# 例外　変数の定義なしエラー"
   ]
  },
  {
   "cell_type": "code",
   "execution_count": 10,
   "id": "ab7fe32b-a6a0-431a-9f9c-af57391013f5",
   "metadata": {},
   "outputs": [
    {
     "ename": "TypeError",
     "evalue": "can only concatenate str (not \"int\") to str",
     "output_type": "error",
     "traceback": [
      "\u001b[1;31m---------------------------------------------------------------------------\u001b[0m",
      "\u001b[1;31mTypeError\u001b[0m                                 Traceback (most recent call last)",
      "Cell \u001b[1;32mIn[10], line 1\u001b[0m\n\u001b[1;32m----> 1\u001b[0m \u001b[38;5;124m\"\u001b[39m\u001b[38;5;124ma\u001b[39m\u001b[38;5;124m\"\u001b[39m \u001b[38;5;241m+\u001b[39m \u001b[38;5;241m3\u001b[39m\n",
      "\u001b[1;31mTypeError\u001b[0m: can only concatenate str (not \"int\") to str"
     ]
    }
   ],
   "source": [
    "\"a\" + 3\n",
    "# 例外　タイプが異なるエラー"
   ]
  },
  {
   "cell_type": "code",
   "execution_count": 11,
   "id": "de6aee38-525b-4162-9a07-2b5ed76be774",
   "metadata": {},
   "outputs": [
    {
     "ename": "ValueError",
     "evalue": "invalid literal for int() with base 10: 'Hello World'",
     "output_type": "error",
     "traceback": [
      "\u001b[1;31m---------------------------------------------------------------------------\u001b[0m",
      "\u001b[1;31mValueError\u001b[0m                                Traceback (most recent call last)",
      "Cell \u001b[1;32mIn[11], line 1\u001b[0m\n\u001b[1;32m----> 1\u001b[0m \u001b[38;5;28mint\u001b[39m(\u001b[38;5;124m\"\u001b[39m\u001b[38;5;124mHello World\u001b[39m\u001b[38;5;124m\"\u001b[39m)\n",
      "\u001b[1;31mValueError\u001b[0m: invalid literal for int() with base 10: 'Hello World'"
     ]
    }
   ],
   "source": [
    "int(\"Hello World\")\n",
    "# 例外　入力値エラー"
   ]
  },
  {
   "cell_type": "code",
   "execution_count": null,
   "id": "c6da0a80-2202-450d-8c20-d953455001bc",
   "metadata": {},
   "outputs": [],
   "source": []
  },
  {
   "cell_type": "code",
   "execution_count": null,
   "id": "a239090f-adc7-4645-b4b0-bb1664b8a40e",
   "metadata": {},
   "outputs": [],
   "source": [
    "# try文を使用することで、特定の例外が発生した際の処理を指定できます。\n",
    "# try:\n",
    "    # 検証したいコード\n",
    "# except 起こりうるエラーの名前:\n",
    "    # 検証したいコードで、起こりうるエラーが起きたときの処理"
   ]
  },
  {
   "cell_type": "code",
   "execution_count": 4,
   "id": "1d39e79c-8a2f-4888-ae05-968b17bc4ef0",
   "metadata": {},
   "outputs": [
    {
     "name": "stdout",
     "output_type": "stream",
     "text": [
      "1\n"
     ]
    }
   ],
   "source": [
    "try:\n",
    "    1 / 0\n",
    "except Exception:\n",
    "    print(1)\n",
    "except ZeroDivisionError:\n",
    "    print(2)\n",
    "# 上から順番に判定して、最初に補足したexcept節を実行します。\n",
    "# それより下のexcept節は実行されません。\n",
    "# Exceptionはすべての例外を補足します。"
   ]
  },
  {
   "cell_type": "code",
   "execution_count": 12,
   "id": "9307ed06-f821-4148-9758-31ef13a0dfcb",
   "metadata": {},
   "outputs": [
    {
     "name": "stdout",
     "output_type": "stream",
     "text": [
      "IndexError\n"
     ]
    }
   ],
   "source": [
    "list = []\n",
    "try:\n",
    "    number = list[-1]\n",
    "    print('a')\n",
    "except ZeroDivisionError:\n",
    "    print('ZeroDivisionError')\n",
    "except IndexError:\n",
    "    print('IndexError')\n",
    "# try節で例外が発生した場合、try節の残りの文はスキップされるため、print('a')は実行されません。"
   ]
  },
  {
   "cell_type": "code",
   "execution_count": 5,
   "id": "d5f21c88-0052-4b7e-8e19-d20189179df1",
   "metadata": {},
   "outputs": [
    {
     "name": "stdout",
     "output_type": "stream",
     "text": [
      "a\n",
      "division by zero\n"
     ]
    }
   ],
   "source": [
    "# 一つのexecpt節で複数の例外を指定する場合は、タプルで指定します。\n",
    "try:\n",
    "    print('a')\n",
    "    10 / 0\n",
    "except (NameError, ValueError):\n",
    "    print('Error')\n",
    "except Exception as e:\n",
    "    print(e)"
   ]
  },
  {
   "cell_type": "code",
   "execution_count": 3,
   "id": "8a0d2d5c-b8c6-4c34-8e8e-3219d3697d27",
   "metadata": {},
   "outputs": [
    {
     "name": "stdout",
     "output_type": "stream",
     "text": [
      "<class 'ZeroDivisionError'>\n"
     ]
    }
   ],
   "source": [
    "def func(arg):\n",
    "    1 / arg\n",
    "try:\n",
    "    func(0)\n",
    "except Exception as e:\n",
    "    print(type(e))\n",
    "# try文のexcept節は、try節から呼び出された関数で発生した例外も処理します。"
   ]
  },
  {
   "cell_type": "code",
   "execution_count": 10,
   "id": "fedae390-207b-4ccc-a5a5-302c4174eb2a",
   "metadata": {},
   "outputs": [
    {
     "name": "stdout",
     "output_type": "stream",
     "text": [
      "ZeroDivisionError\n"
     ]
    }
   ],
   "source": [
    "def func(arg):\n",
    "    1 / arg\n",
    "try:\n",
    "    func(0)\n",
    "except Exception:\n",
    "    print('ZeroDivisionError')"
   ]
  },
  {
   "cell_type": "code",
   "execution_count": 6,
   "id": "0c8a3666-e5bf-47a6-8462-d2e3dbc5ff49",
   "metadata": {},
   "outputs": [
    {
     "name": "stdout",
     "output_type": "stream",
     "text": [
      "try\n",
      "else\n"
     ]
    }
   ],
   "source": [
    "try:\n",
    "    print('try')\n",
    "except:\n",
    "    print('except')\n",
    "else:\n",
    "    print('else')\n",
    "# try文のelse節は、try節が例外を送出しなかった場合に実行されます。"
   ]
  },
  {
   "cell_type": "code",
   "execution_count": null,
   "id": "1e6b3423-4203-4730-80ed-624d830f4f53",
   "metadata": {},
   "outputs": [],
   "source": []
  },
  {
   "cell_type": "code",
   "execution_count": 3,
   "id": "d8d7719f-4bd9-4ac1-a8a5-4eb1af853985",
   "metadata": {},
   "outputs": [
    {
     "name": "stdout",
     "output_type": "stream",
     "text": [
      "error\n",
      "success\n"
     ]
    }
   ],
   "source": [
    "num = [0 ,1]\n",
    "for count in num:\n",
    "    try:\n",
    "        2/count\n",
    "        print('success')\n",
    "        # try節の処理が成功すると、後続のexecpt節は実行されません。\n",
    "    except Exception:\n",
    "        print('error')\n",
    "        # try節が失敗すると実行されます。実行されると直下のelse節は実行されず、for文に戻ってtry節に続きます。\n",
    "    else:\n",
    "        break\n",
    "        # try節が成功したときだけ実行され、for文を抜けます。\n",
    "else:\n",
    "    print('final')\n",
    "    # try節のelse節が実行されてbreakした場合はfor文を抜けるので、実行されません。"
   ]
  },
  {
   "cell_type": "code",
   "execution_count": null,
   "id": "830cfe7a-61dc-4868-8020-59f38e4748ea",
   "metadata": {},
   "outputs": [],
   "source": []
  },
  {
   "cell_type": "code",
   "execution_count": 14,
   "id": "a10db506-4a87-4754-bfb8-328baf9df3d8",
   "metadata": {},
   "outputs": [
    {
     "name": "stdin",
     "output_type": "stream",
     "text": [
      "数字を入力してください： あ\n"
     ]
    },
    {
     "name": "stdout",
     "output_type": "stream",
     "text": [
      "これは有効な数字ではありません。もう一度入力してください。\n"
     ]
    },
    {
     "name": "stdin",
     "output_type": "stream",
     "text": [
      "数字を入力してください： 1\n"
     ]
    }
   ],
   "source": [
    "while True:\n",
    "    try:\n",
    "        x = int(input(\"数字を入力してください：\"))\n",
    "    except ValueError:\n",
    "        print(\"これは有効な数字ではありません。もう一度入力してください。\")\n",
    "    else:\n",
    "        break"
   ]
  },
  {
   "cell_type": "code",
   "execution_count": null,
   "id": "b3a03ca7-89e2-425c-bbee-84574770c416",
   "metadata": {},
   "outputs": [],
   "source": []
  },
  {
   "cell_type": "code",
   "execution_count": null,
   "id": "ec0b5b73-6fbe-46df-83a5-c3e40faa9121",
   "metadata": {},
   "outputs": [
    {
     "name": "stdout",
     "output_type": "stream",
     "text": [
      "==自動販売機==\n",
      "コーラ:150円\n",
      "オレンジジュース:120円\n",
      "選んだジュースと投入金額を入力してください。\n",
      "お釣りは出ません。\n",
      "～～～～～～～\n"
     ]
    }
   ],
   "source": [
    "def vending_machine():\n",
    "  while True:\n",
    "      print(\"==自動販売機==\")\n",
    "      print(\"コーラ:150円\\nオレンジジュース:120円\\n選んだジュースと投入金額を入力してください。\")\n",
    "      print(\"お釣りは出ません。\")\n",
    "      print(\"～～～～～～～\")\n",
    "      juice_dict = {\"コーラ\" : 150 , \"オレンジジュース\" : 120}\n",
    "      juice = input(\"選んだジュース:\")\n",
    "      try:\n",
    "          price = juice_dict[juice]\n",
    "      except KeyError:\n",
    "          print(\"指定されたジュース名を入力してください。\")\n",
    "          continue\n",
    "      try:\n",
    "          in_amount = int(input(\"投入金額:\"))\n",
    "      except ValueError:\n",
    "          print(\"半角の整数値を入力してください。\")\n",
    "          continue\n",
    "      if(in_amount >= price):\n",
    "          print(\"購入完了！\")\n",
    "      else:\n",
    "          print(\"投入金が不足しています...\")\n",
    "          break\n",
    "vending_machine()"
   ]
  },
  {
   "cell_type": "code",
   "execution_count": null,
   "id": "b14e912f-506d-4731-982b-94e149b1d1df",
   "metadata": {},
   "outputs": [],
   "source": []
  },
  {
   "cell_type": "code",
   "execution_count": 15,
   "id": "f251c0f6-a1a0-4a02-b8a5-bf74dd1da560",
   "metadata": {},
   "outputs": [
    {
     "ename": "ValueError",
     "evalue": "",
     "output_type": "error",
     "traceback": [
      "\u001b[1;31m---------------------------------------------------------------------------\u001b[0m",
      "\u001b[1;31mValueError\u001b[0m                                Traceback (most recent call last)",
      "Cell \u001b[1;32mIn[15], line 2\u001b[0m\n\u001b[0;32m      1\u001b[0m \u001b[38;5;66;03m# raise文を使って強制的に例外を発生させることもできます。\u001b[39;00m\n\u001b[1;32m----> 2\u001b[0m \u001b[38;5;28;01mraise\u001b[39;00m \u001b[38;5;167;01mValueError\u001b[39;00m\n\u001b[0;32m      3\u001b[0m \u001b[38;5;28;01mraise\u001b[39;00m \u001b[38;5;167;01mTypeError\u001b[39;00m\n",
      "\u001b[1;31mValueError\u001b[0m: "
     ]
    }
   ],
   "source": [
    "# raise文を使って強制的に例外を発生させることもできます。\n",
    "raise ValueError"
   ]
  },
  {
   "cell_type": "code",
   "execution_count": 16,
   "id": "539a7651-97cc-4e92-833d-e5c9c52af138",
   "metadata": {},
   "outputs": [
    {
     "ename": "ZeroDivisionError",
     "evalue": "0で割ることはできません。",
     "output_type": "error",
     "traceback": [
      "\u001b[1;31m---------------------------------------------------------------------------\u001b[0m",
      "\u001b[1;31mZeroDivisionError\u001b[0m                         Traceback (most recent call last)",
      "Cell \u001b[1;32mIn[16], line 1\u001b[0m\n\u001b[1;32m----> 1\u001b[0m \u001b[38;5;28;01mraise\u001b[39;00m \u001b[38;5;167;01mZeroDivisionError\u001b[39;00m(\u001b[38;5;124m\"\u001b[39m\u001b[38;5;124m0で割ることはできません。\u001b[39m\u001b[38;5;124m\"\u001b[39m)\n",
      "\u001b[1;31mZeroDivisionError\u001b[0m: 0で割ることはできません。"
     ]
    }
   ],
   "source": [
    "raise ZeroDivisionError(\"0で割ることはできません。\")"
   ]
  },
  {
   "cell_type": "code",
   "execution_count": 19,
   "id": "4bb0c294-8459-4e4c-a40f-b07976dfc82c",
   "metadata": {},
   "outputs": [
    {
     "name": "stdin",
     "output_type": "stream",
     "text": [
      "整数値を入れてください。 a\n"
     ]
    },
    {
     "name": "stdout",
     "output_type": "stream",
     "text": [
      "不正な値が入力されました。\n"
     ]
    }
   ],
   "source": [
    "try:\n",
    "    x = int(input(\"整数値を入れてください。\"))\n",
    "except ValueError:\n",
    "    print(\"不正な値が入力されました。\")"
   ]
  },
  {
   "cell_type": "code",
   "execution_count": 20,
   "id": "63ab3ece-1e4b-46cd-8341-5a6d36afaf09",
   "metadata": {},
   "outputs": [
    {
     "name": "stdin",
     "output_type": "stream",
     "text": [
      "整数値を入れてください。 a\n"
     ]
    },
    {
     "name": "stdout",
     "output_type": "stream",
     "text": [
      "不正な値が入力されました。\n"
     ]
    },
    {
     "ename": "ValueError",
     "evalue": "invalid literal for int() with base 10: 'a'",
     "output_type": "error",
     "traceback": [
      "\u001b[1;31m---------------------------------------------------------------------------\u001b[0m",
      "\u001b[1;31mValueError\u001b[0m                                Traceback (most recent call last)",
      "Cell \u001b[1;32mIn[20], line 2\u001b[0m\n\u001b[0;32m      1\u001b[0m \u001b[38;5;28;01mtry\u001b[39;00m:\n\u001b[1;32m----> 2\u001b[0m     x \u001b[38;5;241m=\u001b[39m \u001b[38;5;28mint\u001b[39m(\u001b[38;5;28minput\u001b[39m(\u001b[38;5;124m\"\u001b[39m\u001b[38;5;124m整数値を入れてください。\u001b[39m\u001b[38;5;124m\"\u001b[39m))\n\u001b[0;32m      3\u001b[0m \u001b[38;5;28;01mexcept\u001b[39;00m \u001b[38;5;167;01mValueError\u001b[39;00m:\n\u001b[0;32m      4\u001b[0m     \u001b[38;5;28mprint\u001b[39m(\u001b[38;5;124m\"\u001b[39m\u001b[38;5;124m不正な値が入力されました。\u001b[39m\u001b[38;5;124m\"\u001b[39m)\n",
      "\u001b[1;31mValueError\u001b[0m: invalid literal for int() with base 10: 'a'"
     ]
    }
   ],
   "source": [
    "# 特定の処理を実行した後、再度例外を表示させたい場合、例外処理の後にraiseを記述します。\n",
    "try:\n",
    "    x = int(input(\"整数値を入れてください。\"))\n",
    "except ValueError:\n",
    "    print(\"不正な値が入力されました。\")\n",
    "    raise"
   ]
  },
  {
   "cell_type": "code",
   "execution_count": 4,
   "id": "a1989a53-4399-446f-94a0-5f3c4e1fbc9b",
   "metadata": {},
   "outputs": [
    {
     "name": "stdout",
     "output_type": "stream",
     "text": [
      "例外発生\n",
      "処理継続\n"
     ]
    }
   ],
   "source": [
    "try:\n",
    "    raise NameError('未定義')\n",
    "except NameError:\n",
    "    print('例外発生')\n",
    "print('処理継続')"
   ]
  },
  {
   "cell_type": "code",
   "execution_count": 1,
   "id": "72677bfb-ba83-4df0-a0dd-33b97933d37f",
   "metadata": {},
   "outputs": [
    {
     "name": "stdout",
     "output_type": "stream",
     "text": [
      "例外発生\n"
     ]
    },
    {
     "ename": "NameError",
     "evalue": "未定義",
     "output_type": "error",
     "traceback": [
      "\u001b[1;31m---------------------------------------------------------------------------\u001b[0m",
      "\u001b[1;31mNameError\u001b[0m                                 Traceback (most recent call last)",
      "Cell \u001b[1;32mIn[1], line 2\u001b[0m\n\u001b[0;32m      1\u001b[0m \u001b[38;5;28;01mtry\u001b[39;00m:\n\u001b[1;32m----> 2\u001b[0m     \u001b[38;5;28;01mraise\u001b[39;00m \u001b[38;5;167;01mNameError\u001b[39;00m(\u001b[38;5;124m'\u001b[39m\u001b[38;5;124m未定義\u001b[39m\u001b[38;5;124m'\u001b[39m)\n\u001b[0;32m      3\u001b[0m \u001b[38;5;28;01mexcept\u001b[39;00m \u001b[38;5;167;01mNameError\u001b[39;00m:\n\u001b[0;32m      4\u001b[0m     \u001b[38;5;28mprint\u001b[39m(\u001b[38;5;124m'\u001b[39m\u001b[38;5;124m例外発生\u001b[39m\u001b[38;5;124m'\u001b[39m)\n",
      "\u001b[1;31mNameError\u001b[0m: 未定義"
     ]
    }
   ],
   "source": [
    "try:\n",
    "    raise NameError('未定義')\n",
    "except NameError:\n",
    "    print('例外発生')\n",
    "    raise\n",
    "print('処理継続')\n",
    "# except節で発生した例外は処理されないため、プログラムが終了します。"
   ]
  },
  {
   "cell_type": "code",
   "execution_count": null,
   "id": "3ae4b530-331b-4d87-891b-354cb8f9fa6e",
   "metadata": {},
   "outputs": [],
   "source": []
  },
  {
   "cell_type": "code",
   "execution_count": 24,
   "id": "25bde5a2-1c66-4de4-ba8e-c8bd9998a135",
   "metadata": {},
   "outputs": [
    {
     "name": "stdout",
     "output_type": "stream",
     "text": [
      "0で割ることはできません。\n",
      "例外は発生しませんでした。\n"
     ]
    }
   ],
   "source": [
    "# func1()関数にraise文がなければ、例外が発生したことはtest()関数に伝達されません。\n",
    "def func1(x):\n",
    "    try:\n",
    "        return 1/x\n",
    "    except ZeroDivisionError:\n",
    "        print(\"0で割ることはできません。\")\n",
    "\n",
    "def test(x):\n",
    "    try:\n",
    "        x = func1(0)\n",
    "    except:\n",
    "        print(\"何らかの例外が発生しました。\")\n",
    "        raise\n",
    "    else:\n",
    "        print(\"例外は発生しませんでした。\")\n",
    "test(0)"
   ]
  },
  {
   "cell_type": "code",
   "execution_count": 2,
   "id": "b4b10673-62cf-453f-bf2e-618480358c31",
   "metadata": {},
   "outputs": [
    {
     "name": "stdout",
     "output_type": "stream",
     "text": [
      "0割りが発生しました。\n",
      "何らかの例外が発生しました。\n"
     ]
    },
    {
     "ename": "ZeroDivisionError",
     "evalue": "division by zero",
     "output_type": "error",
     "traceback": [
      "\u001b[1;31m---------------------------------------------------------------------------\u001b[0m",
      "\u001b[1;31mZeroDivisionError\u001b[0m                         Traceback (most recent call last)",
      "Cell \u001b[1;32mIn[2], line 16\u001b[0m\n\u001b[0;32m     14\u001b[0m     \u001b[38;5;28;01melse\u001b[39;00m:\n\u001b[0;32m     15\u001b[0m         \u001b[38;5;28mprint\u001b[39m(\u001b[38;5;124m\"\u001b[39m\u001b[38;5;124mこの関数では例外は発生しませんでした\u001b[39m\u001b[38;5;124m\"\u001b[39m)\n\u001b[1;32m---> 16\u001b[0m test(\u001b[38;5;241m0\u001b[39m)\n",
      "Cell \u001b[1;32mIn[2], line 10\u001b[0m, in \u001b[0;36mtest\u001b[1;34m(x)\u001b[0m\n\u001b[0;32m      8\u001b[0m \u001b[38;5;28;01mdef\u001b[39;00m \u001b[38;5;21mtest\u001b[39m(x):\n\u001b[0;32m      9\u001b[0m     \u001b[38;5;28;01mtry\u001b[39;00m:\n\u001b[1;32m---> 10\u001b[0m         x \u001b[38;5;241m=\u001b[39m func1(\u001b[38;5;241m0\u001b[39m)\n\u001b[0;32m     11\u001b[0m     \u001b[38;5;28;01mexcept\u001b[39;00m:\n\u001b[0;32m     12\u001b[0m         \u001b[38;5;28mprint\u001b[39m(\u001b[38;5;124m\"\u001b[39m\u001b[38;5;124m何らかの例外が発生しました。\u001b[39m\u001b[38;5;124m\"\u001b[39m)\n",
      "Cell \u001b[1;32mIn[2], line 3\u001b[0m, in \u001b[0;36mfunc1\u001b[1;34m(x)\u001b[0m\n\u001b[0;32m      1\u001b[0m \u001b[38;5;28;01mdef\u001b[39;00m \u001b[38;5;21mfunc1\u001b[39m(x):\n\u001b[0;32m      2\u001b[0m     \u001b[38;5;28;01mtry\u001b[39;00m:\n\u001b[1;32m----> 3\u001b[0m         \u001b[38;5;28;01mreturn\u001b[39;00m \u001b[38;5;241m1\u001b[39m\u001b[38;5;241m/\u001b[39mx\n\u001b[0;32m      4\u001b[0m     \u001b[38;5;28;01mexcept\u001b[39;00m \u001b[38;5;167;01mZeroDivisionError\u001b[39;00m:\n\u001b[0;32m      5\u001b[0m         \u001b[38;5;28mprint\u001b[39m(\u001b[38;5;124m\"\u001b[39m\u001b[38;5;124m0割りが発生しました。\u001b[39m\u001b[38;5;124m\"\u001b[39m)\n",
      "\u001b[1;31mZeroDivisionError\u001b[0m: division by zero"
     ]
    }
   ],
   "source": [
    "def func1(x):\n",
    "    try:\n",
    "        return 1/x\n",
    "    except ZeroDivisionError:\n",
    "        print(\"0割りが発生しました。\")\n",
    "        raise\n",
    "\n",
    "def test(x):\n",
    "    try:\n",
    "        x = func1(0)\n",
    "    except:\n",
    "        print(\"何らかの例外が発生しました。\")\n",
    "        raise\n",
    "    else:\n",
    "        print(\"この関数では例外は発生しませんでした\")\n",
    "test(0)"
   ]
  },
  {
   "cell_type": "code",
   "execution_count": null,
   "id": "9b631c59-ae73-4d97-a3e3-86fec33eb6f2",
   "metadata": {},
   "outputs": [],
   "source": []
  },
  {
   "cell_type": "code",
   "execution_count": 26,
   "id": "947ee992-a78c-4ca8-90f2-b371a629bc97",
   "metadata": {},
   "outputs": [
    {
     "name": "stdout",
     "output_type": "stream",
     "text": [
      "('spam', 'eggs')\n",
      "x = spam\n",
      "y = eggs\n"
     ]
    }
   ],
   "source": [
    "# 例外に渡された変数は、例外の中に保存され取り出すことができます。\n",
    "try:\n",
    "    raise Exception('spam', 'eggs')\n",
    "except Exception as inst:\n",
    "    print(inst.args)\n",
    "    x, y = inst.args\n",
    "    print('x =', x)\n",
    "    print('y =', y)"
   ]
  },
  {
   "cell_type": "code",
   "execution_count": 5,
   "id": "bd042473-0c51-4b49-b33f-dd73e24cd0ac",
   "metadata": {},
   "outputs": [
    {
     "name": "stdout",
     "output_type": "stream",
     "text": [
      "出力結果\n",
      "予期せぬ問題発生 Exception発生\n"
     ]
    }
   ],
   "source": [
    "print('出力結果')\n",
    "try:\n",
    "    raise Exception('開始前','Exception発生')\n",
    "    print('開始')\n",
    "except IOError as msg:\n",
    "    print('IOError発生',msg.args[0])\n",
    "except Exception as msg:\n",
    "    print('予期せぬ問題発生',msg.args[1])\n",
    "else:\n",
    "    print('else表示')"
   ]
  },
  {
   "cell_type": "code",
   "execution_count": null,
   "id": "f8f44b35-5e95-4dba-b94d-b1ed5fec66d0",
   "metadata": {},
   "outputs": [],
   "source": []
  },
  {
   "cell_type": "code",
   "execution_count": 11,
   "id": "d544cef9-1af2-42db-983a-27f9a1796ae8",
   "metadata": {},
   "outputs": [
    {
     "name": "stdout",
     "output_type": "stream",
     "text": [
      "B\n",
      "D\n"
     ]
    }
   ],
   "source": [
    "def func():\n",
    "    try:\n",
    "        a = b\n",
    "        print('A')\n",
    "    except Exception:\n",
    "        print('B')\n",
    "    else:\n",
    "        print('C')\n",
    "    finally:\n",
    "        print('D')\n",
    "func()\n",
    "# finally節は、try節で例外が発生しても発生しなくても必ず実行されます。"
   ]
  },
  {
   "cell_type": "code",
   "execution_count": 10,
   "id": "72ff08cb-e565-4f74-a65f-57fd7b979f11",
   "metadata": {},
   "outputs": [
    {
     "name": "stdout",
     "output_type": "stream",
     "text": [
      "A\n",
      "C\n",
      "D\n"
     ]
    }
   ],
   "source": [
    "def func():\n",
    "    try:\n",
    "        a = 'a'\n",
    "        print('A')\n",
    "    except Exception:\n",
    "        print('B')\n",
    "    else:\n",
    "        print('C')\n",
    "    finally:\n",
    "        print('D')\n",
    "func()"
   ]
  },
  {
   "cell_type": "code",
   "execution_count": 15,
   "id": "742ab7f0-e192-41c9-a6c1-4bd8b24bd642",
   "metadata": {},
   "outputs": [
    {
     "name": "stdout",
     "output_type": "stream",
     "text": [
      "IndexError\n",
      "処理終了\n"
     ]
    },
    {
     "ename": "IndexError",
     "evalue": "list index out of range",
     "output_type": "error",
     "traceback": [
      "\u001b[1;31m---------------------------------------------------------------------------\u001b[0m",
      "\u001b[1;31mIndexError\u001b[0m                                Traceback (most recent call last)",
      "Cell \u001b[1;32mIn[15], line 3\u001b[0m\n\u001b[0;32m      1\u001b[0m \u001b[38;5;28mlist\u001b[39m \u001b[38;5;241m=\u001b[39m []\n\u001b[0;32m      2\u001b[0m \u001b[38;5;28;01mtry\u001b[39;00m:\n\u001b[1;32m----> 3\u001b[0m     number \u001b[38;5;241m=\u001b[39m \u001b[38;5;28mlist\u001b[39m[\u001b[38;5;241m-\u001b[39m\u001b[38;5;241m1\u001b[39m]\n\u001b[0;32m      4\u001b[0m     \u001b[38;5;28mprint\u001b[39m(\u001b[38;5;124m'\u001b[39m\u001b[38;5;124ma\u001b[39m\u001b[38;5;124m'\u001b[39m)\n\u001b[0;32m      5\u001b[0m \u001b[38;5;28;01mexcept\u001b[39;00m \u001b[38;5;167;01mZeroDivisionError\u001b[39;00m:\n",
      "\u001b[1;31mIndexError\u001b[0m: list index out of range"
     ]
    }
   ],
   "source": [
    "list = []\n",
    "try:\n",
    "    number = list[-1]\n",
    "    print('a')\n",
    "except ZeroDivisionError:\n",
    "    print('ZeroDivisionError')\n",
    "except IndexError:\n",
    "    print('IndexError')\n",
    "    raise\n",
    "finally:\n",
    "    print('処理終了')"
   ]
  }
 ],
 "metadata": {
  "kernelspec": {
   "display_name": "Python 3 (ipykernel)",
   "language": "python",
   "name": "python3"
  },
  "language_info": {
   "codemirror_mode": {
    "name": "ipython",
    "version": 3
   },
   "file_extension": ".py",
   "mimetype": "text/x-python",
   "name": "python",
   "nbconvert_exporter": "python",
   "pygments_lexer": "ipython3",
   "version": "3.11.7"
  }
 },
 "nbformat": 4,
 "nbformat_minor": 5
}
