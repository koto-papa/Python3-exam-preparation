{
 "cells": [
  {
   "cell_type": "markdown",
   "id": "d89e61c9-b662-40b2-8726-c919de4f4f77",
   "metadata": {},
   "source": [
    "# if文について"
   ]
  },
  {
   "cell_type": "code",
   "execution_count": null,
   "id": "e614516d-be20-4c7d-bfa8-bd7e6f0c44fe",
   "metadata": {},
   "outputs": [],
   "source": [
    "# if 条件式1:\n",
    "    # 条件式1が真の時に実行する文\n",
    "    # ...\n",
    "# elif 条件式2:\n",
    "    条件式1が偽で条件式2が真の時に実行する文\n",
    "    # ...\n",
    "# elif 条件式3:\n",
    "    # 条件式1及び条件式2が偽で条件式3が真の時に実行する文\n",
    "    # ...\n",
    "# else:\n",
    "    # すべての条件式が偽のときに実行する文\n",
    "    # ..."
   ]
  },
  {
   "cell_type": "code",
   "execution_count": 13,
   "id": "f2943635-7e67-4786-81be-65302afb5047",
   "metadata": {},
   "outputs": [
    {
     "name": "stdout",
     "output_type": "stream",
     "text": [
      "店員：「お会計は、340円です。」\n"
     ]
    }
   ],
   "source": [
    "has_cheese = True\n",
    "if has_cheese:\n",
    "    print('店員：「お会計は、340円です。」')"
   ]
  },
  {
   "cell_type": "code",
   "execution_count": 6,
   "id": "d3cfd054-d614-424d-8b38-17a393c46be1",
   "metadata": {},
   "outputs": [],
   "source": [
    "has_cheese = False\n",
    "if has_cheese:\n",
    "    print('店員：「お会計は、340円です。」')\n",
    "# Falseの場合はif文の中のブロックコードは実行されない"
   ]
  },
  {
   "cell_type": "code",
   "execution_count": 4,
   "id": "0f026ef6-0228-4323-a49c-60b62c50b7b4",
   "metadata": {},
   "outputs": [
    {
     "name": "stdout",
     "output_type": "stream",
     "text": [
      "店員：「お会計は、240円です。」\n"
     ]
    }
   ],
   "source": [
    "has_cheese = False\n",
    "if has_cheese:\n",
    "    print('店員：「お会計は、340円です。」')\n",
    "else:\n",
    "    print('店員：「お会計は、240円です。」')"
   ]
  },
  {
   "cell_type": "markdown",
   "id": "178973cb-820c-49e5-9760-0de39cebe953",
   "metadata": {},
   "source": [
    "TrueやFalseといった真偽値はブーリアン型（boolean）と呼ばれるデータ型"
   ]
  },
  {
   "cell_type": "code",
   "execution_count": 8,
   "id": "1adc522d-744f-41a4-895c-eb6504b126b1",
   "metadata": {},
   "outputs": [
    {
     "name": "stdout",
     "output_type": "stream",
     "text": [
      "店員：「お会計は、490円です。」\n"
     ]
    }
   ],
   "source": [
    "has_cheese = True\n",
    "has_tomato = True\n",
    "if has_cheese and has_tomato:\n",
    "    print('店員：「お会計は、490円です。」')\n",
    "elif has_cheese:\n",
    "    print('店員：「お会計は、340円です。」')\n",
    "elif has_tomato:\n",
    "    print('店員：「お会計は、390円です。」')\n",
    "else:\n",
    "    print('店員：「お会計は240円です。」')"
   ]
  },
  {
   "cell_type": "code",
   "execution_count": 9,
   "id": "a5ce11d9-65c7-482d-b4d7-d99227c15b5e",
   "metadata": {},
   "outputs": [
    {
     "name": "stdout",
     "output_type": "stream",
     "text": [
      "店員：「お会計は、340円です。」\n"
     ]
    }
   ],
   "source": [
    "has_cheese = True\n",
    "has_tomato = True\n",
    "if has_cheese:\n",
    "    print('店員：「お会計は、340円です。」')\n",
    "elif has_cheese and has_tomato:\n",
    "    print('店員：「お会計は、490円です。」')\n",
    "elif has_tomato:\n",
    "    print('店員：「お会計は、390円です。」')\n",
    "else:\n",
    "    print('店員：「お会計は240円です。」')"
   ]
  },
  {
   "cell_type": "code",
   "execution_count": null,
   "id": "5a6be5b8-981b-4586-886a-1e2202190254",
   "metadata": {},
   "outputs": [],
   "source": []
  },
  {
   "cell_type": "code",
   "execution_count": 4,
   "id": "d8ea09fb-8ddc-40ef-8724-b9e90b9b0608",
   "metadata": {},
   "outputs": [
    {
     "name": "stdout",
     "output_type": "stream",
     "text": [
      "aとbは等しい\n"
     ]
    }
   ],
   "source": [
    "a=20\n",
    "b=20\n",
    "if a<b:\n",
    "    print('aはbより小さい')\n",
    "elif a==b:\n",
    "    print('aとbは等しい')\n",
    "else:\n",
    "    print('aはbより大きい')"
   ]
  },
  {
   "cell_type": "code",
   "execution_count": 5,
   "id": "d8577c46-9526-4b80-bb8f-7fd56c3d3f11",
   "metadata": {},
   "outputs": [
    {
     "name": "stdout",
     "output_type": "stream",
     "text": [
      "aはbより小さい\n"
     ]
    },
    {
     "data": {
      "text/plain": [
       "30"
      ]
     },
     "execution_count": 5,
     "metadata": {},
     "output_type": "execute_result"
    }
   ],
   "source": [
    "a=10\n",
    "b=20\n",
    "if a<b:\n",
    "    print('aはbより小さい')\n",
    "a+b "
   ]
  },
  {
   "cell_type": "code",
   "execution_count": 8,
   "id": "6c75d77a-3d5a-423f-906c-2e0addb11e1c",
   "metadata": {},
   "outputs": [
    {
     "name": "stdout",
     "output_type": "stream",
     "text": [
      "a\n",
      "b\n",
      "e\n"
     ]
    }
   ],
   "source": [
    "x = 10\n",
    "if x == 10:\n",
    "    print('a')\n",
    "    if x <= 10:\n",
    "        print('b')\n",
    "        if x > 10:\n",
    "            print('c')\n",
    "            if x >= 10:\n",
    "                print('d')\n",
    "print('e')\n",
    "# ネストされたif文は、条件を満たす限り次のif節に進んで処理が実行されます。\n",
    "# 条件が満たされなかった時点でif文を抜けます。"
   ]
  },
  {
   "cell_type": "code",
   "execution_count": 11,
   "id": "f685834f-b3ca-4ff9-9ea5-6d35f8284c41",
   "metadata": {},
   "outputs": [
    {
     "name": "stdout",
     "output_type": "stream",
     "text": [
      "a\n",
      "b\n",
      "e\n",
      "f\n"
     ]
    }
   ],
   "source": [
    "x = 10\n",
    "if x == 10:\n",
    "    print('a')\n",
    "    if x <= 10:\n",
    "        print('b')\n",
    "        if x > 10:\n",
    "            print('c')\n",
    "            if x >= 10:\n",
    "                print('d')\n",
    "        else:\n",
    "            print('e')\n",
    "print('f')"
   ]
  },
  {
   "cell_type": "code",
   "execution_count": 1,
   "id": "e7257c47-8371-4bde-99aa-4a3521a488e4",
   "metadata": {},
   "outputs": [
    {
     "name": "stdout",
     "output_type": "stream",
     "text": [
      "a\n",
      "b\n",
      "e\n",
      "d\n"
     ]
    }
   ],
   "source": [
    "x = 10\n",
    "if x == 10:\n",
    "    print('a')\n",
    "    if x <= 10:\n",
    "        print('b')\n",
    "        if x > 10:\n",
    "            print('c')\n",
    "        elif x == 10:\n",
    "            print('e')\n",
    "            if x >= 10:\n",
    "                print('d')\n",
    "else:\n",
    "    print('f')"
   ]
  },
  {
   "cell_type": "code",
   "execution_count": null,
   "id": "416776e7-44f1-4f38-8de5-9d6eb16444fd",
   "metadata": {},
   "outputs": [],
   "source": []
  },
  {
   "cell_type": "code",
   "execution_count": 11,
   "id": "c0ea2c68-74bb-45c9-bfb1-e98c5ba32c21",
   "metadata": {},
   "outputs": [
    {
     "name": "stdout",
     "output_type": "stream",
     "text": [
      "「ハンバーガーAは、トマトバーガーです。」\n"
     ]
    }
   ],
   "source": [
    "humbargerA_price = 400\n",
    "humbargerB_price = 340\n",
    "humbargerC_price = 450\n",
    "if humbargerA_price < humbargerB_price and humbargerA_price < humbargerC_price:\n",
    "    print('「ハンバーガーAは、チーズバーガーです。」')\n",
    "elif humbargerA_price > humbargerB_price and humbargerA_price > humbargerC_price:\n",
    "    print('「ハンバーガーAは、チーズトマトバーガーです。」')\n",
    "else:\n",
    "    print('「ハンバーガーAは、トマトバーガーです。」')"
   ]
  },
  {
   "cell_type": "code",
   "execution_count": 12,
   "id": "e8476657-25ae-4814-8da1-45f54ff6d41c",
   "metadata": {},
   "outputs": [
    {
     "name": "stdout",
     "output_type": "stream",
     "text": [
      "「ハンバーガーAは、チーズトマトバーガーです。」\n"
     ]
    }
   ],
   "source": [
    "humbargerA_price = 500\n",
    "humbargerB_price = 340\n",
    "humbargerC_price = 450\n",
    "if humbargerA_price < humbargerB_price and humbargerA_price < humbargerC_price:\n",
    "    print('「ハンバーガーAは、チーズバーガーです。」')\n",
    "elif humbargerA_price > humbargerB_price and humbargerA_price > humbargerC_price:\n",
    "    print('「ハンバーガーAは、チーズトマトバーガーです。」')\n",
    "else:\n",
    "    print('「ハンバーガーAは、トマトバーガーです。」')"
   ]
  },
  {
   "cell_type": "code",
   "execution_count": null,
   "id": "8023e076-00b3-45c1-a01b-55404663db15",
   "metadata": {},
   "outputs": [],
   "source": []
  },
  {
   "cell_type": "markdown",
   "id": "8fd55b88-fd95-4ad1-9a11-2e24bcde40e8",
   "metadata": {},
   "source": [
    "演算子は、数値演算子 > 比較演算子 > ブール演算子の順で評価されます。\n",
    "<br>\n",
    "なお、かっこ()を使用していた場合、これが最優先で評価されます。\n",
    "<br>\n",
    "また、ブール演算子にも評価の優先順位が存在し、not > and > or の順で評価されます。\r",
    "<br>\n",
    "つまり、以下の優先順位で評価されます。\n",
    "<br>\r",
    "数値演算子 > 比較演算子 > not > and > or"
   ]
  },
  {
   "cell_type": "code",
   "execution_count": null,
   "id": "5df7a7a9-88df-4322-bc2b-4027d9381f7d",
   "metadata": {},
   "outputs": [],
   "source": []
  },
  {
   "cell_type": "markdown",
   "id": "ca8ff9ed-28e5-4952-93c9-73fd7bbb0cca",
   "metadata": {},
   "source": [
    "# for文について"
   ]
  },
  {
   "cell_type": "code",
   "execution_count": null,
   "id": "692febb7-27db-46d1-b063-2f388a635a9b",
   "metadata": {},
   "outputs": [],
   "source": [
    "# for 変数名 in イテラブルオブジェクト:\n",
    "    # 繰り返したい処理\n",
    "# else:\n",
    "    # 実行したい処理\n",
    "\n",
    "# for文のelse節はif文のelse節と違い、for文のループ処理が終了した後にelse節が実行されます。"
   ]
  },
  {
   "cell_type": "code",
   "execution_count": 14,
   "id": "ee18f2a6-dcf1-45ea-98d2-d066d49b5b35",
   "metadata": {},
   "outputs": [
    {
     "name": "stdout",
     "output_type": "stream",
     "text": [
      "fried_chicken\n",
      "potato\n",
      "nugget\n"
     ]
    }
   ],
   "source": [
    "order = ['fried_chicken',  'potato', 'nugget']\n",
    "for food in order:\n",
    "    print(food)"
   ]
  },
  {
   "cell_type": "code",
   "execution_count": 4,
   "id": "2e9d9141-e610-438b-b344-e03f344e4cc6",
   "metadata": {},
   "outputs": [
    {
     "name": "stdout",
     "output_type": "stream",
     "text": [
      "1:こんにちは\n",
      "2:こんにちは\n",
      "3:こんにちは\n",
      "4:こんにちは\n",
      "5:こんにちは\n"
     ]
    }
   ],
   "source": [
    "List=[1,2,3,4,5]\n",
    "for i in List:\n",
    "    print(f'{i}:こんにちは')"
   ]
  },
  {
   "cell_type": "code",
   "execution_count": 6,
   "id": "20a181b7-f32a-4328-95fe-68475b3f84d2",
   "metadata": {},
   "outputs": [
    {
     "name": "stdout",
     "output_type": "stream",
     "text": [
      "1:こんにちは,2:こんにちは,3:こんにちは,4:こんにちは,5:こんにちは,"
     ]
    }
   ],
   "source": [
    "List=[1,2,3,4,5]\n",
    "for i in List:\n",
    "    print(f'{i}:こんにちは', end=',')\n",
    "# endのキーワード引数を使うと、print文の末尾の改行を抑制し、改行を他の文字に変更することができます。"
   ]
  },
  {
   "cell_type": "code",
   "execution_count": 9,
   "id": "943a90d5-e7a6-4925-bb72-dfb08493efc0",
   "metadata": {},
   "outputs": [
    {
     "name": "stdout",
     "output_type": "stream",
     "text": [
      "1:こんにちは,2:こんにちは,3:こんにちは,4:こんにちは,5:こんにちは,言いすぎやろ\n"
     ]
    }
   ],
   "source": [
    "List=[1,2,3,4,5]\n",
    "for i in List:\n",
    "    print(f'{i}:こんにちは', end=',')\n",
    "else:\n",
    "    print('言いすぎやろ')"
   ]
  },
  {
   "cell_type": "code",
   "execution_count": null,
   "id": "7f87d438-f40c-4af4-b7fc-82acbb4f1a4c",
   "metadata": {},
   "outputs": [],
   "source": []
  },
  {
   "cell_type": "code",
   "execution_count": 15,
   "id": "e1d4eb9a-b2fb-4d4c-8c74-6f4d09dc3f48",
   "metadata": {},
   "outputs": [
    {
     "name": "stdout",
     "output_type": "stream",
     "text": [
      "['abs', 'aiter', 'all', 'anext', 'any', 'ascii', 'bin', 'bool', 'breakpoint', 'bytearray', 'bytes', 'callable', 'chr', 'classmethod', 'compile', 'complex', 'copyright', 'credits', 'delattr', 'dict', 'dir', 'display', 'divmod', 'enumerate', 'eval', 'exec', 'execfile', 'filter', 'float', 'format', 'frozenset', 'get_ipython', 'getattr', 'globals', 'hasattr', 'hash', 'help', 'hex', 'id', 'input', 'int', 'isinstance', 'issubclass', 'iter', 'len', 'license', 'list', 'locals', 'map', 'max', 'memoryview', 'min', 'next', 'object', 'oct', 'open', 'ord', 'pow', 'print', 'property', 'range', 'repr', 'reversed', 'round', 'runfile', 'set', 'setattr', 'slice', 'sorted', 'staticmethod', 'str', 'sum', 'super', 'tuple', 'type', 'vars', 'zip']\n"
     ]
    }
   ],
   "source": [
    "# list()のように、あらかじめ用意されている関数を組み込み関数（ビルトイン関数）と言う\n",
    "print([s for s in dir(__builtins__) if s.islower() and not s.startswith('_')])"
   ]
  },
  {
   "cell_type": "code",
   "execution_count": 17,
   "id": "724df8ee-9f44-460a-a30e-e704439a4d74",
   "metadata": {},
   "outputs": [
    {
     "name": "stdout",
     "output_type": "stream",
     "text": [
      "77\n"
     ]
    }
   ],
   "source": [
    "# 実行環境によって組み込み関数の数は異なる\n",
    "print(len([s for s in dir(__builtins__) if s.islower() and not s.startswith('_')]))"
   ]
  },
  {
   "cell_type": "markdown",
   "id": "40be8da2-52ac-46f0-bfd6-aa428d49422d",
   "metadata": {},
   "source": [
    "Pythonにはlist()という関数があらかじめ用意されているため、\n",
    "listという名前を使って変数を定義した場合、list()関数が使用できなくなります。\n",
    "したがって、変数名にlistを用いることは避けましょう。"
   ]
  },
  {
   "cell_type": "code",
   "execution_count": null,
   "id": "43c2c2ed-6585-4b11-b679-e1450d0b5506",
   "metadata": {},
   "outputs": [],
   "source": []
  },
  {
   "cell_type": "code",
   "execution_count": 18,
   "id": "6b5d1dcf-c41f-4ed9-a753-b88ece2eb3fd",
   "metadata": {},
   "outputs": [
    {
     "data": {
      "text/plain": [
       "range(0, 5)"
      ]
     },
     "execution_count": 18,
     "metadata": {},
     "output_type": "execute_result"
    }
   ],
   "source": [
    "range(5)"
   ]
  },
  {
   "cell_type": "code",
   "execution_count": 22,
   "id": "4dc56487-ddb9-44c7-9771-ebb84b9f2e3f",
   "metadata": {},
   "outputs": [
    {
     "data": {
      "text/plain": [
       "[0, 1, 2, 3, 4]"
      ]
     },
     "execution_count": 22,
     "metadata": {},
     "output_type": "execute_result"
    }
   ],
   "source": [
    "list(range(5))"
   ]
  },
  {
   "cell_type": "code",
   "execution_count": 7,
   "id": "ba905714-2b13-4d6c-9927-b863a0447176",
   "metadata": {},
   "outputs": [
    {
     "data": {
      "text/plain": [
       "[0, 1, 2, 3, 4]"
      ]
     },
     "execution_count": 7,
     "metadata": {},
     "output_type": "execute_result"
    }
   ],
   "source": [
    "list(range(0, 5))"
   ]
  },
  {
   "cell_type": "code",
   "execution_count": 9,
   "id": "c2216fae-4842-410f-b041-ba67e4e1d161",
   "metadata": {},
   "outputs": [
    {
     "data": {
      "text/plain": [
       "[0, 2, 4]"
      ]
     },
     "execution_count": 9,
     "metadata": {},
     "output_type": "execute_result"
    }
   ],
   "source": [
    "list(range(0, 5, 2))"
   ]
  },
  {
   "cell_type": "code",
   "execution_count": 3,
   "id": "49a4c76b-be9b-4a5c-8043-0ceb999c72b4",
   "metadata": {},
   "outputs": [
    {
     "name": "stdout",
     "output_type": "stream",
     "text": [
      "range(0, 5)\n",
      "0\n",
      "[0, 1, 2, 3, 4]\n",
      "0\n"
     ]
    }
   ],
   "source": [
    "print(range(5))\n",
    "print(range(5)[0])\n",
    "print(list(range(5)))\n",
    "print(list(range(5))[0])"
   ]
  },
  {
   "cell_type": "code",
   "execution_count": 21,
   "id": "8fd371af-7485-48a2-a3fc-3d1ed791321b",
   "metadata": {},
   "outputs": [
    {
     "name": "stdout",
     "output_type": "stream",
     "text": [
      "0\n",
      "1\n",
      "2\n",
      "3\n",
      "4\n"
     ]
    }
   ],
   "source": [
    "for i in range(5):\n",
    "    print(i)"
   ]
  },
  {
   "cell_type": "code",
   "execution_count": 2,
   "id": "daa2fbb2-5131-47a5-937d-0ffa182ce26d",
   "metadata": {},
   "outputs": [
    {
     "name": "stdout",
     "output_type": "stream",
     "text": [
      "4\n",
      "3\n",
      "2\n",
      "1\n",
      "0\n"
     ]
    }
   ],
   "source": [
    "for i in reversed(range(5)):\n",
    "    print(i)"
   ]
  },
  {
   "cell_type": "code",
   "execution_count": 2,
   "id": "ffe4ae74-3373-4261-bffb-8a54f8cefaa9",
   "metadata": {},
   "outputs": [
    {
     "name": "stdout",
     "output_type": "stream",
     "text": [
      "1\n",
      "2\n",
      "3\n",
      "4\n",
      "5\n"
     ]
    }
   ],
   "source": [
    "List=[1,2,3,4,5]\n",
    "for i in range(0,5):\n",
    "    print(List[i])"
   ]
  },
  {
   "cell_type": "code",
   "execution_count": 3,
   "id": "cba24114-ac27-4425-994b-23d4e9e7baf4",
   "metadata": {},
   "outputs": [
    {
     "name": "stdout",
     "output_type": "stream",
     "text": [
      "1\n",
      "2\n",
      "3\n",
      "4\n",
      "5\n",
      "6\n"
     ]
    }
   ],
   "source": [
    "List=[1,2,3,4,5,6]\n",
    "for i in range(len(List)):\n",
    "    print(List[i])"
   ]
  },
  {
   "cell_type": "code",
   "execution_count": 4,
   "id": "badbb341-56dc-4454-90c3-a7a3b6bf5c7c",
   "metadata": {},
   "outputs": [
    {
     "name": "stdout",
     "output_type": "stream",
     "text": [
      "0 1\n",
      "1 2\n",
      "2 3\n",
      "3 4\n",
      "4 5\n",
      "5 6\n"
     ]
    }
   ],
   "source": [
    "List=[1,2,3,4,5,6]\n",
    "for i,j in enumerate(List):\n",
    "    print(i,j)"
   ]
  },
  {
   "cell_type": "code",
   "execution_count": null,
   "id": "5e8294a4-b71f-469c-a6c2-9e84ddef3a48",
   "metadata": {},
   "outputs": [],
   "source": []
  },
  {
   "cell_type": "code",
   "execution_count": 28,
   "id": "3ae4eac1-ed17-4e9d-819d-5e7ceada89fe",
   "metadata": {},
   "outputs": [
    {
     "name": "stdout",
     "output_type": "stream",
     "text": [
      "フライドチキン は 300 円です\n",
      "フライドチキン は 300 円です\n"
     ]
    }
   ],
   "source": [
    "menu_list = ['フライドチキン', 'ハンバーガー', 'ポテト', 'チキンナゲット']\n",
    "price_list = [300, 240, 230, 250]\n",
    "print(menu_list[0], 'は', price_list[0], '円です')\n",
    "print('{} は {} 円です'.format(menu_list[0],price_list[0]))"
   ]
  },
  {
   "cell_type": "code",
   "execution_count": 29,
   "id": "98c193d1-f688-4ba2-aa3f-88f9297ca0c9",
   "metadata": {},
   "outputs": [
    {
     "name": "stdout",
     "output_type": "stream",
     "text": [
      "0 フライドチキン\n",
      "1 ハンバーガー\n",
      "2 ポテト\n",
      "3 チキンナゲット\n"
     ]
    }
   ],
   "source": [
    "menu_list = ['フライドチキン', 'ハンバーガー', 'ポテト', 'チキンナゲット']\n",
    "price_list = [300, 240, 230, 250]\n",
    "for i in range(len(menu_list)):\n",
    "    print(i, menu_list[i])"
   ]
  },
  {
   "cell_type": "code",
   "execution_count": 30,
   "id": "54e599a1-f220-4c61-affa-7b48f918ebc2",
   "metadata": {},
   "outputs": [
    {
     "name": "stdout",
     "output_type": "stream",
     "text": [
      "フライドチキン は 300 円です\n",
      "ハンバーガー は 240 円です\n",
      "ポテト は 230 円です\n",
      "チキンナゲット は 250 円です\n"
     ]
    }
   ],
   "source": [
    "menu_list = ['フライドチキン', 'ハンバーガー', 'ポテト', 'チキンナゲット']\n",
    "price_list = [300, 240, 230, 250]\n",
    "for i in range(len(menu_list)):\n",
    "    print(menu_list[i], 'は', price_list[i], '円です')"
   ]
  },
  {
   "cell_type": "code",
   "execution_count": 31,
   "id": "56eab594-b965-4a95-b5d5-e0d49eaec01e",
   "metadata": {},
   "outputs": [
    {
     "name": "stdout",
     "output_type": "stream",
     "text": [
      "0 フライドチキン\n",
      "1 ハンバーガー\n",
      "2 ポテト\n",
      "3 チキンナゲット\n"
     ]
    }
   ],
   "source": [
    "menu_list = ['フライドチキン', 'ハンバーガー', 'ポテト', 'チキンナゲット']\n",
    "for i , item in enumerate(menu_list):\n",
    "    print(i, item)"
   ]
  },
  {
   "cell_type": "code",
   "execution_count": 32,
   "id": "b8c29ef5-3681-49ae-97dd-7676ddb83d83",
   "metadata": {},
   "outputs": [
    {
     "name": "stdout",
     "output_type": "stream",
     "text": [
      "フライドチキン\n",
      "ポテト\n",
      "チキンナゲット\n"
     ]
    }
   ],
   "source": [
    "order = ['フライドチキン',  'ポテト', 'チキンナゲット']\n",
    "menu_list = ['フライドチキン', 'ハンバーガー', 'ポテト', 'チキンナゲット']\n",
    "for food in order:\n",
    "    for item in menu_list:\n",
    "         if item == food:\n",
    "            print(item)"
   ]
  },
  {
   "cell_type": "code",
   "execution_count": 33,
   "id": "3e2dad6c-a142-4acf-8091-0fbc7ae1ff30",
   "metadata": {},
   "outputs": [
    {
     "name": "stdout",
     "output_type": "stream",
     "text": [
      "フライドチキン 300 円\n",
      "ポテト 230 円\n",
      "チキンナゲット 250 円\n"
     ]
    }
   ],
   "source": [
    "order = ['フライドチキン',  'ポテト', 'チキンナゲット']\n",
    "menu_list = ['フライドチキン', 'ハンバーガー', 'ポテト', 'チキンナゲット']\n",
    "price_list = [300, 240, 230, 250]\n",
    "for food in order:\n",
    "    for i , item in enumerate(menu_list):\n",
    "        if item == food:\n",
    "            print(item, price_list[i], '円')"
   ]
  },
  {
   "cell_type": "code",
   "execution_count": 35,
   "id": "7f6d62c2-1e84-4fd1-91f5-a0ea28cca62e",
   "metadata": {},
   "outputs": [
    {
     "name": "stdout",
     "output_type": "stream",
     "text": [
      "「お会計は 780 円です。」\n"
     ]
    }
   ],
   "source": [
    "order = ['フライドチキン',  'ポテト', 'チキンナゲット']\n",
    "menu_list = ['フライドチキン', 'ハンバーガー', 'ポテト', 'チキンナゲット']\n",
    "price_list = [300, 240, 230, 250]\n",
    "total = 0\n",
    "for food in order:\n",
    "    for i , item in enumerate(menu_list):\n",
    "        if item == food:\n",
    "            total = total + price_list[i]\n",
    "print('「お会計は', total, '円です。」')\n",
    "# a = a + 1という式は、a += 1のように記述できる"
   ]
  },
  {
   "cell_type": "code",
   "execution_count": 38,
   "id": "22bf3789-2c28-416e-a5d3-bcec7676f071",
   "metadata": {},
   "outputs": [
    {
     "name": "stdout",
     "output_type": "stream",
     "text": [
      "1 人目：\n",
      "「お会計は 780 円です。」\n",
      "\n",
      "2 人目：\n",
      "「お会計は 1310 円です。」\n",
      "\n",
      "3 人目：\n",
      "「お会計は 1790 円です。」\n",
      "\n"
     ]
    }
   ],
   "source": [
    "order_lists = [['fried_chicken', 'potato', 'nugget'], ['fried_chicken', 'potato'], ['hamburger']*2]\n",
    "menu_list = ['fried_chicken', 'hamburger', 'potato', 'nugget']\n",
    "price_list = [300, 240, 230, 250]\n",
    "for num, order in enumerate(order_lists):\n",
    "    total = 0\n",
    "    for food in order:\n",
    "        for i, item in enumerate(menu_list):\n",
    "            if item == food:\n",
    "                total += price_list[i]\n",
    "    print(num+1, '人目：\\n「お会計は', total, '円です。」\\n')"
   ]
  },
  {
   "cell_type": "code",
   "execution_count": null,
   "id": "22aa5136-4970-4b01-a685-8b2f92894d11",
   "metadata": {},
   "outputs": [],
   "source": []
  },
  {
   "cell_type": "code",
   "execution_count": 4,
   "id": "5e72e601-650e-449c-9b5a-3abea2faf014",
   "metadata": {},
   "outputs": [
    {
     "name": "stdout",
     "output_type": "stream",
     "text": [
      "['kiwi', 'apple', 'kiwi', 'plum']\n",
      "['kiwi', 'apple', 'kiwi']\n",
      "['plum', 'kiwi', 'apple', 'kiwi']\n",
      "['plum', 'kiwi', 'apple']\n"
     ]
    }
   ],
   "source": [
    "fruits = ['apple', 'kiwi', 'plum']\n",
    "for f in fruits[:]:\n",
    "    if len(f) < 5:\n",
    "        fruits.insert(0, f)\n",
    "        print(fruits)\n",
    "        fruits.pop()\n",
    "        print(fruits)"
   ]
  },
  {
   "cell_type": "code",
   "execution_count": null,
   "id": "cb122ca7-9319-410f-9420-d44315847c6e",
   "metadata": {},
   "outputs": [],
   "source": []
  },
  {
   "cell_type": "code",
   "execution_count": 1,
   "id": "e6bbc47d-1fd0-4ff0-8057-0e75d5c6246a",
   "metadata": {},
   "outputs": [
    {
     "data": {
      "text/plain": [
       "[1, 2, 3, 4, 5, 6, 7, 8, 9]"
      ]
     },
     "execution_count": 1,
     "metadata": {},
     "output_type": "execute_result"
    }
   ],
   "source": [
    "sample_0 = []\n",
    "for x in range(1, 10):\n",
    "    sample_0.append(x)\n",
    "sample_0"
   ]
  },
  {
   "cell_type": "code",
   "execution_count": 2,
   "id": "0c527538-1d5b-41cc-b447-c4b93c08a487",
   "metadata": {},
   "outputs": [
    {
     "data": {
      "text/plain": [
       "[1, 2, 3, 4, 5, 6, 7, 8, 9]"
      ]
     },
     "execution_count": 2,
     "metadata": {},
     "output_type": "execute_result"
    }
   ],
   "source": [
    "# リスト内包表記 [処理 for 変数 in 要素の集まり]\n",
    "sample1 = [x for x in range(1,10)]\n",
    "sample1"
   ]
  },
  {
   "cell_type": "code",
   "execution_count": 3,
   "id": "a9922390-b536-4d69-85b5-bd3bf663876a",
   "metadata": {},
   "outputs": [
    {
     "data": {
      "text/plain": [
       "[1, 4, 9, 16, 25, 36, 49, 64, 81]"
      ]
     },
     "execution_count": 3,
     "metadata": {},
     "output_type": "execute_result"
    }
   ],
   "source": [
    "sample2 = [x**2 for x in range(1, 10)]\n",
    "sample2"
   ]
  },
  {
   "cell_type": "code",
   "execution_count": 4,
   "id": "e8986591-94f1-4b7d-9438-fff4821de739",
   "metadata": {},
   "outputs": [
    {
     "data": {
      "text/plain": [
       "[180, 210, 240]"
      ]
     },
     "execution_count": 4,
     "metadata": {},
     "output_type": "execute_result"
    }
   ],
   "source": [
    "# [処理 for 変数 in 要素の集まり if 条件式]\n",
    "test_score = [30, 60, 70, 40, 80]\n",
    "three_times_list = [3*x for x in test_score if x >= 60]\n",
    "three_times_list"
   ]
  },
  {
   "cell_type": "code",
   "execution_count": null,
   "id": "1ffbe05e-83d8-4b93-bd5a-7f70512d2107",
   "metadata": {},
   "outputs": [],
   "source": []
  },
  {
   "cell_type": "code",
   "execution_count": 2,
   "id": "a948f0f6-bc98-4918-8e5a-0fc3f379b1fd",
   "metadata": {},
   "outputs": [
    {
     "name": "stdout",
     "output_type": "stream",
     "text": [
      "dive 飛び込む、熱中する\n",
      "into 〜の中へ, 〜の中に\n",
      "code コード、プログラム\n"
     ]
    }
   ],
   "source": [
    "en_words = [\"dive\", \"into\", \"code\"]\n",
    "jp_words = [\"飛び込む、熱中する\", \"〜の中へ, 〜の中に\", \"コード、プログラム\"]\n",
    "for en, jp in zip(en_words, jp_words):\n",
    "    print(en, jp)"
   ]
  },
  {
   "cell_type": "code",
   "execution_count": 10,
   "id": "7ebb5371-92f6-4bd3-89ea-06b850e15fad",
   "metadata": {},
   "outputs": [
    {
     "name": "stdout",
     "output_type": "stream",
     "text": [
      "1 dive 飛び込む、熱中する\n",
      "2 into 〜の中へ、 〜の中に\n",
      "3 code コード、プログラム\n"
     ]
    }
   ],
   "source": [
    "num_list = [1, 2, 3]\n",
    "en_words = [\"dive\", \"into\", \"code\"]\n",
    "jp_words = [\"飛び込む、熱中する\", \"〜の中へ、 〜の中に\", \"コード、プログラム\"]\n",
    "for num, en, jp in zip(num_list, en_words, jp_words):\n",
    "    print(num, en, jp)"
   ]
  },
  {
   "cell_type": "code",
   "execution_count": null,
   "id": "35ab5b2c-1a95-4aff-aefd-6784531e7371",
   "metadata": {},
   "outputs": [],
   "source": []
  },
  {
   "cell_type": "code",
   "execution_count": 5,
   "id": "8c30801b-e4ee-4a77-a0cb-bc428a0eff7d",
   "metadata": {},
   "outputs": [
    {
     "data": {
      "text/plain": [
       "[100, 200]"
      ]
     },
     "execution_count": 5,
     "metadata": {},
     "output_type": "execute_result"
    }
   ],
   "source": [
    "nums = [100, 200, 50, 40]\n",
    "results = [num for num in nums if num > 90]\n",
    "results"
   ]
  },
  {
   "cell_type": "code",
   "execution_count": 6,
   "id": "785a0c4d-49d0-45ca-a03e-45a84ef458cb",
   "metadata": {},
   "outputs": [
    {
     "data": {
      "text/plain": [
       "[100, 200]"
      ]
     },
     "execution_count": 6,
     "metadata": {},
     "output_type": "execute_result"
    }
   ],
   "source": [
    "# lambdaは短い処理を一行で関数化したいときに適しています。\n",
    "# (lambda 引数1, 引数2, …: 引数を用いた処理)で記述します。\n",
    "# filter関数は条件に合致するものを抽出する関数です。\n",
    "# filter(関数,リストなどのオブジェクト)で記述します。\n",
    "nums = [100, 200, 50, 40]\n",
    "results = list(filter(lambda num : num > 90, nums))\n",
    "results"
   ]
  },
  {
   "cell_type": "code",
   "execution_count": 3,
   "id": "8a6319d5-cb60-4ed7-b70c-6ad461f86b3b",
   "metadata": {},
   "outputs": [
    {
     "name": "stdout",
     "output_type": "stream",
     "text": [
      "[0, 1, 8, 27, 64]\n"
     ]
    }
   ],
   "source": [
    "cubes = [a**3 for a in range(5)]\n",
    "print(cubes)"
   ]
  },
  {
   "cell_type": "code",
   "execution_count": 4,
   "id": "db7e0eeb-4e88-4d63-9541-a80cfa983a74",
   "metadata": {},
   "outputs": [
    {
     "name": "stdout",
     "output_type": "stream",
     "text": [
      "[0, 1, 8, 27, 64]\n"
     ]
    }
   ],
   "source": [
    "# map関数はリストなどの複数要素を持つデータに対して、その要素に同じ処理を行う関数です。\n",
    "# map(関数,リストなどのオブジェクト)できします。\n",
    "cubes = list(map(lambda x: x ** 3, range(5)))\n",
    "print(cubes)"
   ]
  },
  {
   "cell_type": "code",
   "execution_count": null,
   "id": "a88c6861-e783-48dc-9c7a-66396b011c16",
   "metadata": {},
   "outputs": [],
   "source": []
  },
  {
   "cell_type": "code",
   "execution_count": null,
   "id": "45b744d6-de55-4e70-9ffa-4492b1f77377",
   "metadata": {},
   "outputs": [],
   "source": []
  }
 ],
 "metadata": {
  "kernelspec": {
   "display_name": "Python 3 (ipykernel)",
   "language": "python",
   "name": "python3"
  },
  "language_info": {
   "codemirror_mode": {
    "name": "ipython",
    "version": 3
   },
   "file_extension": ".py",
   "mimetype": "text/x-python",
   "name": "python",
   "nbconvert_exporter": "python",
   "pygments_lexer": "ipython3",
   "version": "3.11.7"
  }
 },
 "nbformat": 4,
 "nbformat_minor": 5
}
