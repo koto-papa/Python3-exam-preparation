{
 "cells": [
  {
   "cell_type": "markdown",
   "id": "56f3fb7e-169e-402d-9440-1fc2480d21d5",
   "metadata": {
    "jp-MarkdownHeadingCollapsed": true
   },
   "source": [
    "# タプル"
   ]
  },
  {
   "cell_type": "code",
   "execution_count": 15,
   "id": "b272317c-d01a-490a-bbbb-897fd32f5bcf",
   "metadata": {},
   "outputs": [
    {
     "data": {
      "text/plain": [
       "(3, 4)"
      ]
     },
     "execution_count": 15,
     "metadata": {},
     "output_type": "execute_result"
    }
   ],
   "source": [
    "# タプルは(3, 4)のように()で囲まれたデータ型で、要素ごとにカンマ（,）で区切ります。\n",
    "# 複数の値をタプルに追加することをタプルパッキングと言います。\n",
    "t = 3, 4\n",
    "t"
   ]
  },
  {
   "cell_type": "code",
   "execution_count": 3,
   "id": "351ddab1-ab5b-429a-a314-bfda8b83bdc2",
   "metadata": {},
   "outputs": [
    {
     "data": {
      "text/plain": [
       "(2, 3, 'a')"
      ]
     },
     "execution_count": 3,
     "metadata": {},
     "output_type": "execute_result"
    }
   ],
   "source": [
    "t1 = 2, 3, 'a'\n",
    "t1"
   ]
  },
  {
   "cell_type": "code",
   "execution_count": 5,
   "id": "ac815800-cfc7-4ec2-934b-befcaf159f41",
   "metadata": {},
   "outputs": [
    {
     "data": {
      "text/plain": [
       "(2, 3, 'a')"
      ]
     },
     "execution_count": 5,
     "metadata": {},
     "output_type": "execute_result"
    }
   ],
   "source": [
    "t2 =(2, 3, 'a')\n",
    "t2"
   ]
  },
  {
   "cell_type": "code",
   "execution_count": 7,
   "id": "ba06f046-b3ab-4b27-bc81-d2500680884f",
   "metadata": {},
   "outputs": [
    {
     "name": "stdout",
     "output_type": "stream",
     "text": [
      "2\n",
      "3\n",
      "a\n"
     ]
    }
   ],
   "source": [
    "# タプルの要素を複数の変数に渡すことをシーケンスアンパッキングと言います。\n",
    "x, y, z = t2\n",
    "print(x)\n",
    "print(y)\n",
    "print(z)"
   ]
  },
  {
   "cell_type": "code",
   "execution_count": 2,
   "id": "7a4768ad-695d-4b6e-a8e5-90c5016d1b65",
   "metadata": {},
   "outputs": [
    {
     "name": "stdout",
     "output_type": "stream",
     "text": [
      "('one',)\n"
     ]
    }
   ],
   "source": [
    "# 要素が一つのタプルを作るときは、最後にカンマを付けます。\n",
    "test = 'one',\n",
    "print(test)"
   ]
  },
  {
   "cell_type": "code",
   "execution_count": 8,
   "id": "39fee5d2-bb48-4bc4-af16-8c4f4aab8a45",
   "metadata": {},
   "outputs": [
    {
     "data": {
      "text/plain": [
       "3"
      ]
     },
     "execution_count": 8,
     "metadata": {},
     "output_type": "execute_result"
    }
   ],
   "source": [
    "t3 =(3, 4)\n",
    "t3[0]"
   ]
  },
  {
   "cell_type": "code",
   "execution_count": 11,
   "id": "b87470d7-e0fc-43d6-a45b-66c7f6a481ff",
   "metadata": {},
   "outputs": [
    {
     "data": {
      "text/plain": [
       "(2, 3)"
      ]
     },
     "execution_count": 11,
     "metadata": {},
     "output_type": "execute_result"
    }
   ],
   "source": [
    "t4 = (0, 1, (2, 3) , 4, 5 ), (6, 7)\n",
    "t4[0][2]"
   ]
  },
  {
   "cell_type": "code",
   "execution_count": 1,
   "id": "2fab3ad6-2a48-490e-b20f-fa9e95b77be3",
   "metadata": {},
   "outputs": [
    {
     "name": "stdout",
     "output_type": "stream",
     "text": [
      "(1, 2, 3, 4, 5, 6, 7)\n"
     ]
    }
   ],
   "source": [
    "tuple_sample1 = (1, 2, 3, 4, 5)\n",
    "tuple_sample2 = tuple_sample1 + (6, 7)\n",
    "print(tuple_sample2)"
   ]
  },
  {
   "cell_type": "code",
   "execution_count": 12,
   "id": "5fc3dbb6-45f0-47bb-918a-4cf2ccc971a2",
   "metadata": {},
   "outputs": [
    {
     "name": "stdout",
     "output_type": "stream",
     "text": [
      "(1, 2, 3, 4, 5, 1, 2, 3, 4, 5)\n"
     ]
    }
   ],
   "source": [
    "tuple_sample1 = (1, 2, 3, 4, 5)\n",
    "tuple_sample2 = tuple_sample1*2\n",
    "print(tuple_sample2)"
   ]
  },
  {
   "cell_type": "code",
   "execution_count": 2,
   "id": "ab94625f-dcda-4b5f-82ad-4a9609054e09",
   "metadata": {},
   "outputs": [
    {
     "name": "stdout",
     "output_type": "stream",
     "text": [
      "(3, 4)\n"
     ]
    }
   ],
   "source": [
    "tuple_sample1 = (1, 2, 3, 4, 5)\n",
    "tuple_sample2 = tuple_sample1[2:4]\n",
    "print(tuple_sample2)"
   ]
  },
  {
   "cell_type": "code",
   "execution_count": 3,
   "id": "88b14b16-0db1-472e-9553-b83c4eaafc2a",
   "metadata": {},
   "outputs": [
    {
     "ename": "TypeError",
     "evalue": "'tuple' object does not support item assignment",
     "output_type": "error",
     "traceback": [
      "\u001b[1;31m---------------------------------------------------------------------------\u001b[0m",
      "\u001b[1;31mTypeError\u001b[0m                                 Traceback (most recent call last)",
      "Cell \u001b[1;32mIn[3], line 2\u001b[0m\n\u001b[0;32m      1\u001b[0m tuple_sample \u001b[38;5;241m=\u001b[39m (\u001b[38;5;241m1\u001b[39m, \u001b[38;5;241m2\u001b[39m, \u001b[38;5;241m3\u001b[39m, \u001b[38;5;241m4\u001b[39m, \u001b[38;5;241m5\u001b[39m)\n\u001b[1;32m----> 2\u001b[0m tuple_sample[\u001b[38;5;241m2\u001b[39m] \u001b[38;5;241m=\u001b[39m \u001b[38;5;241m10\u001b[39m\n",
      "\u001b[1;31mTypeError\u001b[0m: 'tuple' object does not support item assignment"
     ]
    }
   ],
   "source": [
    "tuple_sample = (1, 2, 3, 4, 5)\n",
    "tuple_sample[2] = 10"
   ]
  },
  {
   "cell_type": "code",
   "execution_count": 13,
   "id": "1af2bad0-0951-41a0-998f-c1635e45b20f",
   "metadata": {},
   "outputs": [
    {
     "ename": "AttributeError",
     "evalue": "'tuple' object has no attribute 'sort'",
     "output_type": "error",
     "traceback": [
      "\u001b[1;31m---------------------------------------------------------------------------\u001b[0m",
      "\u001b[1;31mAttributeError\u001b[0m                            Traceback (most recent call last)",
      "Cell \u001b[1;32mIn[13], line 2\u001b[0m\n\u001b[0;32m      1\u001b[0m ts \u001b[38;5;241m=\u001b[39m (\u001b[38;5;241m1\u001b[39m, \u001b[38;5;241m5\u001b[39m, \u001b[38;5;241m4\u001b[39m, \u001b[38;5;241m9\u001b[39m, \u001b[38;5;241m6\u001b[39m)\n\u001b[1;32m----> 2\u001b[0m ts\u001b[38;5;241m.\u001b[39msort()\n\u001b[0;32m      3\u001b[0m ts\n",
      "\u001b[1;31mAttributeError\u001b[0m: 'tuple' object has no attribute 'sort'"
     ]
    }
   ],
   "source": [
    "ts = (1, 5, 4, 9, 6)\n",
    "ts.sort()\n",
    "ts"
   ]
  },
  {
   "cell_type": "code",
   "execution_count": 15,
   "id": "f75b96d6-ad49-4b79-ae65-a4b798673c9d",
   "metadata": {},
   "outputs": [
    {
     "data": {
      "text/plain": [
       "[1, 4, 5, 6, 9]"
      ]
     },
     "execution_count": 15,
     "metadata": {},
     "output_type": "execute_result"
    }
   ],
   "source": [
    "ts = (1, 5, 4, 9, 6)\n",
    "sorted(ts)"
   ]
  },
  {
   "cell_type": "code",
   "execution_count": null,
   "id": "4ec719d5-1f76-4dd4-8d7b-05d35899fcdb",
   "metadata": {},
   "outputs": [],
   "source": []
  },
  {
   "cell_type": "code",
   "execution_count": 10,
   "id": "68c2598e-b949-4326-9ef1-db5e76bc8fe1",
   "metadata": {},
   "outputs": [
    {
     "name": "stdout",
     "output_type": "stream",
     "text": [
      "(8, -2)\n"
     ]
    }
   ],
   "source": [
    "def add_diff(a, b):\n",
    "    return a + b, a - b\n",
    "result = add_diff(3, 5)\n",
    "print(result)"
   ]
  },
  {
   "cell_type": "code",
   "execution_count": 12,
   "id": "5434b1e6-ccfb-4529-aa96-5aea8d6ec1b5",
   "metadata": {},
   "outputs": [
    {
     "name": "stdout",
     "output_type": "stream",
     "text": [
      "8\n",
      "-2\n"
     ]
    }
   ],
   "source": [
    "def add_diff(a, b):\n",
    "    return a + b, a - b\n",
    "ad, df = add_diff(3, 5)\n",
    "print(ad)\n",
    "print(df)"
   ]
  },
  {
   "cell_type": "code",
   "execution_count": null,
   "id": "d2909e78-72ca-4fdc-acc6-a91682e4d174",
   "metadata": {},
   "outputs": [],
   "source": []
  },
  {
   "cell_type": "code",
   "execution_count": 2,
   "id": "c75822ee-2f7a-46a6-8c66-81cfaecdb517",
   "metadata": {},
   "outputs": [
    {
     "name": "stdout",
     "output_type": "stream",
     "text": [
      "True\n",
      "True\n"
     ]
    }
   ],
   "source": [
    "print((1, 2, 3) < (1, 2, 4))\n",
    "print([1, 2, 3] < [1, 2, 4])"
   ]
  },
  {
   "cell_type": "code",
   "execution_count": 3,
   "id": "9fa4e6c4-a1a7-4039-a563-5414c672b88a",
   "metadata": {},
   "outputs": [
    {
     "name": "stdout",
     "output_type": "stream",
     "text": [
      "True\n",
      "True\n"
     ]
    }
   ],
   "source": [
    "print((1, 2) < (1, 2, -1))\n",
    "print((1, 2, 3, 4) < (1, 2, 4))"
   ]
  },
  {
   "cell_type": "code",
   "execution_count": 4,
   "id": "c1d0df76-ab3b-4347-b4d7-4622e8be8c26",
   "metadata": {},
   "outputs": [
    {
     "name": "stdout",
     "output_type": "stream",
     "text": [
      "False\n"
     ]
    }
   ],
   "source": [
    "print((1, 2, (3, 4)) < (1, 2, (2, 4), 4))"
   ]
  },
  {
   "cell_type": "markdown",
   "id": "1772ebd6-2d7d-44a6-8db9-5c1dad924825",
   "metadata": {},
   "source": [
    "# 集合"
   ]
  },
  {
   "cell_type": "code",
   "execution_count": 16,
   "id": "932f74f9-c228-4ffc-9b1f-f8cf12c844c4",
   "metadata": {},
   "outputs": [
    {
     "data": {
      "text/plain": [
       "{'apple', 'banana', 'muscat', 'orange'}"
      ]
     },
     "execution_count": 16,
     "metadata": {},
     "output_type": "execute_result"
    }
   ],
   "source": [
    "# 集合（セット）とは、重複しない要素の集まりで、かつ順序の概念を持ちません。\n",
    "# 集合は{要素1, 要素2, 要素3}のように{}で囲まれたデータ型で、要素ごとにカンマ（,）で区切ります。\n",
    "basket = {\n",
    "    \"orange\", \"orange\", \"apple\", \"apple\", \"banana\", \"orange\", \"apple\", \"apple\",\n",
    "    \"banana\", \"orange\", \"apple\", \"apple\", \"muscat\", \"banana\", \"orange\", \"apple\",\n",
    "    \"apple\", \"banana\"}\n",
    "basket"
   ]
  },
  {
   "cell_type": "code",
   "execution_count": 36,
   "id": "5fd24223-37bf-4398-86f5-3898160876ea",
   "metadata": {},
   "outputs": [
    {
     "data": {
      "text/plain": [
       "{(1, 2, 3), 1.23, 123}"
      ]
     },
     "execution_count": 36,
     "metadata": {},
     "output_type": "execute_result"
    }
   ],
   "source": [
    "s={123, 1.23, 123, 1.23, (1,2,3)}\n",
    "s"
   ]
  },
  {
   "cell_type": "code",
   "execution_count": 32,
   "id": "c2c5a689-ad4a-42f3-9026-e080bd7644de",
   "metadata": {},
   "outputs": [
    {
     "ename": "TypeError",
     "evalue": "unhashable type: 'list'",
     "output_type": "error",
     "traceback": [
      "\u001b[1;31m---------------------------------------------------------------------------\u001b[0m",
      "\u001b[1;31mTypeError\u001b[0m                                 Traceback (most recent call last)",
      "Cell \u001b[1;32mIn[32], line 1\u001b[0m\n\u001b[1;32m----> 1\u001b[0m s\u001b[38;5;241m=\u001b[39m{\u001b[38;5;241m123\u001b[39m, \u001b[38;5;241m1.23\u001b[39m, \u001b[38;5;241m123\u001b[39m, \u001b[38;5;241m1.23\u001b[39m, [\u001b[38;5;241m1\u001b[39m,\u001b[38;5;241m2\u001b[39m,\u001b[38;5;241m3\u001b[39m]}\n\u001b[0;32m      2\u001b[0m s\n",
      "\u001b[1;31mTypeError\u001b[0m: unhashable type: 'list'"
     ]
    }
   ],
   "source": [
    "s={123, 1.23, 123, 1.23, [1,2,3]}\n",
    "s"
   ]
  },
  {
   "cell_type": "code",
   "execution_count": null,
   "id": "ec8d166d-487a-4cab-ac13-29cdac72f7ff",
   "metadata": {},
   "outputs": [],
   "source": []
  },
  {
   "cell_type": "code",
   "execution_count": 41,
   "id": "90210208-1ea0-47ec-8649-1c0e8d744457",
   "metadata": {},
   "outputs": [
    {
     "data": {
      "text/plain": [
       "{'apple', 'banana', 'muscat', 'orange'}"
      ]
     },
     "execution_count": 41,
     "metadata": {},
     "output_type": "execute_result"
    }
   ],
   "source": [
    "# set()関数を使用することで、要素を集合に変換できます。\n",
    "basket = [\n",
    "    \"orange\", \"orange\", \"apple\", \"apple\", \"banana\", \"orange\", \"apple\", \"apple\",\n",
    "    \"banana\", \"orange\", \"apple\", \"apple\", \"muscat\", \"banana\", \"orange\", \"apple\",\n",
    "    \"apple\", \"banana\"]\n",
    "basket1 = set(basket)\n",
    "basket1"
   ]
  },
  {
   "cell_type": "code",
   "execution_count": 42,
   "id": "c87a8b75-1d2c-43b2-914d-7df7954e0907",
   "metadata": {},
   "outputs": [
    {
     "data": {
      "text/plain": [
       "{'C', 'D', 'I', 'V'}"
      ]
     },
     "execution_count": 42,
     "metadata": {},
     "output_type": "execute_result"
    }
   ],
   "source": [
    "string = \"DIVIC\"\n",
    "string1 = set(string)\n",
    "string1"
   ]
  },
  {
   "cell_type": "code",
   "execution_count": null,
   "id": "ad928c36-583c-49b1-80fa-0def29117d27",
   "metadata": {},
   "outputs": [],
   "source": []
  },
  {
   "cell_type": "code",
   "execution_count": 37,
   "id": "b51aab49-d73a-423a-8193-6277c518737f",
   "metadata": {},
   "outputs": [
    {
     "data": {
      "text/plain": [
       "{0, 1, 2, 3}"
      ]
     },
     "execution_count": 37,
     "metadata": {},
     "output_type": "execute_result"
    }
   ],
   "source": [
    "s = {0, 1, 2}\n",
    "s.add(3)\n",
    "s"
   ]
  },
  {
   "cell_type": "code",
   "execution_count": 38,
   "id": "1e2e7c7f-949d-4194-85b9-14f8cc894be0",
   "metadata": {},
   "outputs": [
    {
     "data": {
      "text/plain": [
       "{0, 2}"
      ]
     },
     "execution_count": 38,
     "metadata": {},
     "output_type": "execute_result"
    }
   ],
   "source": [
    "s = {0, 1, 2}\n",
    "s.remove(1)\n",
    "s"
   ]
  },
  {
   "cell_type": "code",
   "execution_count": null,
   "id": "d9ecf82f-6c83-45ba-92a3-8b8098c2f70e",
   "metadata": {},
   "outputs": [],
   "source": []
  },
  {
   "cell_type": "code",
   "execution_count": 43,
   "id": "d62d0b46-fb4d-4be6-a8c4-7678703ba121",
   "metadata": {},
   "outputs": [
    {
     "data": {
      "text/plain": [
       "frozenset({0, 1, 2, 3})"
      ]
     },
     "execution_count": 43,
     "metadata": {},
     "output_type": "execute_result"
    }
   ],
   "source": [
    "# frozenset()関数を使用することで、要素の追加・削除ができない集合に変換できます。\n",
    "a = [0, 2, 2, 1, 2, 3]\n",
    "a1 = frozenset(a)\n",
    "a1"
   ]
  },
  {
   "cell_type": "code",
   "execution_count": 44,
   "id": "6e9b910e-7e6e-4170-ba78-06b0946eedab",
   "metadata": {},
   "outputs": [
    {
     "ename": "AttributeError",
     "evalue": "'frozenset' object has no attribute 'add'",
     "output_type": "error",
     "traceback": [
      "\u001b[1;31m---------------------------------------------------------------------------\u001b[0m",
      "\u001b[1;31mAttributeError\u001b[0m                            Traceback (most recent call last)",
      "Cell \u001b[1;32mIn[44], line 1\u001b[0m\n\u001b[1;32m----> 1\u001b[0m a1\u001b[38;5;241m.\u001b[39madd(\u001b[38;5;241m3\u001b[39m)\n\u001b[0;32m      2\u001b[0m a1\n",
      "\u001b[1;31mAttributeError\u001b[0m: 'frozenset' object has no attribute 'add'"
     ]
    }
   ],
   "source": [
    "a1.add(3)\n",
    "a1"
   ]
  },
  {
   "cell_type": "code",
   "execution_count": null,
   "id": "8077dfff-483d-4350-ba25-4c2dd1e7352f",
   "metadata": {},
   "outputs": [],
   "source": []
  },
  {
   "cell_type": "code",
   "execution_count": 47,
   "id": "ab3b5d4e-7496-49af-b5e7-a62b61da79a4",
   "metadata": {},
   "outputs": [
    {
     "name": "stdout",
     "output_type": "stream",
     "text": [
      "{1, 2, 3, 4, 5, 6}\n",
      "{1, 2, 3, 4, 5, 6}\n",
      "{3, 4}\n",
      "{3, 4}\n"
     ]
    }
   ],
   "source": [
    "set_a = {1, 2, 3, 4}\n",
    "set_b = {3, 4, 5, 6}\n",
    "# 和集合\n",
    "print(set_a | set_b)\n",
    "print(set_a.union(set_b))\n",
    "# 積集合\n",
    "print(set_a & set_b)\n",
    "print(set_a.intersection(set_b))"
   ]
  },
  {
   "cell_type": "code",
   "execution_count": 50,
   "id": "0890e4be-b62b-4259-aaf0-fbd909cd10fe",
   "metadata": {},
   "outputs": [
    {
     "name": "stdout",
     "output_type": "stream",
     "text": [
      "{1, 2}\n",
      "{5, 6}\n",
      "{5, 6}\n",
      "{1, 2, 5, 6}\n",
      "{1, 2, 5, 6}\n"
     ]
    }
   ],
   "source": [
    "set_a = {1, 2, 3, 4}\n",
    "set_b = {3, 4, 5, 6}\n",
    "# 差集合\n",
    "print(set_a - set_b)\n",
    "print(set_b - set_a)\n",
    "print(set_b.difference(set_a))\n",
    "# 対称差集合\n",
    "print(set_a ^ set_b)\n",
    "print(set_a.symmetric_difference(set_b))"
   ]
  },
  {
   "cell_type": "code",
   "execution_count": null,
   "id": "2ef2a64a-5549-467c-924a-d8f7e534fd9b",
   "metadata": {},
   "outputs": [],
   "source": []
  },
  {
   "cell_type": "code",
   "execution_count": 58,
   "id": "2dbff696-f924-4893-ba49-7ed9bb5ac4fd",
   "metadata": {},
   "outputs": [
    {
     "name": "stdout",
     "output_type": "stream",
     "text": [
      "True\n",
      "True\n",
      "True\n",
      "False\n",
      "True\n"
     ]
    }
   ],
   "source": [
    "s1 = {1, 2, 3}\n",
    "s2 = {3, 2, 1}\n",
    "s3 = {5, 3, 4, 2, 1}\n",
    "# 部分集合の判定\n",
    "print(s1 <= s2)\n",
    "print(s1 <= s3)\n",
    "print(s1.issubset(s3))\n",
    "# 真部分集合の判定\n",
    "print(s1 < s2)\n",
    "print(s1 < s3)"
   ]
  },
  {
   "cell_type": "code",
   "execution_count": 59,
   "id": "485ae3b7-8158-4c37-bfbe-c3eaec8cfa9a",
   "metadata": {},
   "outputs": [
    {
     "name": "stdout",
     "output_type": "stream",
     "text": [
      "False\n",
      "True\n"
     ]
    }
   ],
   "source": [
    "s1 = {1, 2, 3}\n",
    "s2 = {3, 4, 5}\n",
    "s3 = {6, 5, 7}\n",
    "# 互いに素の判定\n",
    "print(s1.isdisjoint(s2))\n",
    "print(s1.isdisjoint(s3))"
   ]
  },
  {
   "cell_type": "code",
   "execution_count": null,
   "id": "108149ca-9666-4f5b-92af-d868c9d17e51",
   "metadata": {},
   "outputs": [],
   "source": []
  },
  {
   "cell_type": "code",
   "execution_count": 63,
   "id": "346fe171-6e56-4353-bb16-afe66e07f00b",
   "metadata": {},
   "outputs": [
    {
     "data": {
      "text/plain": [
       "3"
      ]
     },
     "execution_count": 63,
     "metadata": {},
     "output_type": "execute_result"
    }
   ],
   "source": [
    "# 要素の取得\n",
    "s = {4, 2, 5, 3, 1}\n",
    "l = list(s)\n",
    "l[2]"
   ]
  },
  {
   "cell_type": "code",
   "execution_count": null,
   "id": "ab0b088c-7b4a-478b-a450-a90e8f6ae0e4",
   "metadata": {},
   "outputs": [],
   "source": []
  },
  {
   "cell_type": "markdown",
   "id": "c37119f8-2503-49dc-8c6a-27e0b1f5d26a",
   "metadata": {},
   "source": [
    "# 辞書"
   ]
  },
  {
   "cell_type": "code",
   "execution_count": 14,
   "id": "58670ee5-fdc7-4e7e-a260-64a65a09165e",
   "metadata": {},
   "outputs": [
    {
     "name": "stdout",
     "output_type": "stream",
     "text": [
      "{'名前': '太郎', '年齢': 30, '性別': '男性'}\n",
      "{'1': '大阪', '2': '京都', '3': '奈良', '4': '大阪'}\n"
     ]
    }
   ],
   "source": [
    "# 辞書とは、{キー1 : 値1, キー２ : 値２}のようにキーとバリューをペアにして要素を格納するデータ型のことです。\n",
    "# '名前'キーを2回使用していますが、最後に指定された値で上書きされます。キーが一意であるため、辞書内で同じキーを持つことはできません。\n",
    "my_dict = {\"名前\": '花子', \"年齢\": 30, \"性別\": \"男性\", \"名前\": \"太郎\"}\n",
    "print(my_dict)\n",
    "# 値の重複は可能です。\n",
    "my_dict2 = {\"1\": '大阪', \"2\": '京都', \"3\": \"奈良\", \"4\": \"大阪\"}\n",
    "print(my_dict2)"
   ]
  },
  {
   "cell_type": "code",
   "execution_count": 20,
   "id": "4f8aaf8d-0ded-40f0-b86f-ec1d2a3d5ee4",
   "metadata": {},
   "outputs": [
    {
     "data": {
      "text/plain": [
       "{'リンゴ': 10, 'オレンジ': 20, 'バナナ': 30}"
      ]
     },
     "execution_count": 20,
     "metadata": {},
     "output_type": "execute_result"
    }
   ],
   "source": [
    "# dict関数で辞書に変換できます。\n",
    "# keyが文字列でも、''でくくる必要はありません。\n",
    "d=dict(リンゴ=10, オレンジ=20, バナナ=30)\n",
    "d"
   ]
  },
  {
   "cell_type": "code",
   "execution_count": 27,
   "id": "5ff99bd7-66f1-47f2-83de-abdf716b6948",
   "metadata": {},
   "outputs": [
    {
     "data": {
      "text/plain": [
       "{'リンゴ': 10, 'オレンジ': 20, 'バナナ': 30}"
      ]
     },
     "execution_count": 27,
     "metadata": {},
     "output_type": "execute_result"
    }
   ],
   "source": [
    "# リストを変換する場合、全体を[]でくくる必要があります。\n",
    "e=dict([['リンゴ', 10], ['オレンジ', 20], ['バナナ', 30]])\n",
    "e"
   ]
  },
  {
   "cell_type": "code",
   "execution_count": 3,
   "id": "9fdc2565-1d29-493c-8c7a-9595d0c70fdd",
   "metadata": {},
   "outputs": [
    {
     "data": {
      "text/plain": [
       "{'k1': [1, 2], 'k2': 2}"
      ]
     },
     "execution_count": 3,
     "metadata": {},
     "output_type": "execute_result"
    }
   ],
   "source": [
    "f = {'k1': 1, 'k2': 2}\n",
    "f['k1'] = [1, 2]\n",
    "f"
   ]
  },
  {
   "cell_type": "code",
   "execution_count": 9,
   "id": "6e49ff7f-52b2-42b9-8187-06267a439e32",
   "metadata": {},
   "outputs": [
    {
     "data": {
      "text/plain": [
       "{'k1': {1: 2}, 'k2': 2}"
      ]
     },
     "execution_count": 9,
     "metadata": {},
     "output_type": "execute_result"
    }
   ],
   "source": [
    "g = {'k1': 1, 'k2': 2}\n",
    "g['k1'] = {1: 2}\n",
    "g"
   ]
  },
  {
   "cell_type": "code",
   "execution_count": null,
   "id": "66d19b97-f38f-49b3-ab76-0da490f004cb",
   "metadata": {},
   "outputs": [],
   "source": []
  },
  {
   "cell_type": "code",
   "execution_count": 18,
   "id": "526649c8-738a-43a4-af7a-382304573767",
   "metadata": {},
   "outputs": [
    {
     "name": "stdout",
     "output_type": "stream",
     "text": [
      "89\n",
      "{'Martin': 87, 'Mueller': 95, 'Garcia': 80, 'Sminov': 83}\n",
      "80\n",
      "{'Martin': 87, 'Mueller': 95, 'Sminov': 83}\n",
      "True\n",
      "True\n"
     ]
    }
   ],
   "source": [
    "result = {\"Taro\" : 89, \"Martin\":87, \"Mueller\":95, \"Garcia\":80, \"Sminov\":83}\n",
    "print(result[\"Taro\"])\n",
    "del result['Taro']\n",
    "print(result)\n",
    "print(result.pop(\"Garcia\"))\n",
    "print(result)\n",
    "print(\"Martin\" in result.keys())\n",
    "print(95 in result.values())"
   ]
  },
  {
   "cell_type": "code",
   "execution_count": 25,
   "id": "a2c33d6e-7bcb-4e9f-b7ac-1a73253c5c9b",
   "metadata": {},
   "outputs": [
    {
     "name": "stdout",
     "output_type": "stream",
     "text": [
      "dict_keys(['Taro', 'Martin', 'Mueller', 'Garcia', 'Sminov'])\n",
      "dict_values([89, 87, 95, 80, 83])\n"
     ]
    }
   ],
   "source": [
    "result = {\"Taro\" : 89, \"Martin\":87, \"Mueller\":95, \"Garcia\":80, \"Sminov\":83}\n",
    "print(result.keys())\n",
    "print(result.values())"
   ]
  },
  {
   "cell_type": "code",
   "execution_count": null,
   "id": "9eb99643-c2d5-4c5e-b9c4-9c896f3beef9",
   "metadata": {},
   "outputs": [],
   "source": []
  },
  {
   "cell_type": "code",
   "execution_count": 27,
   "id": "5e8bd25a-28ce-4265-8462-1859f520b386",
   "metadata": {},
   "outputs": [
    {
     "data": {
      "text/plain": [
       "{'Taro': 89,\n",
       " 'Martin': 87,\n",
       " 'Mueller': 95,\n",
       " 'Garcia': 80,\n",
       " 'Sminov': 83,\n",
       " 'Smith': 88}"
      ]
     },
     "execution_count": 27,
     "metadata": {},
     "output_type": "execute_result"
    }
   ],
   "source": [
    "# 辞書では、変数[キー]=値のように記述することでデータを追加できます。\n",
    "result = {\"Taro\" : 89, \"Martin\":87, \"Mueller\":95, \"Garcia\":80, \"Sminov\":83}\n",
    "result[\"Smith\"] = 88\n",
    "result"
   ]
  },
  {
   "cell_type": "code",
   "execution_count": 13,
   "id": "7f10fc17-d341-48f5-be3d-b17a6c6d5511",
   "metadata": {},
   "outputs": [
    {
     "name": "stdout",
     "output_type": "stream",
     "text": [
      "{'k1': 100, 'k2': 2}\n",
      "{'k1': 100, 'k2': 2, 'k3': 3, 'k4': 4}\n",
      "{'k1': 200, 'k2': 2, 'k3': 6, 'k4': 8}\n"
     ]
    }
   ],
   "source": [
    "# 変数[キー]=値の記述で上書きされます。\n",
    "d = {'k1': 1, 'k2': 2}\n",
    "d['k1'] = 100\n",
    "print(d)\n",
    "# update()にキーワード引数 key=valueを指定すると、キーと値の要素が追加され、上書きされます。ただし、引数に同じキーを指定するとエラーになります。\n",
    "d.update(k3=3, k4=4)\n",
    "print(d)\n",
    "d.update([('k1', 200), ('k3', 6), ('k4', 8)])\n",
    "print(d)"
   ]
  },
  {
   "cell_type": "code",
   "execution_count": null,
   "id": "0f97ebf1-3429-4ef9-a1e6-c8b0d155d89f",
   "metadata": {},
   "outputs": [],
   "source": []
  },
  {
   "cell_type": "code",
   "execution_count": 29,
   "id": "fdca5c7b-b554-49ea-9a18-aef850e427ca",
   "metadata": {},
   "outputs": [
    {
     "data": {
      "text/plain": [
       "{'k2': 2, 'k4': 8}"
      ]
     },
     "execution_count": 29,
     "metadata": {},
     "output_type": "execute_result"
    }
   ],
   "source": [
    "d2 = {'k1': 200, 'k2': 2, 'k3': 6, 'k4': 8}\n",
    "del d2['k1'], d2['k3']\n",
    "d2"
   ]
  },
  {
   "cell_type": "code",
   "execution_count": 31,
   "id": "c1dbfdf5-5cc4-4646-a41b-243a30a9f6be",
   "metadata": {},
   "outputs": [
    {
     "data": {
      "text/plain": [
       "{'k2': 2, 'k3': 6, 'k4': 8}"
      ]
     },
     "execution_count": 31,
     "metadata": {},
     "output_type": "execute_result"
    }
   ],
   "source": [
    "d2 = {'k1': 200, 'k2': 2, 'k3': 6, 'k4': 8}\n",
    "d2.pop('k1')\n",
    "d2"
   ]
  },
  {
   "cell_type": "code",
   "execution_count": null,
   "id": "ca37236a-46b3-4f0e-b278-1a88dc6a69a1",
   "metadata": {},
   "outputs": [],
   "source": []
  },
  {
   "cell_type": "code",
   "execution_count": 11,
   "id": "82763c2e-7481-4bf6-a891-3d50d8adcc07",
   "metadata": {},
   "outputs": [
    {
     "name": "stdout",
     "output_type": "stream",
     "text": [
      "{'k1': 1, 'k2': 2, 'k3': 300}\n",
      "{'k1': 1, 'k2': 2, 'k3': 3, 'k4': 500}\n"
     ]
    }
   ],
   "source": [
    "# (key, value)のリストや zip()を使う場合、引数に重複したキーを指定してもエラーにならず、後ろの要素の値で上書きされます。\n",
    "e = {'k1': 1, 'k2': 2}\n",
    "e.update([('k3', 3), ('k3', 300)])\n",
    "print(e)\n",
    "\n",
    "f = {'k1': 1, 'k2': 2}\n",
    "keys = ['k3', 'k4', 'k4']\n",
    "values = [3, 400, 500]\n",
    "f.update(zip(keys, values))\n",
    "print(f)"
   ]
  },
  {
   "cell_type": "code",
   "execution_count": null,
   "id": "9a56cb62-7f37-4e1e-8435-4890226c1f84",
   "metadata": {},
   "outputs": [],
   "source": []
  },
  {
   "cell_type": "code",
   "execution_count": 41,
   "id": "62cc5f41-b0d9-48d5-a012-289f7d5910b8",
   "metadata": {},
   "outputs": [
    {
     "name": "stdout",
     "output_type": "stream",
     "text": [
      "{'k1': 100, 'k2': 2, 'k3': 3, 'k4': 4}\n",
      "{'k1': 100, 'k2': 2, 'k3': 3, 'k4': 4, 'k5': 5, 'k6': 6}\n"
     ]
    }
   ],
   "source": [
    "d1 = {'k1': 1, 'k2': 2}\n",
    "d2 = {'k1': 100, 'k3': 3, 'k4': 4}\n",
    "d1.update(d2)\n",
    "print(d1)\n",
    "\n",
    "d3 = {'k1': 1, 'k2': 2}\n",
    "d4 = {'k1': 100, 'k3': 3, 'k4': 4}\n",
    "d5 = {'k5': 5, 'k6': 6}\n",
    "# d3.update(d4, d5)\n",
    "# TypeError: update expected at most 1 arguments, got 2\n",
    "d3.update(**d4, **d5)\n",
    "print(d3)\n",
    "# **を使う場合、引数に指定する複数の辞書のキーが呼び出し元のキーと重複しているとエラーになります。"
   ]
  },
  {
   "cell_type": "code",
   "execution_count": null,
   "id": "c5b2ba61-4386-419e-976a-c7f15f45d683",
   "metadata": {},
   "outputs": [],
   "source": []
  },
  {
   "cell_type": "code",
   "execution_count": 8,
   "id": "a7c726af-b17d-4d21-a7dc-771a9f9545a8",
   "metadata": {},
   "outputs": [
    {
     "data": {
      "text/plain": [
       "['Garcia', 'Martin', 'Mueller', 'Sminov', 'Smith', 'Taro']"
      ]
     },
     "execution_count": 8,
     "metadata": {},
     "output_type": "execute_result"
    }
   ],
   "source": [
    "# list()関数を使用することで、ディクショナリのすべてのキーをリスト形式で取得できます。\n",
    "result = {'Garcia': 80, 'Martin': 87, 'Mueller': 95, 'Sminov': 83, 'Smith': 88, 'Taro': 89}\n",
    "list(result)"
   ]
  },
  {
   "cell_type": "code",
   "execution_count": 4,
   "id": "35a6b8c3-f811-4cc9-aa91-83cc4516946b",
   "metadata": {},
   "outputs": [
    {
     "ename": "AttributeError",
     "evalue": "'dict' object has no attribute 'sort'",
     "output_type": "error",
     "traceback": [
      "\u001b[1;31m---------------------------------------------------------------------------\u001b[0m",
      "\u001b[1;31mAttributeError\u001b[0m                            Traceback (most recent call last)",
      "Cell \u001b[1;32mIn[4], line 2\u001b[0m\n\u001b[0;32m      1\u001b[0m result \u001b[38;5;241m=\u001b[39m {\u001b[38;5;124m'\u001b[39m\u001b[38;5;124mGarcia\u001b[39m\u001b[38;5;124m'\u001b[39m: \u001b[38;5;241m80\u001b[39m, \u001b[38;5;124m'\u001b[39m\u001b[38;5;124mMartin\u001b[39m\u001b[38;5;124m'\u001b[39m: \u001b[38;5;241m87\u001b[39m, \u001b[38;5;124m'\u001b[39m\u001b[38;5;124mMueller\u001b[39m\u001b[38;5;124m'\u001b[39m: \u001b[38;5;241m95\u001b[39m, \u001b[38;5;124m'\u001b[39m\u001b[38;5;124mSminov\u001b[39m\u001b[38;5;124m'\u001b[39m: \u001b[38;5;241m83\u001b[39m, \u001b[38;5;124m'\u001b[39m\u001b[38;5;124mSmith\u001b[39m\u001b[38;5;124m'\u001b[39m: \u001b[38;5;241m88\u001b[39m, \u001b[38;5;124m'\u001b[39m\u001b[38;5;124mTaro\u001b[39m\u001b[38;5;124m'\u001b[39m: \u001b[38;5;241m89\u001b[39m}\n\u001b[1;32m----> 2\u001b[0m result\u001b[38;5;241m.\u001b[39msort()\n",
      "\u001b[1;31mAttributeError\u001b[0m: 'dict' object has no attribute 'sort'"
     ]
    }
   ],
   "source": [
    "result = {'Garcia': 80, 'Martin': 87, 'Mueller': 95, 'Sminov': 83, 'Smith': 88, 'Taro': 89}\n",
    "result.sort()"
   ]
  },
  {
   "cell_type": "code",
   "execution_count": 24,
   "id": "286bf20e-bb7e-4388-a471-bbd1f2201085",
   "metadata": {},
   "outputs": [
    {
     "data": {
      "text/plain": [
       "['Garcia', 'Martin', 'Mueller', 'Sminov', 'Smith', 'Taro']"
      ]
     },
     "execution_count": 24,
     "metadata": {},
     "output_type": "execute_result"
    }
   ],
   "source": [
    "result = {'Garcia': 80, 'Martin': 87, 'Mueller': 95, 'Sminov': 83, 'Smith': 88, 'Taro': 89}\n",
    "sorted(result)"
   ]
  },
  {
   "cell_type": "code",
   "execution_count": 22,
   "id": "a1f79bd7-5757-47f0-9b27-fc7735263d8b",
   "metadata": {},
   "outputs": [
    {
     "data": {
      "text/plain": [
       "['Garcia', 'Martin', 'Taro', 'Sminov', 'Smith', 'Mueller']"
      ]
     },
     "execution_count": 22,
     "metadata": {},
     "output_type": "execute_result"
    }
   ],
   "source": [
    "result = {'Garcia': 80, 'Martin': 87, 'Mueller': 95, 'Sminov': 83, 'Smith': 88, 'Taro': 89}\n",
    "# keyの2文字目についてアルファベット順に並び替え\n",
    "sorted(result, key=lambda x:x[1])"
   ]
  },
  {
   "cell_type": "code",
   "execution_count": 40,
   "id": "727a6b6b-c8f8-4ad3-8517-1e41920879d5",
   "metadata": {},
   "outputs": [
    {
     "data": {
      "text/plain": [
       "[80, 83, 87, 88, 89, 95]"
      ]
     },
     "execution_count": 40,
     "metadata": {},
     "output_type": "execute_result"
    }
   ],
   "source": [
    "# sorted()関数の()内で変数.valuesを指定することで、すべての値をソートした状態で取得できます。\n",
    "result = {'Garcia': 80, 'Martin': 87, 'Mueller': 95, 'Sminov': 83, 'Smith': 88, 'Taro': 89}\n",
    "sorted(result.values())"
   ]
  },
  {
   "cell_type": "code",
   "execution_count": 21,
   "id": "77376784-5fa9-4644-9e48-2627083026b0",
   "metadata": {},
   "outputs": [
    {
     "data": {
      "text/plain": [
       "[95, 89, 88, 87, 83, 80]"
      ]
     },
     "execution_count": 21,
     "metadata": {},
     "output_type": "execute_result"
    }
   ],
   "source": [
    "# sorted()関数の()内で変数.valuesを指定することで、すべての値をソートした状態で取得できます。\n",
    "result = {'Garcia': 80, 'Martin': 87, 'Mueller': 95, 'Sminov': 83, 'Smith': 88, 'Taro': 89}\n",
    "sorted(result.values(),reverse=True)"
   ]
  },
  {
   "cell_type": "code",
   "execution_count": null,
   "id": "717b3ca9-7861-4c63-a01a-e3269cfecbd5",
   "metadata": {},
   "outputs": [],
   "source": []
  },
  {
   "cell_type": "code",
   "execution_count": 45,
   "id": "338e97b7-c88d-40cb-ad7e-3362ecf461ab",
   "metadata": {},
   "outputs": [
    {
     "name": "stdout",
     "output_type": "stream",
     "text": [
      "Taro 89\n",
      "Martin 87\n",
      "Mueller 95\n",
      "Garcia 80\n",
      "Sminov 83\n"
     ]
    }
   ],
   "source": [
    "result = {\"Taro\" : 89, \"Martin\":87, \"Mueller\":95, \"Garcia\":80, \"Sminov\":83}\n",
    "for name, point in result.items():\n",
    "    print(name, point)"
   ]
  },
  {
   "cell_type": "code",
   "execution_count": 43,
   "id": "6c637a66-156c-4905-92df-49f43fdeec83",
   "metadata": {},
   "outputs": [
    {
     "name": "stdout",
     "output_type": "stream",
     "text": [
      "('Taro', 89)\n",
      "('Martin', 87)\n",
      "('Mueller', 95)\n",
      "('Garcia', 80)\n",
      "('Sminov', 83)\n"
     ]
    }
   ],
   "source": [
    "result = {\"Taro\" : 89, \"Martin\":87, \"Mueller\":95, \"Garcia\":80, \"Sminov\":83}\n",
    "for name_point in result.items():\n",
    "  print(name_point)"
   ]
  },
  {
   "cell_type": "code",
   "execution_count": null,
   "id": "b8a7201b-2c0c-487c-b97d-e5321e231877",
   "metadata": {},
   "outputs": [],
   "source": []
  },
  {
   "cell_type": "code",
   "execution_count": 1,
   "id": "27cc6da4-d70f-4513-9545-b94be85b7633",
   "metadata": {},
   "outputs": [
    {
     "name": "stdout",
     "output_type": "stream",
     "text": [
      "{1: 1, 2: 4, 3: 9}\n"
     ]
    }
   ],
   "source": [
    "a = {x: x**2 for x in (1, 2, 3)}\n",
    "print(a)"
   ]
  },
  {
   "cell_type": "code",
   "execution_count": null,
   "id": "a124667e-b81e-44b5-956b-aade4924a538",
   "metadata": {},
   "outputs": [],
   "source": []
  }
 ],
 "metadata": {
  "kernelspec": {
   "display_name": "Python 3 (ipykernel)",
   "language": "python",
   "name": "python3"
  },
  "language_info": {
   "codemirror_mode": {
    "name": "ipython",
    "version": 3
   },
   "file_extension": ".py",
   "mimetype": "text/x-python",
   "name": "python",
   "nbconvert_exporter": "python",
   "pygments_lexer": "ipython3",
   "version": "3.11.7"
  }
 },
 "nbformat": 4,
 "nbformat_minor": 5
}
