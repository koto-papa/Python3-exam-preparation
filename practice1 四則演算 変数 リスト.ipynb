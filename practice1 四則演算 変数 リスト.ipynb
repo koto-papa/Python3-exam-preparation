{
 "cells": [
  {
   "cell_type": "code",
   "execution_count": null,
   "id": "f75c16c5-8e09-44f5-bebc-f28129849646",
   "metadata": {},
   "outputs": [],
   "source": [
    "# Python言語はインタプリタ型の言語\n",
    "# インタプリタはすぐにコードを実行でき、修正が容易なため学習に向いているが、実行速度が遅いという欠点がある"
   ]
  },
  {
   "cell_type": "markdown",
   "id": "c80cd0b1-763a-47a6-9b94-addb6b51b291",
   "metadata": {
    "jp-MarkdownHeadingCollapsed": true
   },
   "source": [
    "# 四則演算について"
   ]
  },
  {
   "cell_type": "code",
   "execution_count": 50,
   "id": "c755ee47-d17a-4d86-97e6-0a75d1b80cb5",
   "metadata": {},
   "outputs": [
    {
     "name": "stdout",
     "output_type": "stream",
     "text": [
      "5\n",
      "5.0\n",
      "-1\n",
      "-1.0\n"
     ]
    }
   ],
   "source": [
    "print(2+3)\n",
    "print(2.0+3)\n",
    "print(2-3)\n",
    "print(2.0-3)"
   ]
  },
  {
   "cell_type": "code",
   "execution_count": 59,
   "id": "057a030e-2b35-471e-9d7c-a0bfa701f211",
   "metadata": {},
   "outputs": [
    {
     "name": "stdout",
     "output_type": "stream",
     "text": [
      "6\n",
      "6.0\n",
      "0.6666666666666666\n",
      "3.0\n",
      "0.75\n",
      "4.0\n"
     ]
    }
   ],
   "source": [
    "print(2*3)\n",
    "print(2.0*3)\n",
    "print(2/3)\n",
    "print(6/2)\n",
    "print(6/4/2)\n",
    "print(8/4*2)"
   ]
  },
  {
   "cell_type": "code",
   "execution_count": 57,
   "id": "d95ec3ca-ce29-43e7-a3d2-c73437678e59",
   "metadata": {},
   "outputs": [
    {
     "name": "stdout",
     "output_type": "stream",
     "text": [
      "0\n",
      "0.0\n",
      "2\n",
      "2.0\n"
     ]
    }
   ],
   "source": [
    "print(2//3)\n",
    "print(2.0//3)\n",
    "print(2%3)\n",
    "print(2.0%3)"
   ]
  },
  {
   "cell_type": "code",
   "execution_count": 54,
   "id": "588830e2-4b29-470e-a210-891872e56754",
   "metadata": {},
   "outputs": [
    {
     "name": "stdout",
     "output_type": "stream",
     "text": [
      "8\n",
      "2\n",
      "0.75\n"
     ]
    }
   ],
   "source": [
    "print(2**3)\n",
    "print(2**1**3)\n",
    "print(6/2**3)"
   ]
  },
  {
   "cell_type": "code",
   "execution_count": 84,
   "id": "eb7376e4-f4c5-4e49-85b0-fb3015a15522",
   "metadata": {},
   "outputs": [
    {
     "name": "stdout",
     "output_type": "stream",
     "text": [
      "3\n",
      "3.0\n",
      "3.1\n",
      "3.14\n",
      "3.142\n",
      "3.141592\n",
      "0.0\n",
      "0.0\n"
     ]
    }
   ],
   "source": [
    "print(round(3.141592))\n",
    "print(round(3.141592,0))\n",
    "print(round(3.141592,1))\n",
    "print(round(3.141592,2))\n",
    "print(round(3.141592,3))\n",
    "print(round(3.141592,10))\n",
    "print(round(3.141592,-1))\n",
    "print(round(3.141592,-10))"
   ]
  },
  {
   "cell_type": "code",
   "execution_count": 82,
   "id": "4bfd5629-b0b2-4de3-93ab-354746afc30c",
   "metadata": {},
   "outputs": [
    {
     "name": "stdout",
     "output_type": "stream",
     "text": [
      "314\n",
      "314\n",
      "310\n",
      "300\n",
      "0\n"
     ]
    }
   ],
   "source": [
    "print(round(314))\n",
    "print(round(314,0))\n",
    "print(round(314,-1))\n",
    "print(round(314,-2))\n",
    "print(round(314,-10))"
   ]
  },
  {
   "cell_type": "code",
   "execution_count": 91,
   "id": "573364df-d1b4-4f83-8bcc-3b37ccb4c13d",
   "metadata": {},
   "outputs": [
    {
     "name": "stdout",
     "output_type": "stream",
     "text": [
      "3.1\n",
      "3.2\n",
      "3.4\n",
      "3.5\n",
      "3.5\n"
     ]
    }
   ],
   "source": [
    "print(round(3.15,1))\n",
    "print(round(3.25,1))\n",
    "print(round(3.35,1))\n",
    "print(round(3.45,1))\n",
    "print(round(3.55,1))"
   ]
  },
  {
   "cell_type": "markdown",
   "id": "1ebeabb0-db6d-4a89-8943-55552815d2c9",
   "metadata": {},
   "source": [
    "# 変数について"
   ]
  },
  {
   "cell_type": "code",
   "execution_count": 19,
   "id": "d4aa23dd-b36c-4d13-8fd5-2f8d43b7a770",
   "metadata": {},
   "outputs": [
    {
     "data": {
      "text/plain": [
       "600"
      ]
     },
     "execution_count": 19,
     "metadata": {},
     "output_type": "execute_result"
    }
   ],
   "source": [
    "# 変数の宣言は不要\n",
    "width = 20\n",
    "height = 30\n",
    "width * height"
   ]
  },
  {
   "cell_type": "code",
   "execution_count": 2,
   "id": "b81ab532-fe3a-4939-ae69-f3363ad91e68",
   "metadata": {},
   "outputs": [
    {
     "ename": "NameError",
     "evalue": "name 'abc' is not defined",
     "output_type": "error",
     "traceback": [
      "\u001b[1;31m---------------------------------------------------------------------------\u001b[0m",
      "\u001b[1;31mNameError\u001b[0m                                 Traceback (most recent call last)",
      "Cell \u001b[1;32mIn[2], line 1\u001b[0m\n\u001b[1;32m----> 1\u001b[0m abc\n",
      "\u001b[1;31mNameError\u001b[0m: name 'abc' is not defined"
     ]
    }
   ],
   "source": [
    "abc"
   ]
  },
  {
   "cell_type": "code",
   "execution_count": 9,
   "id": "c5aee33f-2467-467d-b44a-0b939fbe70c8",
   "metadata": {},
   "outputs": [
    {
     "name": "stdout",
     "output_type": "stream",
     "text": [
      "579\n",
      "<class 'int'>\n"
     ]
    }
   ],
   "source": [
    "a=123\n",
    "b=a+456\n",
    "print(b)\n",
    "print(type(b))"
   ]
  },
  {
   "cell_type": "code",
   "execution_count": 1,
   "id": "9c351abd-8d4a-43a8-9616-ef99a89bebd3",
   "metadata": {},
   "outputs": [
    {
     "name": "stdout",
     "output_type": "stream",
     "text": [
      "123456\n",
      "<class 'str'>\n"
     ]
    }
   ],
   "source": [
    "c='123'\n",
    "d=c+'456'\n",
    "print(d)\n",
    "print(type(d))"
   ]
  },
  {
   "cell_type": "code",
   "execution_count": 2,
   "id": "13408bb4-e5c9-48d7-af5f-08872713d1ca",
   "metadata": {},
   "outputs": [
    {
     "name": "stdout",
     "output_type": "stream",
     "text": [
      "579\n"
     ]
    }
   ],
   "source": [
    "aa='123'\n",
    "bb=int(aa)+456\n",
    "print(bb)"
   ]
  },
  {
   "cell_type": "code",
   "execution_count": 15,
   "id": "c3734b86-8e6f-4781-b0dd-120cd1ca92af",
   "metadata": {},
   "outputs": [
    {
     "name": "stdout",
     "output_type": "stream",
     "text": [
      "123456\n"
     ]
    }
   ],
   "source": [
    "cc=123\n",
    "dd=str(cc)+'456'\n",
    "print(dd)"
   ]
  },
  {
   "cell_type": "code",
   "execution_count": 20,
   "id": "4cc86385-831f-4428-8909-5d8dc5f967e6",
   "metadata": {},
   "outputs": [
    {
     "data": {
      "text/plain": [
       "700"
      ]
     },
     "execution_count": 20,
     "metadata": {},
     "output_type": "execute_result"
    }
   ],
   "source": [
    "# 対話形式において、変数( _ )には直近で実行されたコードの実行結果が代入されている\n",
    "depth = 100\n",
    "depth + _"
   ]
  },
  {
   "cell_type": "code",
   "execution_count": 3,
   "id": "6ab3e532-e124-49f2-b7c5-a8b1ca5074a7",
   "metadata": {},
   "outputs": [
    {
     "name": "stdout",
     "output_type": "stream",
     "text": [
      "direngrey\n",
      "direngrey\n",
      "direngrey\n",
      "dirdirdirengrey\n",
      "dirdirdirengrey\n"
     ]
    }
   ],
   "source": [
    "a='dir'+'en'+'grey'\n",
    "b='dir''en''grey'\n",
    "c='dir' 'en' 'grey'\n",
    "d='dir'*3+'en'+'grey'\n",
    "e=3*'dir'+'en'+'grey'\n",
    "print(a)\n",
    "print(b)\n",
    "print(c)\n",
    "print(d)\n",
    "print(e)"
   ]
  },
  {
   "cell_type": "code",
   "execution_count": 5,
   "id": "08d66988-565d-4942-a7b0-c02bf1d1ceda",
   "metadata": {},
   "outputs": [
    {
     "ename": "SyntaxError",
     "evalue": "invalid syntax (2518550822.py, line 1)",
     "output_type": "error",
     "traceback": [
      "\u001b[1;36m  Cell \u001b[1;32mIn[5], line 1\u001b[1;36m\u001b[0m\n\u001b[1;33m    f='dir'*3 'en' 'grey'\u001b[0m\n\u001b[1;37m              ^\u001b[0m\n\u001b[1;31mSyntaxError\u001b[0m\u001b[1;31m:\u001b[0m invalid syntax\n"
     ]
    }
   ],
   "source": [
    "f='dir'*3 'en' 'grey'\n",
    "print(f)"
   ]
  },
  {
   "cell_type": "code",
   "execution_count": 7,
   "id": "767ec334-9d6b-4322-99ac-d60e84bfbde3",
   "metadata": {},
   "outputs": [
    {
     "name": "stdout",
     "output_type": "stream",
     "text": [
      "penpineapple\n"
     ]
    }
   ],
   "source": [
    "str = 'pen'\n",
    "print(str + 'pine' 'apple')"
   ]
  },
  {
   "cell_type": "code",
   "execution_count": 8,
   "id": "99860394-573c-4ef1-9a8b-abc53bc1e053",
   "metadata": {},
   "outputs": [
    {
     "ename": "SyntaxError",
     "evalue": "invalid syntax (3909130394.py, line 2)",
     "output_type": "error",
     "traceback": [
      "\u001b[1;36m  Cell \u001b[1;32mIn[8], line 2\u001b[1;36m\u001b[0m\n\u001b[1;33m    print(str  'pine' 'apple')\u001b[0m\n\u001b[1;37m               ^\u001b[0m\n\u001b[1;31mSyntaxError\u001b[0m\u001b[1;31m:\u001b[0m invalid syntax\n"
     ]
    }
   ],
   "source": [
    "str = 'pen'\n",
    "print(str  'pine' 'apple')"
   ]
  },
  {
   "cell_type": "code",
   "execution_count": 22,
   "id": "d71084f1-d880-41cd-a497-d67aee2b3d38",
   "metadata": {},
   "outputs": [
    {
     "name": "stdout",
     "output_type": "stream",
     "text": [
      "こんにちは。向明です。\n"
     ]
    }
   ],
   "source": [
    "name='向明'\n",
    "print('こんにちは。'+name+'です。')"
   ]
  },
  {
   "cell_type": "code",
   "execution_count": 23,
   "id": "86feb6a1-cf25-4bda-96fc-423603c856a1",
   "metadata": {},
   "outputs": [
    {
     "name": "stdout",
     "output_type": "stream",
     "text": [
      "こんにちは。橙加です。年齢は2才です。\n"
     ]
    }
   ],
   "source": [
    "name='橙加'\n",
    "age=2\n",
    "print('こんにちは。{}です。年齢は{}才です。'.format(name,age))"
   ]
  },
  {
   "cell_type": "code",
   "execution_count": 1,
   "id": "291f11eb-e04a-4558-9d47-370d80c5eed3",
   "metadata": {},
   "outputs": [
    {
     "name": "stdout",
     "output_type": "stream",
     "text": [
      "こんにちは。橙加です。年齢は2才です。\n"
     ]
    }
   ],
   "source": [
    "name='橙加'\n",
    "age=2\n",
    "print(f'こんにちは。{name}です。年齢は{age}才です。')"
   ]
  },
  {
   "cell_type": "code",
   "execution_count": 1,
   "id": "d1b582d6-08e6-4793-a768-c4e76295c279",
   "metadata": {},
   "outputs": [
    {
     "name": "stdout",
     "output_type": "stream",
     "text": [
      "\n",
      "suzuki\n",
      "tanaka\n"
     ]
    }
   ],
   "source": [
    "name1,name2,name3= '', 'tanaka','suzuki'\n",
    "selected_name = name1 or name2 or name3\n",
    "print(name1)\n",
    "print(name3)\n",
    "print(selected_name)"
   ]
  },
  {
   "cell_type": "code",
   "execution_count": 36,
   "id": "d042c9f9-a511-4302-b0b8-47c08faef359",
   "metadata": {},
   "outputs": [
    {
     "data": {
      "text/plain": [
       "3"
      ]
     },
     "execution_count": 36,
     "metadata": {},
     "output_type": "execute_result"
    }
   ],
   "source": [
    "num_1=3\n",
    "num_1"
   ]
  },
  {
   "cell_type": "code",
   "execution_count": 3,
   "id": "b0ed4489-e325-4774-a730-baefe89f0227",
   "metadata": {},
   "outputs": [
    {
     "ename": "SyntaxError",
     "evalue": "invalid syntax (401368778.py, line 1)",
     "output_type": "error",
     "traceback": [
      "\u001b[1;36m  Cell \u001b[1;32mIn[3], line 1\u001b[1;36m\u001b[0m\n\u001b[1;33m    num$1=4\u001b[0m\n\u001b[1;37m       ^\u001b[0m\n\u001b[1;31mSyntaxError\u001b[0m\u001b[1;31m:\u001b[0m invalid syntax\n"
     ]
    }
   ],
   "source": [
    "num$1=4\n",
    "num$1"
   ]
  },
  {
   "cell_type": "code",
   "execution_count": 4,
   "id": "f65ee826-6374-496d-922d-8c98a32e9374",
   "metadata": {},
   "outputs": [
    {
     "ename": "SyntaxError",
     "evalue": "invalid decimal literal (504838810.py, line 1)",
     "output_type": "error",
     "traceback": [
      "\u001b[1;36m  Cell \u001b[1;32mIn[4], line 1\u001b[1;36m\u001b[0m\n\u001b[1;33m    1num=5\u001b[0m\n\u001b[1;37m    ^\u001b[0m\n\u001b[1;31mSyntaxError\u001b[0m\u001b[1;31m:\u001b[0m invalid decimal literal\n"
     ]
    }
   ],
   "source": [
    "1num=5\n",
    "1num"
   ]
  },
  {
   "cell_type": "code",
   "execution_count": null,
   "id": "412e0217-c676-492d-b623-acd8da9e9f2d",
   "metadata": {},
   "outputs": [],
   "source": []
  },
  {
   "cell_type": "code",
   "execution_count": 22,
   "id": "0d4abca0-47da-46fb-9955-196718712f45",
   "metadata": {},
   "outputs": [
    {
     "name": "stdout",
     "output_type": "stream",
     "text": [
      "Python(パイソン)とは、1991年にオランダ人のGuido van Rossum(グイド・ヴァン・ロッサム)氏が開発したプログラミング言語のことです。\n",
      "Pythonという名前に関しては、イギリスのテレビ局 BBC が製作したコメディ番組「空飛ぶモンティ・パイソン」にちなんで付けられました。\n"
     ]
    }
   ],
   "source": [
    "# print()関数の()内で改行させたい箇所に\\nを入れることで、出力結果に改行を入れることができます。\n",
    "print('Python(パイソン)とは、1991年にオランダ人のGuido van Rossum(グイド・ヴァン・ロッサム)氏が開発したプログラミング言語のことです。\\nPythonという名前に関しては、イギリスのテレビ局 BBC が製作したコメディ番組「空飛ぶモンティ・パイソン」にちなんで付けられました。')"
   ]
  },
  {
   "cell_type": "code",
   "execution_count": 5,
   "id": "fca9f71a-7474-48ac-92fb-db217de1c47a",
   "metadata": {},
   "outputs": [
    {
     "name": "stdout",
     "output_type": "stream",
     "text": [
      "D:\\home\n",
      "ame\\python\n",
      "D:\\home\\name\\python\n"
     ]
    }
   ],
   "source": [
    "print('D:\\home\\name\\python')\n",
    "# raw文字列を使うと、指定の文字一つ一つにエスケープシーケンスを付与しなくても「\\」を一つの文字として扱うようになります。\n",
    "# raw文字列の使い方は r'文字列' や R '文字列' とします。\n",
    "print(r'D:\\home\\name\\python')"
   ]
  },
  {
   "cell_type": "code",
   "execution_count": 2,
   "id": "4ac632b3-1f15-497d-9b1b-76094831ce46",
   "metadata": {},
   "outputs": [
    {
     "name": "stdout",
     "output_type": "stream",
     "text": [
      "Happy Coding\n",
      "Happy\\Coding\n",
      "Happy\n",
      "Coding\n",
      "Happy\n",
      "Coding\t\n"
     ]
    }
   ],
   "source": [
    "letters = 'Happy Coding'\n",
    "print(letters)\n",
    "\n",
    "letters1 = 'Happy\\Coding'\n",
    "print(letters1)\n",
    "\n",
    "# \\n は改行\n",
    "letters2 = 'Happy\\nCoding'\n",
    "print(letters2)\n",
    "\n",
    "# \\t はタブ\n",
    "letters3 = 'Happy\\nCoding\\t'\n",
    "print(letters3)"
   ]
  },
  {
   "cell_type": "code",
   "execution_count": 3,
   "id": "bafe9285-a489-421b-808a-c3a6fdba63a9",
   "metadata": {},
   "outputs": [
    {
     "name": "stdout",
     "output_type": "stream",
     "text": [
      "12\n",
      "12\n",
      "12\n",
      "13\n"
     ]
    }
   ],
   "source": [
    "print(len(letters))\n",
    "print(len(letters1))\n",
    "print(len(letters2))\n",
    "print(len(letters3))"
   ]
  },
  {
   "cell_type": "code",
   "execution_count": 1,
   "id": "7a90d12e-0a7b-4f2f-be91-9f4ebab4fff5",
   "metadata": {},
   "outputs": [
    {
     "name": "stdout",
     "output_type": "stream",
     "text": [
      "It's a \n",
      " small world\n",
      "20\n"
     ]
    }
   ],
   "source": [
    "# \\' はシングルクォーテーション\n",
    "print('It\\'s a \\n small world')\n",
    "print(len('It\\'s a \\n small world'))"
   ]
  },
  {
   "cell_type": "code",
   "execution_count": null,
   "id": "82680e39-19b6-4841-bcd4-55aa8de3613b",
   "metadata": {},
   "outputs": [],
   "source": []
  },
  {
   "cell_type": "code",
   "execution_count": 2,
   "id": "8a8f54db-5653-46e5-85bd-3cbdd36f1b3c",
   "metadata": {},
   "outputs": [
    {
     "name": "stdout",
     "output_type": "stream",
     "text": [
      "y\n",
      "o\n",
      "ppy Co\n"
     ]
    }
   ],
   "source": [
    "letters = 'Happy Coding'\n",
    "print(letters[4])\n",
    "print(letters[-5])\n",
    "print(letters[2:8])"
   ]
  },
  {
   "cell_type": "code",
   "execution_count": 3,
   "id": "254e2b09-558e-472f-96cd-ff1cefcae7ef",
   "metadata": {},
   "outputs": [
    {
     "name": "stdout",
     "output_type": "stream",
     "text": [
      "Happy Co\n",
      "ding\n",
      "Happy C\n",
      "oding\n",
      "Happy Coding\n",
      "Hapa\n"
     ]
    }
   ],
   "source": [
    "letters = 'Happy Coding'\n",
    "print(letters[:8])\n",
    "print(letters[8:])\n",
    "print(letters[:-5])\n",
    "print(letters[-5:])\n",
    "print(letters[:])\n",
    "print(letters[:3]+'a')"
   ]
  },
  {
   "cell_type": "code",
   "execution_count": 4,
   "id": "e02be875-47cb-4f65-ac99-67f3f7db11e0",
   "metadata": {},
   "outputs": [
    {
     "name": "stdout",
     "output_type": "stream",
     "text": [
      "Happy Coding\n",
      "\n",
      "\n"
     ]
    }
   ],
   "source": [
    "letters = 'Happy Coding'\n",
    "print(letters[:100])\n",
    "print(letters[100:])\n",
    "print(letters[100:200])"
   ]
  },
  {
   "cell_type": "code",
   "execution_count": 5,
   "id": "7165f803-566b-4567-bd4c-fc4bb2828b04",
   "metadata": {},
   "outputs": [
    {
     "name": "stdout",
     "output_type": "stream",
     "text": [
      "HpyCdn\n",
      "HpyCdn\n",
      "gio pa\n"
     ]
    }
   ],
   "source": [
    "letters = 'Happy Coding'\n",
    "print(letters[0:13:2])\n",
    "print(letters[::2])\n",
    "print(letters[::-2])"
   ]
  },
  {
   "cell_type": "code",
   "execution_count": 6,
   "id": "7419a3b3-ef9c-453a-a043-a90fe783fb94",
   "metadata": {},
   "outputs": [
    {
     "ename": "IndexError",
     "evalue": "string index out of range",
     "output_type": "error",
     "traceback": [
      "\u001b[1;31m---------------------------------------------------------------------------\u001b[0m",
      "\u001b[1;31mIndexError\u001b[0m                                Traceback (most recent call last)",
      "Cell \u001b[1;32mIn[6], line 2\u001b[0m\n\u001b[0;32m      1\u001b[0m letters \u001b[38;5;241m=\u001b[39m \u001b[38;5;124m'\u001b[39m\u001b[38;5;124mHappy Coding\u001b[39m\u001b[38;5;124m'\u001b[39m\n\u001b[1;32m----> 2\u001b[0m \u001b[38;5;28mprint\u001b[39m(letters[\u001b[38;5;241m12\u001b[39m])\n",
      "\u001b[1;31mIndexError\u001b[0m: string index out of range"
     ]
    }
   ],
   "source": [
    "letters = 'Happy Coding'\n",
    "print(letters[12])"
   ]
  },
  {
   "cell_type": "code",
   "execution_count": 7,
   "id": "7d35e533-2db4-4da1-a6a4-421eb2f11a33",
   "metadata": {},
   "outputs": [
    {
     "ename": "SyntaxError",
     "evalue": "invalid syntax. Perhaps you forgot a comma? (1399795059.py, line 2)",
     "output_type": "error",
     "traceback": [
      "\u001b[1;36m  Cell \u001b[1;32mIn[7], line 2\u001b[1;36m\u001b[0m\n\u001b[1;33m    print(letters[])\u001b[0m\n\u001b[1;37m          ^\u001b[0m\n\u001b[1;31mSyntaxError\u001b[0m\u001b[1;31m:\u001b[0m invalid syntax. Perhaps you forgot a comma?\n"
     ]
    }
   ],
   "source": [
    "letters = 'Happy Coding'\n",
    "print(letters[])"
   ]
  },
  {
   "cell_type": "code",
   "execution_count": 8,
   "id": "ded5b902-9e77-4ace-a866-4666c0e5d00c",
   "metadata": {},
   "outputs": [
    {
     "ename": "SyntaxError",
     "evalue": "expression cannot contain assignment, perhaps you meant \"==\"? (2803360949.py, line 2)",
     "output_type": "error",
     "traceback": [
      "\u001b[1;36m  Cell \u001b[1;32mIn[8], line 2\u001b[1;36m\u001b[0m\n\u001b[1;33m    print(letters[4]='x')\u001b[0m\n\u001b[1;37m          ^\u001b[0m\n\u001b[1;31mSyntaxError\u001b[0m\u001b[1;31m:\u001b[0m expression cannot contain assignment, perhaps you meant \"==\"?\n"
     ]
    }
   ],
   "source": [
    "letters = 'Happy Coding'\n",
    "print(letters[4]='x')"
   ]
  },
  {
   "cell_type": "markdown",
   "id": "646d321a-421b-4614-954c-f738026d28f2",
   "metadata": {},
   "source": [
    "# リストについて"
   ]
  },
  {
   "cell_type": "code",
   "execution_count": 1,
   "id": "a181a3d6-fd4b-4eba-823d-ca5849c1ee15",
   "metadata": {},
   "outputs": [
    {
     "data": {
      "text/plain": [
       "[1, 2, 3, 4, 5, 6, 7, 8, 9, 10]"
      ]
     },
     "execution_count": 1,
     "metadata": {},
     "output_type": "execute_result"
    }
   ],
   "source": [
    "numbers = [1, 2, 3, 4, 5, 6, 7, 8, 9, 10]\n",
    "numbers"
   ]
  },
  {
   "cell_type": "code",
   "execution_count": 22,
   "id": "6f74fc82-5aa5-45b3-a81d-cd0e380cb144",
   "metadata": {},
   "outputs": [
    {
     "data": {
      "text/plain": [
       "['sato',\n",
       " 'suzuki',\n",
       " 'takahashi',\n",
       " 'sato',\n",
       " 'suzuki',\n",
       " 'takahashi',\n",
       " 'sato',\n",
       " 'suzuki',\n",
       " 'takahashi']"
      ]
     },
     "execution_count": 22,
     "metadata": {},
     "output_type": "execute_result"
    }
   ],
   "source": [
    "a=['sato','suzuki','takahashi']*3\n",
    "a"
   ]
  },
  {
   "cell_type": "code",
   "execution_count": 1,
   "id": "1c334759-d175-434d-ad13-556cdf3f196b",
   "metadata": {},
   "outputs": [
    {
     "name": "stdout",
     "output_type": "stream",
     "text": [
      "y\n",
      "['H', 'a', 'p', 'p']\n",
      "['p', 'p', 'y', ' ', 'C', 'o']\n",
      "['H', 'a', 'p', 'p', 'y', ' ', 'C', 'o', 'd', 'i', 'n', 'g']\n",
      "['H', 'p', 'y', 'C', 'd', 'n']\n",
      "['g', 'i', 'o', ' ', 'p', 'a']\n",
      "['H', 'a', 'p', 'a']\n"
     ]
    }
   ],
   "source": [
    "letters = ['H','a','p','p','y', ' ', 'C', 'o', 'd', 'i', 'n', 'g']\n",
    "print(letters[4])\n",
    "print(letters[:4])\n",
    "print(letters[2:8])\n",
    "print(letters[:])\n",
    "print(letters[::2])\n",
    "print(letters[::-2])\n",
    "print(letters[:3]+['a'])"
   ]
  },
  {
   "cell_type": "code",
   "execution_count": 8,
   "id": "a713fca4-82de-4704-8171-4bb75f8f51c1",
   "metadata": {},
   "outputs": [
    {
     "ename": "IndexError",
     "evalue": "list index out of range",
     "output_type": "error",
     "traceback": [
      "\u001b[1;31m---------------------------------------------------------------------------\u001b[0m",
      "\u001b[1;31mIndexError\u001b[0m                                Traceback (most recent call last)",
      "Cell \u001b[1;32mIn[8], line 1\u001b[0m\n\u001b[1;32m----> 1\u001b[0m letters[\u001b[38;5;241m12\u001b[39m]\n",
      "\u001b[1;31mIndexError\u001b[0m: list index out of range"
     ]
    }
   ],
   "source": [
    "letters[12]"
   ]
  },
  {
   "cell_type": "code",
   "execution_count": 9,
   "id": "fd2c5ce9-1ff7-4f41-b1df-9cab2f6d5518",
   "metadata": {},
   "outputs": [
    {
     "ename": "SyntaxError",
     "evalue": "invalid syntax (383730215.py, line 1)",
     "output_type": "error",
     "traceback": [
      "\u001b[1;36m  Cell \u001b[1;32mIn[9], line 1\u001b[1;36m\u001b[0m\n\u001b[1;33m    letters[]\u001b[0m\n\u001b[1;37m            ^\u001b[0m\n\u001b[1;31mSyntaxError\u001b[0m\u001b[1;31m:\u001b[0m invalid syntax\n"
     ]
    }
   ],
   "source": [
    "letters[]"
   ]
  },
  {
   "cell_type": "code",
   "execution_count": 15,
   "id": "150e310c-f766-4e0f-b865-ab8e46936599",
   "metadata": {},
   "outputs": [
    {
     "name": "stdout",
     "output_type": "stream",
     "text": [
      "['Y', 'a', 'p', 'p', 'y', ' ', 'C', 'o', 'd', 'i', 'n', 'g']\n",
      "['Y', 'a', 'p', 'p', 'y', ' ', 'C', 'o', 'd', 'i', 'n', '20240506']\n",
      "['Y', 'a', 'p', 'p', 'y', ' ', 'C', 'o', 'd', 'i', 'n', '20240506', 20200807]\n"
     ]
    }
   ],
   "source": [
    "letters = ['H','a','p','p','y', ' ', 'C', 'o', 'd', 'i', 'n', 'g']\n",
    "letters[0] = 'Y'\n",
    "print(letters)\n",
    "letters[-1] = '20240506'\n",
    "print(letters)\n",
    "letters.append(20200807)\n",
    "print(letters)"
   ]
  },
  {
   "cell_type": "code",
   "execution_count": 5,
   "id": "97760526-86ed-4d03-9dd3-a676754bb474",
   "metadata": {},
   "outputs": [
    {
     "name": "stdout",
     "output_type": "stream",
     "text": [
      "5\n",
      "12\n"
     ]
    }
   ],
   "source": [
    "weekdays = ['Monday', 'Tuesday', 'Wednesday', 'Thursday', 'Friday']\n",
    "months = [1, 2, 3, 4, 5, 6, 7, 8, 9, 10, 11, 12]\n",
    "print(len(weekdays))\n",
    "print(len(months))"
   ]
  },
  {
   "cell_type": "code",
   "execution_count": 6,
   "id": "7d232542-7278-4383-b81a-c0e479f5b6c9",
   "metadata": {},
   "outputs": [
    {
     "name": "stdout",
     "output_type": "stream",
     "text": [
      "[['Monday', 'Tuesday', 'Wednesday', 'Thursday', 'Friday'], [1, 2, 3, 4, 5, 6, 7, 8, 9, 10, 11, 12]]\n",
      "2\n",
      "['Monday', 'Tuesday', 'Wednesday', 'Thursday', 'Friday']\n",
      "Wednesday\n"
     ]
    }
   ],
   "source": [
    "weekdays = ['Monday', 'Tuesday', 'Wednesday', 'Thursday', 'Friday']\n",
    "months = [1, 2, 3, 4, 5, 6, 7, 8, 9, 10, 11, 12]\n",
    "schedule = [weekdays, months]\n",
    "print(schedule)\n",
    "print(len(schedule))\n",
    "print(schedule[0])\n",
    "print(schedule[0][2])"
   ]
  },
  {
   "cell_type": "code",
   "execution_count": null,
   "id": "6f07675d-5954-4c6a-b7dc-644feb4305b1",
   "metadata": {},
   "outputs": [],
   "source": []
  },
  {
   "cell_type": "code",
   "execution_count": 24,
   "id": "4e63d036-c3c4-42f0-888c-de8e7321c322",
   "metadata": {},
   "outputs": [
    {
     "data": {
      "text/plain": [
       "[1]"
      ]
     },
     "execution_count": 24,
     "metadata": {},
     "output_type": "execute_result"
    }
   ],
   "source": [
    "sample = []\n",
    "sample.append(1)\n",
    "sample"
   ]
  },
  {
   "cell_type": "code",
   "execution_count": 9,
   "id": "1619d2a5-4496-4aca-8827-ca0eeaeaba84",
   "metadata": {},
   "outputs": [
    {
     "ename": "TypeError",
     "evalue": "list.append() takes exactly one argument (2 given)",
     "output_type": "error",
     "traceback": [
      "\u001b[1;31m---------------------------------------------------------------------------\u001b[0m",
      "\u001b[1;31mTypeError\u001b[0m                                 Traceback (most recent call last)",
      "Cell \u001b[1;32mIn[9], line 2\u001b[0m\n\u001b[0;32m      1\u001b[0m a \u001b[38;5;241m=\u001b[39m [\u001b[38;5;241m1\u001b[39m, \u001b[38;5;241m2\u001b[39m, \u001b[38;5;241m3\u001b[39m, \u001b[38;5;241m4\u001b[39m, \u001b[38;5;241m5\u001b[39m]\n\u001b[1;32m----> 2\u001b[0m a\u001b[38;5;241m.\u001b[39mappend(\u001b[38;5;241m6\u001b[39m, \u001b[38;5;241m7\u001b[39m)\n\u001b[0;32m      3\u001b[0m \u001b[38;5;28mprint\u001b[39m(a)\n",
      "\u001b[1;31mTypeError\u001b[0m: list.append() takes exactly one argument (2 given)"
     ]
    }
   ],
   "source": [
    "a = [1, 2, 3, 4, 5]\n",
    "a.append(6, 7)\n",
    "print(a)"
   ]
  },
  {
   "cell_type": "code",
   "execution_count": 28,
   "id": "77bc7fad-e4ed-41a4-b176-4349f2638447",
   "metadata": {},
   "outputs": [
    {
     "data": {
      "text/plain": [
       "['玉ねぎ', ['コーラ', 'オレンジジュース']]"
      ]
     },
     "execution_count": 28,
     "metadata": {},
     "output_type": "execute_result"
    }
   ],
   "source": [
    "memo = []\n",
    "memo.append(\"玉ねぎ\")\n",
    "memo.append([\"コーラ\",\"オレンジジュース\"])\n",
    "memo"
   ]
  },
  {
   "cell_type": "code",
   "execution_count": null,
   "id": "b5b5c29b-069a-491a-aa35-cb53bb30b5e9",
   "metadata": {},
   "outputs": [],
   "source": []
  },
  {
   "cell_type": "code",
   "execution_count": 25,
   "id": "c12ede8a-2490-45eb-aa87-fae5acdf3210",
   "metadata": {},
   "outputs": [
    {
     "data": {
      "text/plain": [
       "['玉ねぎ', ['コーラ', 'オレンジジュース'], 'カレールウ', 'にんじん', 'じゃがいも', '豚肉']"
      ]
     },
     "execution_count": 25,
     "metadata": {},
     "output_type": "execute_result"
    }
   ],
   "source": [
    "memo = ['玉ねぎ', ['コーラ', 'オレンジジュース']]\n",
    "mother_memo = [\"カレールウ\",\"にんじん\", \"じゃがいも\", \"豚肉\"]\n",
    "memo.extend(mother_memo)\n",
    "memo"
   ]
  },
  {
   "cell_type": "code",
   "execution_count": 1,
   "id": "30c1826b-9fe9-40f8-9153-cb1b6034761d",
   "metadata": {},
   "outputs": [
    {
     "data": {
      "text/plain": [
       "['玉ねぎ', ['コーラ', 'オレンジジュース'], 'カ', 'レ', 'ー', 'ル', 'ウ']"
      ]
     },
     "execution_count": 1,
     "metadata": {},
     "output_type": "execute_result"
    }
   ],
   "source": [
    "memo = ['玉ねぎ', ['コーラ', 'オレンジジュース']]\n",
    "memo.extend('カレールウ')\n",
    "memo"
   ]
  },
  {
   "cell_type": "code",
   "execution_count": 26,
   "id": "09ea1c44-e959-4e35-97ca-611b35f8d99e",
   "metadata": {},
   "outputs": [
    {
     "ename": "TypeError",
     "evalue": "'int' object is not iterable",
     "output_type": "error",
     "traceback": [
      "\u001b[1;31m---------------------------------------------------------------------------\u001b[0m",
      "\u001b[1;31mTypeError\u001b[0m                                 Traceback (most recent call last)",
      "Cell \u001b[1;32mIn[26], line 2\u001b[0m\n\u001b[0;32m      1\u001b[0m memo \u001b[38;5;241m=\u001b[39m [\u001b[38;5;124m'\u001b[39m\u001b[38;5;124m玉ねぎ\u001b[39m\u001b[38;5;124m'\u001b[39m, [\u001b[38;5;124m'\u001b[39m\u001b[38;5;124mコーラ\u001b[39m\u001b[38;5;124m'\u001b[39m, \u001b[38;5;124m'\u001b[39m\u001b[38;5;124mオレンジジュース\u001b[39m\u001b[38;5;124m'\u001b[39m]]\n\u001b[1;32m----> 2\u001b[0m memo\u001b[38;5;241m.\u001b[39mextend(\u001b[38;5;241m1\u001b[39m)\n\u001b[0;32m      3\u001b[0m memo\n",
      "\u001b[1;31mTypeError\u001b[0m: 'int' object is not iterable"
     ]
    }
   ],
   "source": [
    "memo = ['玉ねぎ', ['コーラ', 'オレンジジュース']]\n",
    "memo.extend(1)\n",
    "memo"
   ]
  },
  {
   "cell_type": "code",
   "execution_count": null,
   "id": "415d5521-c8b8-4d97-a882-55fb3e3c97d4",
   "metadata": {},
   "outputs": [],
   "source": []
  },
  {
   "cell_type": "code",
   "execution_count": 14,
   "id": "a3710cf2-b216-477d-8791-72eb42f4346e",
   "metadata": {},
   "outputs": [
    {
     "data": {
      "text/plain": [
       "['玉ねぎ', 'ノート', ['コーラ', 'オレンジジュース']]"
      ]
     },
     "execution_count": 14,
     "metadata": {},
     "output_type": "execute_result"
    }
   ],
   "source": [
    "memo = ['玉ねぎ', ['コーラ', 'オレンジジュース']]\n",
    "memo.insert(1, \"ノート\")\n",
    "memo"
   ]
  },
  {
   "cell_type": "code",
   "execution_count": null,
   "id": "c68000b1-5779-49af-b9e6-181e82994030",
   "metadata": {},
   "outputs": [],
   "source": []
  },
  {
   "cell_type": "code",
   "execution_count": 27,
   "id": "f16b9b05-a741-4a4b-810e-709f59406798",
   "metadata": {},
   "outputs": [
    {
     "data": {
      "text/plain": [
       "[['コーラ', 'オレンジジュース'], '玉ねぎ']"
      ]
     },
     "execution_count": 27,
     "metadata": {},
     "output_type": "execute_result"
    }
   ],
   "source": [
    "memo = ['玉ねぎ', ['コーラ', 'オレンジジュース'], '玉ねぎ']\n",
    "memo.remove(\"玉ねぎ\")\n",
    "memo"
   ]
  },
  {
   "cell_type": "code",
   "execution_count": 21,
   "id": "2c43e3d1-6cc0-435d-8c8e-3e06bfe707ec",
   "metadata": {},
   "outputs": [
    {
     "ename": "ValueError",
     "evalue": "list.remove(x): x not in list",
     "output_type": "error",
     "traceback": [
      "\u001b[1;31m---------------------------------------------------------------------------\u001b[0m",
      "\u001b[1;31mValueError\u001b[0m                                Traceback (most recent call last)",
      "Cell \u001b[1;32mIn[21], line 2\u001b[0m\n\u001b[0;32m      1\u001b[0m memo \u001b[38;5;241m=\u001b[39m [\u001b[38;5;124m'\u001b[39m\u001b[38;5;124m玉ねぎ\u001b[39m\u001b[38;5;124m'\u001b[39m, [\u001b[38;5;124m'\u001b[39m\u001b[38;5;124mコーラ\u001b[39m\u001b[38;5;124m'\u001b[39m, \u001b[38;5;124m'\u001b[39m\u001b[38;5;124mオレンジジュース\u001b[39m\u001b[38;5;124m'\u001b[39m]]\n\u001b[1;32m----> 2\u001b[0m memo\u001b[38;5;241m.\u001b[39mremove(\u001b[38;5;124m\"\u001b[39m\u001b[38;5;124mピーマン\u001b[39m\u001b[38;5;124m\"\u001b[39m)\n\u001b[0;32m      3\u001b[0m memo\n",
      "\u001b[1;31mValueError\u001b[0m: list.remove(x): x not in list"
     ]
    }
   ],
   "source": [
    "memo = ['玉ねぎ', ['コーラ', 'オレンジジュース']]\n",
    "memo.remove(\"ピーマン\")\n",
    "memo"
   ]
  },
  {
   "cell_type": "code",
   "execution_count": null,
   "id": "1601a540-b41a-4ee5-89c2-d12ad43cee01",
   "metadata": {},
   "outputs": [],
   "source": []
  },
  {
   "cell_type": "markdown",
   "id": "b2d4c426-8fe6-410c-93ec-5fa16e2066f9",
   "metadata": {},
   "source": [
    "popleft()メソッドを使用することで、先頭の要素を取り出すことができます。\n",
    "<br>\n",
    "なお、popleft()メソッドを使用する場合、リストをdequeというデータ型に変換する必要があります。。\n",
    "<br>\n",
    "pop()メソッドでも同様の処理ができますが、dequeを使ってデータ型を変換し、popleft()で取り出した方が高速に処理できます。"
   ]
  },
  {
   "cell_type": "code",
   "execution_count": 1,
   "id": "74ccebcd-e3b9-44de-939c-a534f2526d36",
   "metadata": {},
   "outputs": [
    {
     "name": "stdout",
     "output_type": "stream",
     "text": [
      "deque(['玉ねぎ', ['コーラ', 'オレンジジュース'], 'にんじん', 'じゃがいも', '豚肉'])\n",
      "['ノート']\n",
      "ノート\n"
     ]
    }
   ],
   "source": [
    "# データ型をdequeに変化するライブラリを導入します。\n",
    "from collections import deque\n",
    "\n",
    "memo = ['ノート', '玉ねぎ', ['コーラ', 'オレンジジュース'], 'にんじん', 'じゃがいも', '豚肉']\n",
    "purchased = []\n",
    "\n",
    "# リストをdequeというデータ型に変換します。\n",
    "memo = deque(memo)\n",
    "\n",
    "myhand = memo.popleft()\n",
    "purchased.append(myhand)\n",
    "print(memo)\n",
    "print(purchased)\n",
    "print(myhand)"
   ]
  },
  {
   "cell_type": "code",
   "execution_count": 17,
   "id": "ce7a7e12-9931-4bad-a105-f9f48cf06914",
   "metadata": {},
   "outputs": [
    {
     "name": "stdout",
     "output_type": "stream",
     "text": [
      "['玉ねぎ', ['コーラ', 'オレンジジュース'], 'にんじん', 'じゃがいも']\n",
      "豚肉\n",
      "['ノート', '豚肉']\n",
      "['玉ねぎ', ['コーラ', 'オレンジジュース'], 'にんじん']\n",
      "じゃがいも\n",
      "['ノート', '豚肉', 'じゃがいも']\n",
      "['玉ねぎ', ['コーラ', 'オレンジジュース']]\n",
      "にんじん\n",
      "['ノート', '豚肉', 'じゃがいも', 'にんじん']\n",
      "['玉ねぎ']\n",
      "['コーラ', 'オレンジジュース']\n",
      "['ノート', '豚肉', 'じゃがいも', 'にんじん', ['コーラ', 'オレンジジュース']]\n",
      "[]\n",
      "玉ねぎ\n",
      "['ノート', '豚肉', 'じゃがいも', 'にんじん', ['コーラ', 'オレンジジュース'], '玉ねぎ']\n"
     ]
    }
   ],
   "source": [
    "memo = ['玉ねぎ', ['コーラ', 'オレンジジュース'], 'にんじん', 'じゃがいも', '豚肉']\n",
    "purchased = ['ノート']\n",
    "for i in range(len(memo)):\n",
    "    # インデックスを指定しない場合、一番後ろの要素が取り出されます。\n",
    "    myhand = memo.pop()\n",
    "    purchased.append(myhand)\n",
    "    \n",
    "    print(memo)\n",
    "    print(myhand)\n",
    "    print(purchased)"
   ]
  },
  {
   "cell_type": "code",
   "execution_count": 24,
   "id": "be6c2f58-f4ef-4617-bec9-4424758ff0e6",
   "metadata": {},
   "outputs": [
    {
     "name": "stdout",
     "output_type": "stream",
     "text": [
      "[['コーラ', 'オレンジジュース'], 'にんじん', 'じゃがいも', '豚肉']\n",
      "玉ねぎ\n",
      "['ノート', '玉ねぎ']\n",
      "['にんじん', 'じゃがいも', '豚肉']\n",
      "['コーラ', 'オレンジジュース']\n",
      "['ノート', '玉ねぎ', ['コーラ', 'オレンジジュース']]\n",
      "['じゃがいも', '豚肉']\n",
      "にんじん\n",
      "['ノート', '玉ねぎ', ['コーラ', 'オレンジジュース'], 'にんじん']\n",
      "['豚肉']\n",
      "じゃがいも\n",
      "['ノート', '玉ねぎ', ['コーラ', 'オレンジジュース'], 'にんじん', 'じゃがいも']\n",
      "[]\n",
      "豚肉\n",
      "['ノート', '玉ねぎ', ['コーラ', 'オレンジジュース'], 'にんじん', 'じゃがいも', '豚肉']\n"
     ]
    }
   ],
   "source": [
    "memo = ['玉ねぎ', ['コーラ', 'オレンジジュース'], 'にんじん', 'じゃがいも', '豚肉']\n",
    "purchased = ['ノート']\n",
    "for i in range(len(memo)):\n",
    "    myhand = memo.pop(0)\n",
    "    purchased.append(myhand)\n",
    "    \n",
    "    print(memo)\n",
    "    print(myhand)\n",
    "    print(purchased)"
   ]
  },
  {
   "cell_type": "code",
   "execution_count": 12,
   "id": "a9214333-e398-4170-97c9-5c9ef7fd934a",
   "metadata": {},
   "outputs": [
    {
     "data": {
      "text/plain": [
       "[]"
      ]
     },
     "execution_count": 12,
     "metadata": {},
     "output_type": "execute_result"
    }
   ],
   "source": [
    "purchased.clear()\n",
    "purchased"
   ]
  },
  {
   "cell_type": "code",
   "execution_count": null,
   "id": "07ce6e20-817e-4375-903f-7a6ce973b7da",
   "metadata": {},
   "outputs": [],
   "source": []
  },
  {
   "cell_type": "code",
   "execution_count": 16,
   "id": "a0b05961-9d06-469f-af69-71c4c7c24b60",
   "metadata": {},
   "outputs": [
    {
     "data": {
      "text/plain": [
       "5"
      ]
     },
     "execution_count": 16,
     "metadata": {},
     "output_type": "execute_result"
    }
   ],
   "source": [
    "m = [1, 3, 6, 8, 7, 4, 10, 2, 4, 10, 9]\n",
    "m.index(4)"
   ]
  },
  {
   "cell_type": "code",
   "execution_count": 15,
   "id": "22a10a6b-c644-42fa-8db1-a9d9f169000c",
   "metadata": {},
   "outputs": [
    {
     "name": "stdout",
     "output_type": "stream",
     "text": [
      "4巻は左から9番目の本です。\n"
     ]
    }
   ],
   "source": [
    "m1 = [1, 3, 6, 8, 7, 9, 10, 2, 4, 5, 3]\n",
    "a = m1.index(4)\n",
    "print(f\"4巻は左から{a+1}番目の本です。\")"
   ]
  },
  {
   "cell_type": "code",
   "execution_count": 13,
   "id": "f036f418-1451-47be-9007-586a6c55bca8",
   "metadata": {},
   "outputs": [
    {
     "data": {
      "text/plain": [
       "10"
      ]
     },
     "execution_count": 13,
     "metadata": {},
     "output_type": "execute_result"
    }
   ],
   "source": [
    "m2 = [1, 3, 6, 8, 7, 4, 10, 2, 4, 10, 9]\n",
    "max(m2)"
   ]
  },
  {
   "cell_type": "code",
   "execution_count": 17,
   "id": "bc90cea9-413d-447d-b29c-1525a6107241",
   "metadata": {},
   "outputs": [
    {
     "data": {
      "text/plain": [
       "6"
      ]
     },
     "execution_count": 17,
     "metadata": {},
     "output_type": "execute_result"
    }
   ],
   "source": [
    "m3 = [1, 3, 6, 8, 7, 4, 10, 2, 4, 10, 9]\n",
    "m3.index(max(m3))"
   ]
  },
  {
   "cell_type": "code",
   "execution_count": null,
   "id": "c4c5c029-a3bb-4a55-8658-460434bab75b",
   "metadata": {},
   "outputs": [],
   "source": []
  },
  {
   "cell_type": "code",
   "execution_count": 3,
   "id": "1ea6c5e9-b62c-459e-b273-6c3cedb49932",
   "metadata": {},
   "outputs": [
    {
     "data": {
      "text/plain": [
       "2"
      ]
     },
     "execution_count": 3,
     "metadata": {},
     "output_type": "execute_result"
    }
   ],
   "source": [
    "manga1 = [1, 3, 6, 8, 7, 9, 10, 2, 4, 5, 3]\n",
    "manga1.count(3)"
   ]
  },
  {
   "cell_type": "code",
   "execution_count": null,
   "id": "1168a97c-93b1-4c90-86af-8ee3d353b64f",
   "metadata": {},
   "outputs": [],
   "source": []
  },
  {
   "cell_type": "code",
   "execution_count": 4,
   "id": "d2ea0e38-2516-45bf-bc68-f034d726b48b",
   "metadata": {},
   "outputs": [
    {
     "data": {
      "text/plain": [
       "[1, 2, 3, 3, 4, 5, 6, 7, 8, 9, 10]"
      ]
     },
     "execution_count": 4,
     "metadata": {},
     "output_type": "execute_result"
    }
   ],
   "source": [
    "# sort()を行うと、もとのリストは上書きされる\n",
    "manga2 = [1, 3, 6, 8, 7, 9, 10, 2, 4, 5, 3]\n",
    "manga2.sort()\n",
    "manga2"
   ]
  },
  {
   "cell_type": "code",
   "execution_count": 5,
   "id": "7c0d410d-2ccc-4858-a5ee-c47b13346e66",
   "metadata": {},
   "outputs": [
    {
     "data": {
      "text/plain": [
       "[10, 9, 8, 7, 6, 5, 4, 3, 3, 2, 1]"
      ]
     },
     "execution_count": 5,
     "metadata": {},
     "output_type": "execute_result"
    }
   ],
   "source": [
    "manga3 = [1, 3, 6, 8, 7, 9, 10, 2, 4, 5, 3]\n",
    "manga3.sort(reverse=True)\n",
    "manga3"
   ]
  },
  {
   "cell_type": "code",
   "execution_count": 10,
   "id": "6106ca3e-47b7-4433-82af-1db417217a0d",
   "metadata": {},
   "outputs": [
    {
     "data": {
      "text/plain": [
       "[9, 7, 8, 6, 3, 1]"
      ]
     },
     "execution_count": 10,
     "metadata": {},
     "output_type": "execute_result"
    }
   ],
   "source": [
    "# reverse()を行うと、もとのリストは上書きされる\n",
    "manga4 = [1, 3, 6, 8, 7, 9]\n",
    "manga4.reverse()\n",
    "manga4"
   ]
  },
  {
   "cell_type": "code",
   "execution_count": 27,
   "id": "19c8eb14-f5a1-4c90-8147-7c17ee6d3f3d",
   "metadata": {},
   "outputs": [
    {
     "name": "stdout",
     "output_type": "stream",
     "text": [
      "[1, 2, 3, 3, 4, 5, 6, 7, 8, 9, 10]\n",
      "[1, 3, 6, 8, 7, 9, 10, 2, 4, 5, 3]\n"
     ]
    }
   ],
   "source": [
    "# sorted()を行うと、もとのリストは保持される\n",
    "manga5 = [1, 3, 6, 8, 7, 9, 10, 2, 4, 5, 3]\n",
    "print(sorted(manga5))\n",
    "print(manga5)"
   ]
  },
  {
   "cell_type": "code",
   "execution_count": 11,
   "id": "6f7f3b06-0869-452d-83b3-742d181e31b8",
   "metadata": {},
   "outputs": [
    {
     "data": {
      "text/plain": [
       "[10, 9, 8, 7, 6, 5, 4, 3, 3, 2, 1]"
      ]
     },
     "execution_count": 11,
     "metadata": {},
     "output_type": "execute_result"
    }
   ],
   "source": [
    "manga6 = [1, 3, 6, 8, 7, 9, 10, 2, 4, 5, 3]\n",
    "sorted(manga6, reverse=True)"
   ]
  },
  {
   "cell_type": "code",
   "execution_count": null,
   "id": "44750fbd-5185-42ec-9151-20628e642045",
   "metadata": {},
   "outputs": [],
   "source": []
  },
  {
   "cell_type": "code",
   "execution_count": 16,
   "id": "c57e0000-4adb-4429-91b2-acdcbcfe58c4",
   "metadata": {},
   "outputs": [
    {
     "name": "stdout",
     "output_type": "stream",
     "text": [
      "[[2, 'a'], [1, 'a'], [3, 'b'], [5, 'd']]\n"
     ]
    }
   ],
   "source": [
    "# lambdaは短い処理を一行で関数化したいときに適しています。\n",
    "# (lambda 引数1, 引数2, …: 引数を用いた処理)で記述します。\n",
    "a = [[2, 'a'],[3, 'b'],[1, 'a'],[5, 'd']]\n",
    "# リストの2番目のindexについて昇順に並び替え\n",
    "a_sorted_second = sorted(a, key=lambda x:x[1])\n",
    "print(a_sorted_second)"
   ]
  },
  {
   "cell_type": "code",
   "execution_count": 18,
   "id": "f73ea988-72f0-437b-b0b2-fde731aa19f2",
   "metadata": {},
   "outputs": [
    {
     "name": "stdout",
     "output_type": "stream",
     "text": [
      "[1, 3, 5]\n"
     ]
    }
   ],
   "source": [
    "# filter関数は条件に合致するものを抽出する関数です。\n",
    "# filter(関数,リストなどのオブジェクト)で記述します。\n",
    "numbers = [1, 2, 3, 4, 5]\n",
    "squared_numbers = list(filter(lambda x: x%2 != 0, numbers))\n",
    "print(squared_numbers)"
   ]
  },
  {
   "cell_type": "code",
   "execution_count": 17,
   "id": "40a3fce9-15bf-45e2-a189-f557cc534080",
   "metadata": {},
   "outputs": [
    {
     "name": "stdout",
     "output_type": "stream",
     "text": [
      "[1, 4, 9, 16, 25]\n"
     ]
    }
   ],
   "source": [
    "# map関数はリストなどの複数要素を持つデータに対して、その要素に同じ処理を行う関数です。\n",
    "# map(関数,リストなどのオブジェクト)できします。\n",
    "numbers = [1, 2, 3, 4, 5]\n",
    "squared_numbers = list(map(lambda x: x ** 2, numbers))\n",
    "print(squared_numbers)"
   ]
  },
  {
   "cell_type": "code",
   "execution_count": null,
   "id": "f211a2b8-dd3f-40db-bd3f-69995fb5543f",
   "metadata": {},
   "outputs": [],
   "source": []
  },
  {
   "cell_type": "code",
   "execution_count": 21,
   "id": "020c647d-1196-4be7-a0ea-d12efab098d4",
   "metadata": {},
   "outputs": [
    {
     "data": {
      "text/plain": [
       "[1, 2, 4]"
      ]
     },
     "execution_count": 21,
     "metadata": {},
     "output_type": "execute_result"
    }
   ],
   "source": [
    "a = [1, 2, 3, 4]\n",
    "del a[2]\n",
    "a"
   ]
  },
  {
   "cell_type": "code",
   "execution_count": 1,
   "id": "92d8d9a4-6e04-4ad5-8f38-6a07ca751e11",
   "metadata": {},
   "outputs": [
    {
     "data": {
      "text/plain": [
       "[]"
      ]
     },
     "execution_count": 1,
     "metadata": {},
     "output_type": "execute_result"
    }
   ],
   "source": [
    "a = [1, 2, 3, 4]\n",
    "del a[:]\n",
    "a"
   ]
  },
  {
   "cell_type": "code",
   "execution_count": 2,
   "id": "5b15267b-6c75-433f-8071-3079befe1dd1",
   "metadata": {},
   "outputs": [
    {
     "ename": "NameError",
     "evalue": "name 'a' is not defined",
     "output_type": "error",
     "traceback": [
      "\u001b[1;31m---------------------------------------------------------------------------\u001b[0m",
      "\u001b[1;31mNameError\u001b[0m                                 Traceback (most recent call last)",
      "Cell \u001b[1;32mIn[2], line 3\u001b[0m\n\u001b[0;32m      1\u001b[0m a \u001b[38;5;241m=\u001b[39m [\u001b[38;5;241m1\u001b[39m, \u001b[38;5;241m2\u001b[39m, \u001b[38;5;241m3\u001b[39m, \u001b[38;5;241m4\u001b[39m]\n\u001b[0;32m      2\u001b[0m \u001b[38;5;28;01mdel\u001b[39;00m a\n\u001b[1;32m----> 3\u001b[0m a\n",
      "\u001b[1;31mNameError\u001b[0m: name 'a' is not defined"
     ]
    }
   ],
   "source": [
    "a = [1, 2, 3, 4]\n",
    "del a\n",
    "a"
   ]
  },
  {
   "cell_type": "code",
   "execution_count": 21,
   "id": "0d0a1277-3bf5-403b-9c34-8ae887208893",
   "metadata": {},
   "outputs": [
    {
     "ename": "SyntaxError",
     "evalue": "cannot delete function call (1302349173.py, line 2)",
     "output_type": "error",
     "traceback": [
      "\u001b[1;36m  Cell \u001b[1;32mIn[21], line 2\u001b[1;36m\u001b[0m\n\u001b[1;33m    del a(2)\u001b[0m\n\u001b[1;37m        ^\u001b[0m\n\u001b[1;31mSyntaxError\u001b[0m\u001b[1;31m:\u001b[0m cannot delete function call\n"
     ]
    }
   ],
   "source": [
    "a = [1, 2, 3, 4]\n",
    "del a(2)\n",
    "a"
   ]
  }
 ],
 "metadata": {
  "kernelspec": {
   "display_name": "Python 3 (ipykernel)",
   "language": "python",
   "name": "python3"
  },
  "language_info": {
   "codemirror_mode": {
    "name": "ipython",
    "version": 3
   },
   "file_extension": ".py",
   "mimetype": "text/x-python",
   "name": "python",
   "nbconvert_exporter": "python",
   "pygments_lexer": "ipython3",
   "version": "3.11.7"
  }
 },
 "nbformat": 4,
 "nbformat_minor": 5
}
