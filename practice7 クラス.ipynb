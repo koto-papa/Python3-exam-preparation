{
 "cells": [
  {
   "cell_type": "markdown",
   "id": "811d8920-462c-4c40-982b-09e5c9673ce5",
   "metadata": {},
   "source": [
    "# クラスの定義について"
   ]
  },
  {
   "cell_type": "code",
   "execution_count": 2,
   "id": "84f5cdc9-50b2-4070-8155-08c8f8901d91",
   "metadata": {},
   "outputs": [
    {
     "name": "stdout",
     "output_type": "stream",
     "text": [
      "75.0\n"
     ]
    }
   ],
   "source": [
    "# クラスの定義\n",
    "class Student:\n",
    "    # インスタンスメソッドを定義\n",
    "    # インスタンスとは実態という意味\n",
    "    # インスタンスメソッドはクラス内に定義された関数のこと\n",
    "    # インスタンスメソッドの仮引数にselfと書くのは慣習\n",
    "    def avg(self):\n",
    "        print((80+70)/2)\n",
    "# インスタンス化\n",
    "# 変数=クラス名()でクラスが使える状態になる\n",
    "# 変数にインスタンスが代入される\n",
    "a001=Student()\n",
    "# 変数.インスタンスメソッド名()でメソッドが実行できる\n",
    "a001.avg()"
   ]
  },
  {
   "cell_type": "code",
   "execution_count": 3,
   "id": "2d6a704f-103b-4b3f-b0f7-9d94eb75164a",
   "metadata": {},
   "outputs": [
    {
     "name": "stdout",
     "output_type": "stream",
     "text": [
      "75.0\n",
      "sato\n"
     ]
    }
   ],
   "source": [
    "class Student:\n",
    "    # インスタンス変数の定義\n",
    "    # クラスの書き換えを不要にする\n",
    "    def avg(self, math, english):\n",
    "        print((math+english)/2)\n",
    "\n",
    "a001=Student()\n",
    "a001.avg(80,70)\n",
    "\n",
    "# アトリビュートの定義\n",
    "# アトリビュートとはクラス内に定義された変数のこと\n",
    "# 変数.アトリビュート名=値で定義する\n",
    "# インスタンス化ごとにアトリビュートを定義する必要がある\n",
    "a001.name='sato'\n",
    "print(a001.name)"
   ]
  },
  {
   "cell_type": "code",
   "execution_count": 8,
   "id": "6eeb89a8-e3b1-4831-bd1d-af066b41201b",
   "metadata": {},
   "outputs": [
    {
     "name": "stdout",
     "output_type": "stream",
     "text": [
      "75.0\n",
      "sato\n"
     ]
    },
    {
     "ename": "AttributeError",
     "evalue": "'Student' object has no attribute 'name'",
     "output_type": "error",
     "traceback": [
      "\u001b[1;31m---------------------------------------------------------------------------\u001b[0m",
      "\u001b[1;31mAttributeError\u001b[0m                            Traceback (most recent call last)",
      "Cell \u001b[1;32mIn[8], line 12\u001b[0m\n\u001b[0;32m      9\u001b[0m \u001b[38;5;28mprint\u001b[39m(a001\u001b[38;5;241m.\u001b[39mname)\n\u001b[0;32m     11\u001b[0m a002\u001b[38;5;241m=\u001b[39mStudent()\n\u001b[1;32m---> 12\u001b[0m \u001b[38;5;28mprint\u001b[39m(a002\u001b[38;5;241m.\u001b[39mname)\n",
      "\u001b[1;31mAttributeError\u001b[0m: 'Student' object has no attribute 'name'"
     ]
    }
   ],
   "source": [
    "class Student:\n",
    "    def avg(self, math, english):\n",
    "        print((math+english)/2)\n",
    "\n",
    "a001=Student()\n",
    "a001.avg(80,70)\n",
    "a001.name='sato'\n",
    "print(a001.name)\n",
    "\n",
    "a002=Student()\n",
    "print(a002.name)\n",
    "# アトリビュートが定義されていないのでエラーになる"
   ]
  },
  {
   "cell_type": "code",
   "execution_count": 9,
   "id": "46bf6413-dbf8-42e5-a495-553595f2de7b",
   "metadata": {},
   "outputs": [
    {
     "name": "stdout",
     "output_type": "stream",
     "text": [
      "75.0\n",
      "sato\n",
      "\n"
     ]
    }
   ],
   "source": [
    "class Student:\n",
    "    # コンストラクタの定義\n",
    "    # コンストラクタはインスタンス化するときに自動的に実行されるインスタンスメソッドのこと\n",
    "    # コンストラクタは初期化メソッドでもある\n",
    "    # インスタンス化ごとにアトリビュートを毎回定義する煩わしさの解消に役立つ\n",
    "    def __init__(self):\n",
    "        # アトリビュートの定義\n",
    "        self.name=''\n",
    "\n",
    "    def avg(self, math, english):\n",
    "        print((math+english)/2)\n",
    "\n",
    "a001=Student()\n",
    "a001.avg(80,70)\n",
    "a001.name='sato'\n",
    "print(a001.name)\n",
    "\n",
    "a002=Student()\n",
    "print(a002.name)"
   ]
  },
  {
   "cell_type": "code",
   "execution_count": 10,
   "id": "0085db52-043c-4782-816a-d7fa1bc4c1e3",
   "metadata": {},
   "outputs": [
    {
     "name": "stdout",
     "output_type": "stream",
     "text": [
      "75.0\n",
      "sato\n",
      "50.0\n",
      "tanaka\n"
     ]
    }
   ],
   "source": [
    "class Student:\n",
    "    # アトリビュートはインスタンス化と同時に代入できる\n",
    "    def __init__(self, name):\n",
    "        self.name=name\n",
    "\n",
    "    def avg(self, math, english):\n",
    "        print((math+english)/2)\n",
    "\n",
    "a001=Student('sato')\n",
    "a001.avg(80,70)\n",
    "print(a001.name)\n",
    "\n",
    "a002=Student('tanaka')\n",
    "a002.avg(30,70)\n",
    "print(a002.name)"
   ]
  },
  {
   "cell_type": "code",
   "execution_count": null,
   "id": "f8fed930-aa7b-4beb-a957-ceee2c95b78d",
   "metadata": {},
   "outputs": [],
   "source": []
  },
  {
   "cell_type": "code",
   "execution_count": 11,
   "id": "d7fe7e2a-7f53-46c2-9e8a-3797ae6008b6",
   "metadata": {},
   "outputs": [
    {
     "name": "stdout",
     "output_type": "stream",
     "text": [
      "Hello\n"
     ]
    }
   ],
   "source": [
    "class Greet():\n",
    "    # 【3】 selfでsampleを受け取る\n",
    "    def say(self): \n",
    "        # 【4】 print文を実行\n",
    "        print('Hello')\n",
    "        \n",
    "# 【1】 クラスをインスタンス化\n",
    "sample = Greet()\n",
    "# 【2】 sayメソッドを実行\n",
    "sample.say()"
   ]
  },
  {
   "cell_type": "code",
   "execution_count": 13,
   "id": "0a4e30f6-baa8-4d0e-ab7c-097c2fcba5a6",
   "metadata": {},
   "outputs": [
    {
     "name": "stdout",
     "output_type": "stream",
     "text": [
      "1\n"
     ]
    }
   ],
   "source": [
    "class Job:\n",
    "    # 【1】 __init__メソッドで仮引数のselfとargを初期化し、実引数を受け取る準備をする。\n",
    "    def __init__(self, arg):       \n",
    "        # 【3】 クラスをインスタンス化して生成されたオブジェクト「x」を「self」で受け取り、実引数「1」を「arg」で受け取る。\n",
    "        # 【4】 「x.arg」に「1」を代入する。\n",
    "        self.arg = arg\n",
    "        \n",
    "# 【2】 クラスをインスタンス化して、実引数として「1」を指定する。\n",
    "x = Job(1)\n",
    "# 【5】 「x.arg」に代入されている「1」を表示する。\n",
    "print(x.arg)"
   ]
  },
  {
   "cell_type": "code",
   "execution_count": null,
   "id": "47b915f6-6acc-44dc-b67e-c7209dd0afd9",
   "metadata": {},
   "outputs": [],
   "source": []
  },
  {
   "cell_type": "code",
   "execution_count": 14,
   "id": "91f1fa6f-7bd4-4b0b-92ed-48a29407ccc6",
   "metadata": {},
   "outputs": [
    {
     "name": "stdout",
     "output_type": "stream",
     "text": [
      "book\n"
     ]
    }
   ],
   "source": [
    "# 関数名、クラス名は決まっているが、実装がまだ明確でないときにpass文を使用\n",
    "class Item:\n",
    "    pass\n",
    "    \n",
    "# 【1】 クラスをインスタンス化    \n",
    "x = Item()\n",
    "# 【2】 インスタンスにアトリビュート「name」を定義して、「book」の値を代入\n",
    "x.name = 'book'\n",
    "# 【3】 アトリビュートの値を表示\n",
    "print(x.name)"
   ]
  },
  {
   "cell_type": "code",
   "execution_count": 5,
   "id": "4a424db3-766c-4d1b-b1ac-263332b57ef2",
   "metadata": {},
   "outputs": [
    {
     "name": "stdout",
     "output_type": "stream",
     "text": [
      "C\n",
      "B\n"
     ]
    }
   ],
   "source": [
    "class A(Exception):\n",
    "    pass\n",
    "    \n",
    "def func1():\n",
    "    try:\n",
    "        func2() #【2】関数呼び出し\n",
    "    except A:  #【5】クラス「A」の例外を補足\n",
    "        print('B') #【6】print文実行\n",
    "def func2():\n",
    "    print('C') #【3】print文実行\n",
    "    raise A #【4】クラス「A」の例外を送出\n",
    "    print('D')\n",
    "\n",
    "func1() #【1】関数呼び出し"
   ]
  },
  {
   "cell_type": "code",
   "execution_count": 6,
   "id": "7d240249-8701-4425-a901-ac00a8aa6e49",
   "metadata": {},
   "outputs": [
    {
     "name": "stdout",
     "output_type": "stream",
     "text": [
      "C\n",
      "B\n"
     ]
    },
    {
     "ename": "A",
     "evalue": "",
     "output_type": "error",
     "traceback": [
      "\u001b[1;31m---------------------------------------------------------------------------\u001b[0m",
      "\u001b[1;31mA\u001b[0m                                         Traceback (most recent call last)",
      "Cell \u001b[1;32mIn[6], line 13\u001b[0m\n\u001b[0;32m     11\u001b[0m     \u001b[38;5;28;01mraise\u001b[39;00m A\n\u001b[0;32m     12\u001b[0m     \u001b[38;5;28mprint\u001b[39m(\u001b[38;5;124m'\u001b[39m\u001b[38;5;124mD\u001b[39m\u001b[38;5;124m'\u001b[39m)\n\u001b[1;32m---> 13\u001b[0m func1()\n\u001b[0;32m     14\u001b[0m \u001b[38;5;28mprint\u001b[39m(\u001b[38;5;124m'\u001b[39m\u001b[38;5;124mE\u001b[39m\u001b[38;5;124m'\u001b[39m)\n",
      "Cell \u001b[1;32mIn[6], line 5\u001b[0m, in \u001b[0;36mfunc1\u001b[1;34m()\u001b[0m\n\u001b[0;32m      3\u001b[0m \u001b[38;5;28;01mdef\u001b[39;00m \u001b[38;5;21mfunc1\u001b[39m():\n\u001b[0;32m      4\u001b[0m     \u001b[38;5;28;01mtry\u001b[39;00m:\n\u001b[1;32m----> 5\u001b[0m         func2() \n\u001b[0;32m      6\u001b[0m     \u001b[38;5;28;01mexcept\u001b[39;00m A:\n\u001b[0;32m      7\u001b[0m         \u001b[38;5;28mprint\u001b[39m(\u001b[38;5;124m'\u001b[39m\u001b[38;5;124mB\u001b[39m\u001b[38;5;124m'\u001b[39m)\n",
      "Cell \u001b[1;32mIn[6], line 11\u001b[0m, in \u001b[0;36mfunc2\u001b[1;34m()\u001b[0m\n\u001b[0;32m      9\u001b[0m \u001b[38;5;28;01mdef\u001b[39;00m \u001b[38;5;21mfunc2\u001b[39m():\n\u001b[0;32m     10\u001b[0m     \u001b[38;5;28mprint\u001b[39m(\u001b[38;5;124m'\u001b[39m\u001b[38;5;124mC\u001b[39m\u001b[38;5;124m'\u001b[39m)\n\u001b[1;32m---> 11\u001b[0m     \u001b[38;5;28;01mraise\u001b[39;00m A\n\u001b[0;32m     12\u001b[0m     \u001b[38;5;28mprint\u001b[39m(\u001b[38;5;124m'\u001b[39m\u001b[38;5;124mD\u001b[39m\u001b[38;5;124m'\u001b[39m)\n",
      "\u001b[1;31mA\u001b[0m: "
     ]
    }
   ],
   "source": [
    "class A(Exception):\n",
    "    pass\n",
    "\n",
    "def func1():\n",
    "    try:\n",
    "        func2() \n",
    "    except A:\n",
    "        print('B')\n",
    "        raise\n",
    "\n",
    "def func2():\n",
    "    print('C')\n",
    "    raise A\n",
    "    print('D')\n",
    "\n",
    "func1()\n",
    "print('E')"
   ]
  },
  {
   "cell_type": "code",
   "execution_count": null,
   "id": "bc4f7763-3e25-4b2d-9219-4610e4812f66",
   "metadata": {},
   "outputs": [],
   "source": []
  },
  {
   "cell_type": "markdown",
   "id": "565f9a66-c360-47af-8a67-8945aa383441",
   "metadata": {},
   "source": [
    "# クラスの継承について"
   ]
  },
  {
   "cell_type": "code",
   "execution_count": 15,
   "id": "c426623a-0731-4445-9cc7-2fe50ccba558",
   "metadata": {},
   "outputs": [
    {
     "name": "stdout",
     "output_type": "stream",
     "text": [
      "50\n",
      "60\n",
      "70\n"
     ]
    }
   ],
   "source": [
    "# クラスをそれぞれ定義するケース\n",
    "class Student:\n",
    "    def math(self, score):\n",
    "        print(score)\n",
    "\n",
    "class Grade1:\n",
    "    def math(self, score):\n",
    "        print(score)\n",
    "    def english(self, score):\n",
    "        print(score)\n",
    "\n",
    "studentA=Student()\n",
    "studentB=Grade1()\n",
    "studentA.math(50)\n",
    "studentB.math(60)\n",
    "studentB.english(70)"
   ]
  },
  {
   "cell_type": "code",
   "execution_count": 16,
   "id": "23a6a1ac-09ca-44e6-8e45-e83d6ad3b86b",
   "metadata": {},
   "outputs": [
    {
     "name": "stdout",
     "output_type": "stream",
     "text": [
      "50\n",
      "60\n",
      "70\n"
     ]
    }
   ],
   "source": [
    "# ここから親クラス\n",
    "class Student:\n",
    "    def math(self, score):\n",
    "        print(score)\n",
    "# ここから子クラス\n",
    "# 子クラスの引数に親クラス名を記述することで、親クラスのメソッドを引き継ぐ\n",
    "class Grade1(Student):\n",
    "    def english(self, score):\n",
    "        print(score)\n",
    "\n",
    "studentA=Student()\n",
    "studentB=Grade1()\n",
    "studentA.math(50)\n",
    "studentB.math(60)\n",
    "studentB.english(70)"
   ]
  },
  {
   "cell_type": "code",
   "execution_count": 17,
   "id": "7da3d234-aa67-4ca3-ae4f-0b1d51076653",
   "metadata": {},
   "outputs": [
    {
     "name": "stdout",
     "output_type": "stream",
     "text": [
      "name: sato\n",
      "age: 12\n"
     ]
    }
   ],
   "source": [
    "class Student:\n",
    "    def __init__(self, name, age):\n",
    "        self.name=name\n",
    "        self.age=age\n",
    "    \n",
    "    def math(self, score):\n",
    "        print(score)\n",
    "\n",
    "class Grade1(Student):\n",
    "    # 子クラスに親クラスと同じメソッドを記述し、メソッドをオーバーライド(再定義)する\n",
    "    def __init__(self, name, age):\n",
    "        self.name=name\n",
    "        self.age=age\n",
    "        print('name:',self.name)\n",
    "        print('age:',self.age)\n",
    "   \n",
    "    def english(self, score):\n",
    "        print(score)\n",
    "\n",
    "studentA=Student('yamada',15)\n",
    "studentB=Grade1('sato',12)"
   ]
  },
  {
   "cell_type": "code",
   "execution_count": 18,
   "id": "dc982607-06ab-4e7d-9077-a558b6eefe68",
   "metadata": {},
   "outputs": [
    {
     "name": "stdout",
     "output_type": "stream",
     "text": [
      "name: sato\n",
      "age: 12\n"
     ]
    }
   ],
   "source": [
    "class Student:\n",
    "    def __init__(self, name, age):\n",
    "        self.name=name\n",
    "        self.age=age\n",
    "    \n",
    "    def math(self, score):\n",
    "        print(score)\n",
    "\n",
    "class Grade1(Student):\n",
    "    def __init__(self, name, age):\n",
    "        # super()関数を用いることで、親クラスのメソッドを継承できる\n",
    "        super().__init__(name, age)\n",
    "        print('name:',self.name)\n",
    "        print('age:',self.age)\n",
    "   \n",
    "    def english(self, score):\n",
    "        print(score)\n",
    "\n",
    "studentA=Student('yamada',15)\n",
    "studentB=Grade1('sato',12)"
   ]
  },
  {
   "cell_type": "markdown",
   "id": "07da12bf-2495-4fc9-ab5b-b3b4114885b5",
   "metadata": {},
   "source": [
    "# クラス変数について"
   ]
  },
  {
   "cell_type": "code",
   "execution_count": 2,
   "id": "46910d07-ccff-4028-96ec-04dab3a08845",
   "metadata": {},
   "outputs": [
    {
     "name": "stdout",
     "output_type": "stream",
     "text": [
      "junior high school student\n",
      "yamada\n",
      "15\n",
      "junior high school student\n",
      "sato\n",
      "12\n"
     ]
    }
   ],
   "source": [
    "class Student:\n",
    "    # クラス変数の定義\n",
    "    # クラス変数はそのクラスから作成されたすべてのインスタンスで共有できる\n",
    "    # クラス変数とインスタンス変数で同じ名前が定義された場合、インスタンス変数が優先される\n",
    "    # クラス変数はインスタンスを作成しなくてもアクセスできる(クラス名.クラス変数名)\n",
    "    job='junior high school student'\n",
    "    age=13\n",
    "\n",
    "    def __init__(self, name, age):\n",
    "        self.name=name\n",
    "        self.age=age\n",
    "\n",
    "studentA=Student('yamada',15)\n",
    "print(studentA.job)\n",
    "print(studentA.name)\n",
    "print(studentA.age)\n",
    "\n",
    "studentB=Student('sato',12)\n",
    "print(studentB.job)\n",
    "print(studentB.name)\n",
    "print(studentB.age)"
   ]
  },
  {
   "cell_type": "markdown",
   "id": "a8c6514a-a04c-414b-a9c7-29e01f3629c6",
   "metadata": {},
   "source": [
    "# クラスメソッドとスタティックメソッドについて"
   ]
  },
  {
   "cell_type": "code",
   "execution_count": 4,
   "id": "f29244f9-5166-41ba-80cd-3a7aced1c449",
   "metadata": {},
   "outputs": [
    {
     "name": "stdout",
     "output_type": "stream",
     "text": [
      "14\n"
     ]
    }
   ],
   "source": [
    "class Student:\n",
    "    \n",
    "    job='junior high school student'\n",
    "    age=13\n",
    "\n",
    "    # クラスメソッドの定義\n",
    "    # クラスメソッドはインスタンスを作成しなくてもアクセスできる\n",
    "    # @classmethodと記述して始める\n",
    "    # クラスメソッドの仮引数はclsと書く\n",
    "    @classmethod\n",
    "    def add_age(cls):\n",
    "        cls.age+=1\n",
    "        return cls.age\n",
    "    \n",
    "    def __init__(self, name, age):\n",
    "        self.name=name\n",
    "        self.age=age\n",
    "\n",
    "print(Student.add_age())"
   ]
  },
  {
   "cell_type": "code",
   "execution_count": 9,
   "id": "42abb00a-19e5-4046-88f8-3abca521e0d9",
   "metadata": {},
   "outputs": [
    {
     "name": "stdout",
     "output_type": "stream",
     "text": [
      "hello\n",
      "I am 13\n"
     ]
    }
   ],
   "source": [
    "class Student:\n",
    "    \n",
    "    job='junior high school student'\n",
    "    age=13\n",
    "\n",
    "    @classmethod\n",
    "    def add_age(cls):\n",
    "        cls.age+=1\n",
    "        return cls.age\n",
    "\n",
    "    # スタティックメソッドの定義\n",
    "    # スタティックメソッドもインスタンスを作成しなくてもアクセスできる\n",
    "    # @staticmethodと記述して始める\n",
    "    # スタティックメソッドは引数を受け取らない\n",
    "    # クラス変数を使用するとき、使用するクラス変数のクラスを宣言する必要がある\n",
    "    # スタティックメソッドはクラスの外で定義した関数と同じ機能を持つ\n",
    "    # スタティックメソッドはクラスの外よりクラスの中で定義した方が分かりやすい場合に使う\n",
    "    @staticmethod\n",
    "    def greeting():\n",
    "        print('hello')\n",
    "        print(f'I am {Student.age}')\n",
    "    \n",
    "    def __init__(self, name, age):\n",
    "        self.name=name\n",
    "        self.age=age\n",
    "\n",
    "Student.greeting()"
   ]
  },
  {
   "cell_type": "code",
   "execution_count": null,
   "id": "5535bf72-0257-4029-98c3-edcf812faed4",
   "metadata": {},
   "outputs": [],
   "source": []
  },
  {
   "cell_type": "code",
   "execution_count": 1,
   "id": "cb276713-35a4-4ab5-b1f2-2f4f66d2197f",
   "metadata": {},
   "outputs": [
    {
     "name": "stdout",
     "output_type": "stream",
     "text": [
      "Python\n",
      "1000\n"
     ]
    }
   ],
   "source": [
    "class Item:\n",
    "    def __init__(self, name):\n",
    "        self.name = name\n",
    "       # 【9】 変数「name」で引数「'Python'」を受け取る\n",
    "    def func(self):\n",
    "        print(self.name)\n",
    "       # 【12】 print文で引数「'Python'」を出力\n",
    "\n",
    "class Book(Item):\n",
    "# 【1】 Itemクラスを継承した派生クラス「Book」を定義\n",
    "    def __init__(self, name, price):\n",
    "        super().__init__(name)\n",
    "        # 【2】 基底クラスであるItemクラスの変数「name」を借用して初期化\n",
    "        # 【8】 引数「'Python'」の処理をItemクラスに委譲\n",
    "        self.price = price\n",
    "        # 【3】 Bookクラス自身の変数「price」を初期化\n",
    "        # 【10】 Bookクラス自身の変数「price」で引数「1000」を受け取る\n",
    "    def func(self):\n",
    "        super().func()\n",
    "        # 【4】 基底クラスであるItemクラスのfunc()メソッドを借用して再定義\n",
    "        # 【11】 Itemクラスに処理を委譲\n",
    "        print(self.price)\n",
    "        # 【5】 Bookクラス自身のfunc()メソッドを定義\n",
    "        # 【13】 print文で引数「1000」を出力\n",
    "\n",
    "x = Book('Python', 1000)\n",
    "# 【6】 引数を指定してBookクラスをインスタンス化\n",
    "x.func()\n",
    "# 【7】 イスタンス化したBookクラスのfunc()メソッドを実行"
   ]
  },
  {
   "cell_type": "code",
   "execution_count": null,
   "id": "3f60826c-5895-411a-80fb-93ca54af74ca",
   "metadata": {},
   "outputs": [],
   "source": []
  }
 ],
 "metadata": {
  "kernelspec": {
   "display_name": "Python 3 (ipykernel)",
   "language": "python",
   "name": "python3"
  },
  "language_info": {
   "codemirror_mode": {
    "name": "ipython",
    "version": 3
   },
   "file_extension": ".py",
   "mimetype": "text/x-python",
   "name": "python",
   "nbconvert_exporter": "python",
   "pygments_lexer": "ipython3",
   "version": "3.11.7"
  }
 },
 "nbformat": 4,
 "nbformat_minor": 5
}
