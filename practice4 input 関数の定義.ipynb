{
 "cells": [
  {
   "cell_type": "markdown",
   "id": "7e3f4ec2-19cc-4de5-9d1c-e6dd70b8126f",
   "metadata": {
    "jp-MarkdownHeadingCollapsed": true
   },
   "source": [
    "# inputについて"
   ]
  },
  {
   "cell_type": "code",
   "execution_count": 1,
   "id": "82b721c1-dae3-42f9-8875-897ecd803162",
   "metadata": {},
   "outputs": [
    {
     "name": "stdin",
     "output_type": "stream",
     "text": [
      "名前を入力してください： 向明\n"
     ]
    },
    {
     "name": "stdout",
     "output_type": "stream",
     "text": [
      "向明さん、こんにちは。\n"
     ]
    }
   ],
   "source": [
    "name=input('名前を入力してください：')\n",
    "print(name+'さん、こんにちは。')"
   ]
  },
  {
   "cell_type": "code",
   "execution_count": 2,
   "id": "a5b37d8e-43f7-41b1-992d-1d5f31f50fc7",
   "metadata": {},
   "outputs": [
    {
     "name": "stdin",
     "output_type": "stream",
     "text": [
      "数を入力してください： 2\n"
     ]
    },
    {
     "name": "stdout",
     "output_type": "stream",
     "text": [
      "22\n"
     ]
    }
   ],
   "source": [
    "a=input('数を入力してください：')\n",
    "kotae=(a*2)\n",
    "print(kotae)"
   ]
  },
  {
   "cell_type": "code",
   "execution_count": 3,
   "id": "733c08fb-5b7d-4fa0-91f0-d6333664935f",
   "metadata": {},
   "outputs": [
    {
     "name": "stdin",
     "output_type": "stream",
     "text": [
      "数を入力してください： 2\n"
     ]
    },
    {
     "name": "stdout",
     "output_type": "stream",
     "text": [
      "4\n"
     ]
    }
   ],
   "source": [
    "a=int(input('数を入力してください：'))\n",
    "kotae=(a*2)\n",
    "print(kotae)"
   ]
  },
  {
   "cell_type": "code",
   "execution_count": 5,
   "id": "739613f8-aa8e-451a-84ad-9f4fedac936f",
   "metadata": {},
   "outputs": [
    {
     "name": "stdin",
     "output_type": "stream",
     "text": [
      "文字をカンマ区切りで入力してください： a,b,c\n"
     ]
    },
    {
     "name": "stdout",
     "output_type": "stream",
     "text": [
      "a\n",
      "b\n",
      "c\n"
     ]
    }
   ],
   "source": [
    "a=input('文字をカンマ区切りで入力してください：').split(',')\n",
    "for i in range(len(a)):\n",
    "    print(a[i])"
   ]
  },
  {
   "cell_type": "markdown",
   "id": "56f3fb7e-169e-402d-9440-1fc2480d21d5",
   "metadata": {},
   "source": [
    "# 関数の定義について"
   ]
  },
  {
   "cell_type": "code",
   "execution_count": 1,
   "id": "ec845382-bad2-4af2-b80a-1fdfa401d89e",
   "metadata": {},
   "outputs": [
    {
     "name": "stdout",
     "output_type": "stream",
     "text": [
      "250\n"
     ]
    }
   ],
   "source": [
    "potato_price = 250\n",
    "print(potato_price)"
   ]
  },
  {
   "cell_type": "markdown",
   "id": "2e9a10d2-6208-42a7-a101-ca0443f81520",
   "metadata": {},
   "source": [
    "変数は値と対応付けることで、変数名を使った値の参照を可能にしています。\n",
    "<br>\r\n",
    "この変数と値の対応付けは、シンボル表というデータテーブルに記録されいます。\n",
    "<br>\n",
    "シンボル表を表示させ、変数potato_priceと数値250が対応付けされているか確認してみましょう。\n",
    "<br>\n",
    "一覧の中に'potato_price': 250という記述があります\n",
    "。<br>\n",
    "このコロン（:）は、左右の値が対応付けされいることを意味します。<br>\n",
    "コロンの左側が定数や変数で、右側がそれに対応づけられた値です。\n"
   ]
  },
  {
   "cell_type": "code",
   "execution_count": 2,
   "id": "1c0684a1-31c6-4d77-92d9-ea627986a475",
   "metadata": {},
   "outputs": [
    {
     "data": {
      "text/plain": [
       "{'__name__': '__main__',\n",
       " '__doc__': 'Automatically created module for IPython interactive environment',\n",
       " '__package__': None,\n",
       " '__loader__': None,\n",
       " '__spec__': None,\n",
       " '__builtin__': <module 'builtins' (built-in)>,\n",
       " '__builtins__': <module 'builtins' (built-in)>,\n",
       " '_ih': ['',\n",
       "  'potato_price = 250\\nprint(potato_price)',\n",
       "  '# 変数や関数が定義されているかの確認\\nglobals()'],\n",
       " '_oh': {},\n",
       " '_dh': [WindowsPath('C:/Users/user/Desktop/python3_基礎')],\n",
       " 'In': ['',\n",
       "  'potato_price = 250\\nprint(potato_price)',\n",
       "  '# 変数や関数が定義されているかの確認\\nglobals()'],\n",
       " 'Out': {},\n",
       " 'get_ipython': <bound method InteractiveShell.get_ipython of <ipykernel.zmqshell.ZMQInteractiveShell object at 0x0000015253274FD0>>,\n",
       " 'exit': <IPython.core.autocall.ZMQExitAutocall at 0x15253285950>,\n",
       " 'quit': <IPython.core.autocall.ZMQExitAutocall at 0x15253285950>,\n",
       " 'open': <function io.open(file, mode='r', buffering=-1, encoding=None, errors=None, newline=None, closefd=True, opener=None)>,\n",
       " '_': '',\n",
       " '__': '',\n",
       " '___': '',\n",
       " '__session__': 'C:\\\\Users\\\\user\\\\Desktop\\\\python3_基礎\\\\practice4 関数.ipynb',\n",
       " '_i': 'potato_price = 250\\nprint(potato_price)',\n",
       " '_ii': '',\n",
       " '_iii': '',\n",
       " '_i1': 'potato_price = 250\\nprint(potato_price)',\n",
       " 'potato_price': 250,\n",
       " '_i2': '# 変数や関数が定義されているかの確認\\nglobals()'}"
      ]
     },
     "execution_count": 2,
     "metadata": {},
     "output_type": "execute_result"
    }
   ],
   "source": [
    "# 変数や関数が定義されているかの確認\n",
    "globals()"
   ]
  },
  {
   "cell_type": "code",
   "execution_count": 3,
   "id": "e5016ecd-c417-4005-8c86-bc94b9c8c702",
   "metadata": {},
   "outputs": [
    {
     "ename": "NameError",
     "evalue": "name 'menu_list' is not defined",
     "output_type": "error",
     "traceback": [
      "\u001b[1;31m---------------------------------------------------------------------------\u001b[0m",
      "\u001b[1;31mNameError\u001b[0m                                 Traceback (most recent call last)",
      "Cell \u001b[1;32mIn[3], line 1\u001b[0m\n\u001b[1;32m----> 1\u001b[0m menu_list\n",
      "\u001b[1;31mNameError\u001b[0m: name 'menu_list' is not defined"
     ]
    }
   ],
   "source": [
    "menu_list"
   ]
  },
  {
   "cell_type": "markdown",
   "id": "b80c450d-8a73-47c2-b1f0-7d546a819611",
   "metadata": {},
   "source": [
    "このように、”NameError: name ‘menu_list’ is not defined”というエラーが発生します。\n",
    "<br>\r",
    "このエラーは、menu_listは未定義であるということを表しています。\n",
    "<br>\n",
    "また、menu_listという変数にはスコープ(定義域)が定義されていないと言い換えることもできます。。"
   ]
  },
  {
   "cell_type": "code",
   "execution_count": null,
   "id": "3c554e64-4e9a-48b1-ba13-9e2611868981",
   "metadata": {},
   "outputs": [],
   "source": []
  },
  {
   "cell_type": "code",
   "execution_count": 3,
   "id": "0d1a9759-45de-4d4a-82d9-a7649fb3f585",
   "metadata": {},
   "outputs": [
    {
     "name": "stdout",
     "output_type": "stream",
     "text": [
      "こんにちは\n"
     ]
    }
   ],
   "source": [
    "# defで独自の関数を定義できます\n",
    "# def 関数名(引数1, 引数2...):\n",
    "    # ブロックコード\n",
    "    # return 戻り値\n",
    "def hello():\n",
    "    print('こんにちは')\n",
    "hello()"
   ]
  },
  {
   "cell_type": "code",
   "execution_count": 4,
   "id": "0dd11366-5f1a-40e5-9811-adb8b311fc70",
   "metadata": {},
   "outputs": [
    {
     "name": "stdout",
     "output_type": "stream",
     "text": [
      "2\n"
     ]
    }
   ],
   "source": [
    "def job(a):\n",
    "    b=a+1\n",
    "    print(b)\n",
    "job(1)"
   ]
  },
  {
   "cell_type": "code",
   "execution_count": 8,
   "id": "ea8037ea-a61a-419a-8cd3-e4b63bc4b45b",
   "metadata": {},
   "outputs": [
    {
     "name": "stdout",
     "output_type": "stream",
     "text": [
      "2\n"
     ]
    }
   ],
   "source": [
    "def job(a):\n",
    "    b=a+1\n",
    "    return b\n",
    "print(job(1))"
   ]
  },
  {
   "cell_type": "code",
   "execution_count": 4,
   "id": "b52a2be5-a9dd-4f3a-aa27-fc4b6b266f6d",
   "metadata": {},
   "outputs": [
    {
     "name": "stdout",
     "output_type": "stream",
     "text": [
      "None\n"
     ]
    }
   ],
   "source": [
    "def job(a):\n",
    "    b=a+1\n",
    "print(job(1))"
   ]
  },
  {
   "cell_type": "code",
   "execution_count": null,
   "id": "b6a7a754-7f30-4a82-8fae-108c899e5429",
   "metadata": {},
   "outputs": [],
   "source": []
  },
  {
   "cell_type": "markdown",
   "id": "d974ed7f-e6f0-4a89-a593-26592b996681",
   "metadata": {},
   "source": [
    "スコープとは、定義域（有効範囲）のことであり、変数には3種類のスコープ（ローカル・グローバル・ビルトイン）が存在します。\n",
    "<br>\n",
    "スコープは、狭い方から広い方への参照は可能です。\n",
    "<br>\n",
    "ローカルスコープは関数が呼び出されるタイミングで作成され、戻り値が戻ったとき、例外時、関数内で処理されなかったときに削除されます\n",
    "<br>\n",
    "グローバルスコープはモジュール読み込み時に作成され、インタープリタ終了時に削除されます\n",
    "<br>\n",
    "ビルトインスコープはインタープリタ起動時に作成され、削除されません"
   ]
  },
  {
   "cell_type": "code",
   "execution_count": 14,
   "id": "40b830a6-7be6-45dc-93ba-94d6cc12ffb5",
   "metadata": {},
   "outputs": [
    {
     "name": "stdout",
     "output_type": "stream",
     "text": [
      "ローカルスコープ {'n': 40, 'm': 2}\n"
     ]
    },
    {
     "data": {
      "text/plain": [
       "42"
      ]
     },
     "execution_count": 14,
     "metadata": {},
     "output_type": "execute_result"
    }
   ],
   "source": [
    "# ここからローカルスコープ\n",
    "def add(n):\n",
    "    m = 2\n",
    "    print('ローカルスコープ',locals())\n",
    "    return n + m\n",
    "# ここからグローバルスコープ\n",
    "add(40)"
   ]
  },
  {
   "cell_type": "code",
   "execution_count": 1,
   "id": "9aeaa7ea-7c7e-4480-b5de-1316691640d4",
   "metadata": {},
   "outputs": [
    {
     "data": {
      "text/plain": [
       "['ArithmeticError',\n",
       " 'AssertionError',\n",
       " 'AttributeError',\n",
       " 'BaseException',\n",
       " 'BaseExceptionGroup',\n",
       " 'BlockingIOError',\n",
       " 'BrokenPipeError',\n",
       " 'BufferError',\n",
       " 'BytesWarning',\n",
       " 'ChildProcessError',\n",
       " 'ConnectionAbortedError',\n",
       " 'ConnectionError',\n",
       " 'ConnectionRefusedError',\n",
       " 'ConnectionResetError',\n",
       " 'DeprecationWarning',\n",
       " 'EOFError',\n",
       " 'Ellipsis',\n",
       " 'EncodingWarning',\n",
       " 'EnvironmentError',\n",
       " 'Exception',\n",
       " 'ExceptionGroup',\n",
       " 'False',\n",
       " 'FileExistsError',\n",
       " 'FileNotFoundError',\n",
       " 'FloatingPointError',\n",
       " 'FutureWarning',\n",
       " 'GeneratorExit',\n",
       " 'IOError',\n",
       " 'ImportError',\n",
       " 'ImportWarning',\n",
       " 'IndentationError',\n",
       " 'IndexError',\n",
       " 'InterruptedError',\n",
       " 'IsADirectoryError',\n",
       " 'KeyError',\n",
       " 'KeyboardInterrupt',\n",
       " 'LookupError',\n",
       " 'MemoryError',\n",
       " 'ModuleNotFoundError',\n",
       " 'NameError',\n",
       " 'None',\n",
       " 'NotADirectoryError',\n",
       " 'NotImplemented',\n",
       " 'NotImplementedError',\n",
       " 'OSError',\n",
       " 'OverflowError',\n",
       " 'PendingDeprecationWarning',\n",
       " 'PermissionError',\n",
       " 'ProcessLookupError',\n",
       " 'RecursionError',\n",
       " 'ReferenceError',\n",
       " 'ResourceWarning',\n",
       " 'RuntimeError',\n",
       " 'RuntimeWarning',\n",
       " 'StopAsyncIteration',\n",
       " 'StopIteration',\n",
       " 'SyntaxError',\n",
       " 'SyntaxWarning',\n",
       " 'SystemError',\n",
       " 'SystemExit',\n",
       " 'TabError',\n",
       " 'TimeoutError',\n",
       " 'True',\n",
       " 'TypeError',\n",
       " 'UnboundLocalError',\n",
       " 'UnicodeDecodeError',\n",
       " 'UnicodeEncodeError',\n",
       " 'UnicodeError',\n",
       " 'UnicodeTranslateError',\n",
       " 'UnicodeWarning',\n",
       " 'UserWarning',\n",
       " 'ValueError',\n",
       " 'Warning',\n",
       " 'WindowsError',\n",
       " 'ZeroDivisionError',\n",
       " '__IPYTHON__',\n",
       " '__build_class__',\n",
       " '__debug__',\n",
       " '__doc__',\n",
       " '__import__',\n",
       " '__loader__',\n",
       " '__name__',\n",
       " '__package__',\n",
       " '__spec__',\n",
       " 'abs',\n",
       " 'aiter',\n",
       " 'all',\n",
       " 'anext',\n",
       " 'any',\n",
       " 'ascii',\n",
       " 'bin',\n",
       " 'bool',\n",
       " 'breakpoint',\n",
       " 'bytearray',\n",
       " 'bytes',\n",
       " 'callable',\n",
       " 'chr',\n",
       " 'classmethod',\n",
       " 'compile',\n",
       " 'complex',\n",
       " 'copyright',\n",
       " 'credits',\n",
       " 'delattr',\n",
       " 'dict',\n",
       " 'dir',\n",
       " 'display',\n",
       " 'divmod',\n",
       " 'enumerate',\n",
       " 'eval',\n",
       " 'exec',\n",
       " 'execfile',\n",
       " 'filter',\n",
       " 'float',\n",
       " 'format',\n",
       " 'frozenset',\n",
       " 'get_ipython',\n",
       " 'getattr',\n",
       " 'globals',\n",
       " 'hasattr',\n",
       " 'hash',\n",
       " 'help',\n",
       " 'hex',\n",
       " 'id',\n",
       " 'input',\n",
       " 'int',\n",
       " 'isinstance',\n",
       " 'issubclass',\n",
       " 'iter',\n",
       " 'len',\n",
       " 'license',\n",
       " 'list',\n",
       " 'locals',\n",
       " 'map',\n",
       " 'max',\n",
       " 'memoryview',\n",
       " 'min',\n",
       " 'next',\n",
       " 'object',\n",
       " 'oct',\n",
       " 'open',\n",
       " 'ord',\n",
       " 'pow',\n",
       " 'print',\n",
       " 'property',\n",
       " 'range',\n",
       " 'repr',\n",
       " 'reversed',\n",
       " 'round',\n",
       " 'runfile',\n",
       " 'set',\n",
       " 'setattr',\n",
       " 'slice',\n",
       " 'sorted',\n",
       " 'staticmethod',\n",
       " 'str',\n",
       " 'sum',\n",
       " 'super',\n",
       " 'tuple',\n",
       " 'type',\n",
       " 'vars',\n",
       " 'zip']"
      ]
     },
     "execution_count": 1,
     "metadata": {},
     "output_type": "execute_result"
    }
   ],
   "source": [
    "# ビルトインのシンボル表を確認することはできません。\n",
    "# dir()関数は引数に指定したオブジェクトの属性やメソッドなどの名前のリストを返します。\n",
    "# 以下のコードを実行してビルトインスコープにある変数名や定数名、関数名を確認できます。\n",
    "dir(__builtins__)"
   ]
  },
  {
   "cell_type": "code",
   "execution_count": 6,
   "id": "a92b1273-7a58-416a-857c-3627b2ff6885",
   "metadata": {},
   "outputs": [
    {
     "name": "stdout",
     "output_type": "stream",
     "text": [
      "5\n",
      "<class 'Warning'>\n"
     ]
    }
   ],
   "source": [
    "# ここからグローバルスコープ\n",
    "i = 5\n",
    "# ここからローカルスコープ\n",
    "def f():\n",
    "    print(i)# グローバルスコープ内の変数名\n",
    "    print(Warning)# ビルトインスコープ内の名前\n",
    "# ここからグローバルスコープ\n",
    "f()"
   ]
  },
  {
   "cell_type": "code",
   "execution_count": 11,
   "id": "c4fad944-cbdf-44f7-a987-be45950030b7",
   "metadata": {},
   "outputs": [
    {
     "ename": "NameError",
     "evalue": "name 'b' is not defined",
     "output_type": "error",
     "traceback": [
      "\u001b[1;31m---------------------------------------------------------------------------\u001b[0m",
      "\u001b[1;31mNameError\u001b[0m                                 Traceback (most recent call last)",
      "Cell \u001b[1;32mIn[11], line 4\u001b[0m\n\u001b[0;32m      2\u001b[0m     b \u001b[38;5;241m=\u001b[39m \u001b[38;5;241m1\u001b[39m\n\u001b[0;32m      3\u001b[0m g()\n\u001b[1;32m----> 4\u001b[0m \u001b[38;5;28mprint\u001b[39m(b)\n",
      "\u001b[1;31mNameError\u001b[0m: name 'b' is not defined"
     ]
    }
   ],
   "source": [
    "def g():\n",
    "    b = 1\n",
    "g()\n",
    "print(b)"
   ]
  },
  {
   "cell_type": "code",
   "execution_count": 21,
   "id": "33c6ff2c-a164-467b-8ed9-09286e278c3b",
   "metadata": {},
   "outputs": [
    {
     "name": "stdout",
     "output_type": "stream",
     "text": [
      "10\n",
      "7\n"
     ]
    }
   ],
   "source": [
    "i = 10\n",
    "def num(arg=i):\n",
    "    print(arg)\n",
    "i = 7\n",
    "num()\n",
    "num(i)"
   ]
  },
  {
   "cell_type": "code",
   "execution_count": 24,
   "id": "9a183893-9fd8-4761-b385-916eb598b521",
   "metadata": {},
   "outputs": [
    {
     "name": "stdout",
     "output_type": "stream",
     "text": [
      "7\n",
      "7\n"
     ]
    }
   ],
   "source": [
    "i = 10\n",
    "def num(arg=i):\n",
    "    print(i)\n",
    "i = 7\n",
    "num()\n",
    "num(i)"
   ]
  },
  {
   "cell_type": "code",
   "execution_count": 25,
   "id": "f590d666-ed85-4353-8570-ddfab0d9c8f1",
   "metadata": {},
   "outputs": [
    {
     "name": "stdout",
     "output_type": "stream",
     "text": [
      "10\n",
      "10\n"
     ]
    }
   ],
   "source": [
    "i = 10\n",
    "def num(arg=i):\n",
    "    i = 7\n",
    "    print(arg)\n",
    "num()\n",
    "num(i)"
   ]
  },
  {
   "cell_type": "code",
   "execution_count": 26,
   "id": "ac159038-5273-47f2-95e6-7b72287cd169",
   "metadata": {},
   "outputs": [
    {
     "name": "stdout",
     "output_type": "stream",
     "text": [
      "7\n",
      "7\n"
     ]
    }
   ],
   "source": [
    "i = 10\n",
    "def num(arg=i):\n",
    "    i = 7\n",
    "    print(i)\n",
    "num()\n",
    "num(i)"
   ]
  },
  {
   "cell_type": "code",
   "execution_count": 3,
   "id": "3bf8c962-eab4-4439-a7d7-018a3425b1eb",
   "metadata": {},
   "outputs": [
    {
     "name": "stdout",
     "output_type": "stream",
     "text": [
      "in\n",
      "out\n"
     ]
    }
   ],
   "source": [
    "arg = 'out'\n",
    "def func1():\n",
    "    def func2():\n",
    "        arg = 'local'\n",
    "    arg = 'in'\n",
    "    func2()\n",
    "    print(arg) #(A)\n",
    "func1()\n",
    "print(arg) #(B)\n",
    "# (A) func2で代入した変数は、func2の外側には影響しないため、直前で代入した「in」が表示されます。\n",
    "# (B) すべての関数の外側にあるため、最初の変数が有効です。"
   ]
  },
  {
   "cell_type": "code",
   "execution_count": 40,
   "id": "94c0ccb4-ec76-420b-b651-4be0e1b1f814",
   "metadata": {},
   "outputs": [
    {
     "name": "stdout",
     "output_type": "stream",
     "text": [
      "in\n",
      "nonlocal\n",
      "nonlocal_2\n",
      "out\n"
     ]
    }
   ],
   "source": [
    "arg = 'out'\n",
    "def func1():\n",
    "    def func2():\n",
    "        arg = 'local'\n",
    "    def func3():\n",
    "        nonlocal arg\n",
    "        arg = 'nonlocal'\n",
    "    def func4():\n",
    "        nonlocal arg\n",
    "        arg = 'nonlocal_2'\n",
    "    arg = 'in'\n",
    "    func2()\n",
    "    print(arg) #(A)\n",
    "    func3()\n",
    "    print(arg) #(B)\n",
    "    func4()\n",
    "    print(arg) #(C)\n",
    "func1()\n",
    "print(arg) #(D)\n",
    "# 「nonlocal」で宣言すると、入れ子になっている関数の外側の関数に影響します。\n",
    "# (A) func2で代入した変数は、func2の外側には影響しないため、直前で代入した「in」が表示されます。\n",
    "# (B) func3の「nonlocal」で宣言した変数は、func1の階層に影響するため、「nonlocal」が表示されます。\n",
    "# (C) func4の「nonlocal」で宣言した変数は、func1の階層に影響するため、「nonlocal2」が表示されます。\n",
    "# (D) すべての関数の外側にあるため、最初の変数が有効です。"
   ]
  },
  {
   "cell_type": "code",
   "execution_count": 32,
   "id": "b580dad1-328f-4eee-8290-f19f4ecc24fa",
   "metadata": {},
   "outputs": [
    {
     "name": "stdout",
     "output_type": "stream",
     "text": [
      "in\n",
      "nonlocal\n",
      "nonlocal\n",
      "global\n"
     ]
    }
   ],
   "source": [
    "arg = 'out'\n",
    "def func1():\n",
    "    def func2():\n",
    "        arg = 'local'\n",
    "    def func3():\n",
    "        nonlocal arg\n",
    "        arg = 'nonlocal'\n",
    "    def func4():\n",
    "        global arg\n",
    "        arg = 'global'\n",
    "    arg = 'in'\n",
    "    func2()\n",
    "    print(arg) #(A)\n",
    "    func3()\n",
    "    print(arg) #(B)\n",
    "    func4()\n",
    "    print(arg) #(C)\n",
    "func1()\n",
    "print(arg) #(D)\n",
    "# 「nonlocal」で宣言すると、入れ子になっている関数の外側の関数に影響します。\n",
    "# 「global」で宣言した変数は、すべての関数の外側でのみ影響します。\n",
    "# (A) func2で代入した変数は、func2の外側には影響しないため、直前で代入した「in」が表示されます。\n",
    "# (B) func3の「nonlocal」で宣言した変数は、func1の階層に影響するため、「nonlocal」が表示されます。\n",
    "# (C) func4の「global」で宣言した変数は、func1も含めて関数の中には影響しないため、func3の「nonlocal」で宣言した変数が有効です。\n",
    "# (D) すべての関数の外側にあるため、func4の「global」で宣言した変数が有効です。"
   ]
  },
  {
   "cell_type": "code",
   "execution_count": 38,
   "id": "2d1cf6cf-2595-4278-b8ac-6a95be5a3eab",
   "metadata": {},
   "outputs": [
    {
     "name": "stdout",
     "output_type": "stream",
     "text": [
      "in\n",
      "in\n",
      "in\n",
      "global_2\n"
     ]
    }
   ],
   "source": [
    "arg = 'out'\n",
    "def func1():\n",
    "    def func2():\n",
    "        arg = 'local'\n",
    "    def func3():\n",
    "        global arg\n",
    "        arg = 'global'\n",
    "    def func4():\n",
    "        global arg\n",
    "        arg = 'global_2'\n",
    "    arg = 'in'\n",
    "    func2()\n",
    "    print(arg) #(A)\n",
    "    func3()\n",
    "    print(arg) #(B)\n",
    "    func4()\n",
    "    print(arg) #(C)\n",
    "func1()\n",
    "print(arg) #(D)"
   ]
  },
  {
   "cell_type": "code",
   "execution_count": null,
   "id": "a8948280-1e58-49f7-9f9e-0ce66459dc70",
   "metadata": {},
   "outputs": [],
   "source": []
  },
  {
   "cell_type": "markdown",
   "id": "a56cb078-4cf3-4203-9322-f3b7681e18fc",
   "metadata": {},
   "source": [
    "関数には、戻り値と引数を定義できます。\n",
    "<br>\n",
    "戻り値とは、関数を呼び出した際に返される値（データ）のことで、returnを使って返す値を指定します。\n",
    "<br>\n",
    "引数とは、関数を呼び出す際に渡す値（データ）のことで、def 関数名(引数):のように関数を定義することで、関数側で値を受け取ることができます。\n",
    "<br>\n",
    "また、引数はカンマ（,）で区切ることで複数受け取ることもできます。"
   ]
  },
  {
   "cell_type": "code",
   "execution_count": 9,
   "id": "ccadd588-e7c6-47cd-8fc7-2e7b901072b8",
   "metadata": {},
   "outputs": [
    {
     "name": "stdout",
     "output_type": "stream",
     "text": [
      "Hello, Python?\n"
     ]
    }
   ],
   "source": [
    "def print_hello_something(something, end):\n",
    "    print(\"Hello, {}{}\".format(something, end))\n",
    "print_hello_something(\"Python\", \"?\")"
   ]
  },
  {
   "cell_type": "markdown",
   "id": "4002eacd-7687-4d0c-82a6-021b83037fe9",
   "metadata": {},
   "source": [
    "デフォルトの値を決めることもできます。\n",
    "<br>\n",
    "仮引数の後に=を使って設定します。この書き方をする引数をキーワード引数と呼びます。\n",
    "<br>\n",
    "キーワード引数ではない引数は、位置引数と呼びます。\n",
    "<br>\n",
    "キーワード引数は位置引数よりも後ろに書く必要があります。"
   ]
  },
  {
   "cell_type": "code",
   "execution_count": 16,
   "id": "9d92d1c2-50a1-4149-bbaa-d0c9017b7c78",
   "metadata": {},
   "outputs": [
    {
     "name": "stdout",
     "output_type": "stream",
     "text": [
      "Hello, Python!\n",
      "Hello, Python!\n",
      "Hello, Python?\n",
      "Hello, Python?\n",
      "Hello, Python?\n"
     ]
    }
   ],
   "source": [
    "def print_hello_something(something, end = \"!\"):\n",
    "  print(\"Hello, {}{}\".format(something, end))\n",
    "print_hello_something(\"Python\")\n",
    "print_hello_something(something = \"Python\")\n",
    "print_hello_something(\"Python\", end = \"?\")\n",
    "print_hello_something(\"Python\", \"?\")\n",
    "print_hello_something(something = \"Python\", end = \"?\")"
   ]
  },
  {
   "cell_type": "code",
   "execution_count": 7,
   "id": "8780ddb3-e41a-4566-bffb-a05869ba3efe",
   "metadata": {},
   "outputs": [
    {
     "ename": "SyntaxError",
     "evalue": "positional argument follows keyword argument (2454490070.py, line 3)",
     "output_type": "error",
     "traceback": [
      "\u001b[1;36m  Cell \u001b[1;32mIn[7], line 3\u001b[1;36m\u001b[0m\n\u001b[1;33m    print_hello_something(end = \"?\", \"Python\")\u001b[0m\n\u001b[1;37m                                             ^\u001b[0m\n\u001b[1;31mSyntaxError\u001b[0m\u001b[1;31m:\u001b[0m positional argument follows keyword argument\n"
     ]
    }
   ],
   "source": [
    "def print_hello_something(something, end = \"!\"):\n",
    "  print(\"Hello, {}{}\".format(something, end))\n",
    "print_hello_something(end = \"?\", \"Python\")"
   ]
  },
  {
   "cell_type": "code",
   "execution_count": 8,
   "id": "73027529-0f35-4a6f-91c1-356e91a435c7",
   "metadata": {},
   "outputs": [
    {
     "name": "stdout",
     "output_type": "stream",
     "text": [
      "I live in Japan .\n",
      "My company is located in Kyoto , Katura .\n"
     ]
    }
   ],
   "source": [
    "def location(city, state='NewYork', country='USA'):\n",
    "    print(\"I live in\", country, \".\")\n",
    "    print(\"My company is located in\",city,\",\",state,\".\")\n",
    "location('Kyoto', country='Japan', state='Katura')"
   ]
  },
  {
   "cell_type": "code",
   "execution_count": null,
   "id": "78013329-4cd4-4fab-a408-5e53bab80f51",
   "metadata": {},
   "outputs": [],
   "source": []
  },
  {
   "cell_type": "code",
   "execution_count": 13,
   "id": "caae331b-f61d-4f29-af73-888dc42fca05",
   "metadata": {},
   "outputs": [
    {
     "ename": "TypeError",
     "evalue": "job() got some positional-only arguments passed as keyword arguments: 'arg'",
     "output_type": "error",
     "traceback": [
      "\u001b[1;31m---------------------------------------------------------------------------\u001b[0m",
      "\u001b[1;31mTypeError\u001b[0m                                 Traceback (most recent call last)",
      "Cell \u001b[1;32mIn[13], line 4\u001b[0m\n\u001b[0;32m      2\u001b[0m \u001b[38;5;28;01mdef\u001b[39;00m \u001b[38;5;21mjob\u001b[39m(arg, \u001b[38;5;241m/\u001b[39m):\n\u001b[0;32m      3\u001b[0m     \u001b[38;5;28mprint\u001b[39m(arg)\n\u001b[1;32m----> 4\u001b[0m job(arg\u001b[38;5;241m=\u001b[39m\u001b[38;5;241m5\u001b[39m)\n",
      "\u001b[1;31mTypeError\u001b[0m: job() got some positional-only arguments passed as keyword arguments: 'arg'"
     ]
    }
   ],
   "source": [
    "# 「/」は、その前が位置引数だけであることを示す記号です。\n",
    "def job(arg, /):\n",
    "    print(arg)\n",
    "job(arg=5)"
   ]
  },
  {
   "cell_type": "code",
   "execution_count": 11,
   "id": "6422fc09-0fff-4b0d-94ae-6ba68c2353c0",
   "metadata": {},
   "outputs": [
    {
     "name": "stdout",
     "output_type": "stream",
     "text": [
      "5\n"
     ]
    }
   ],
   "source": [
    "def job(arg, /):\n",
    "    print(arg)\n",
    "job(5)"
   ]
  },
  {
   "cell_type": "code",
   "execution_count": 11,
   "id": "875eb55d-1aea-4aa6-8a07-a153e03621dc",
   "metadata": {},
   "outputs": [
    {
     "name": "stdout",
     "output_type": "stream",
     "text": [
      "1 2 3\n"
     ]
    }
   ],
   "source": [
    "# 「*」は、その後がキーワード引数だけであることを示す記号です。\n",
    "# 「/」と「*」の間は、どちらでも構いません。\n",
    "def job(pos, /, arg, *, kwarg):\n",
    "    print(pos, arg, kwarg)\n",
    "job(1, arg=2, kwarg=3)"
   ]
  },
  {
   "cell_type": "code",
   "execution_count": null,
   "id": "6ae85645-6c4b-4c73-b7f2-d8eecbd154eb",
   "metadata": {},
   "outputs": [],
   "source": []
  },
  {
   "cell_type": "code",
   "execution_count": 1,
   "id": "7d3fe862-46ad-45c7-a7e1-988dc98a00c1",
   "metadata": {},
   "outputs": [
    {
     "name": "stdout",
     "output_type": "stream",
     "text": [
      "flowershop: Iris\n",
      "bouquet : Sunflower\n",
      "dried : Rose\n",
      "plants : Pachira\n",
      "Open: 9:30 am\n",
      "Close: 10:30 pm\n",
      "Monday and holidays are closed.\n"
     ]
    }
   ],
   "source": [
    "# 可変長引数（*args, **args）\n",
    "# *が１つの場合、キーワード引数は１個の可変調のタプルとなります。\n",
    "# *が２つの場合、キーワード引数を１個の辞書にまとめることが出来ます。\n",
    "\n",
    "def shop(name, *argsY, **argsX):\n",
    "    print(\"flowershop:\", name)\n",
    "    keys = sorted(argsX.keys())\n",
    "    for kw in keys:\n",
    "        print(kw, \":\", argsX[kw])\n",
    "    for Y in argsY:\n",
    "        print(Y)\n",
    "\n",
    "shop(\"Iris\",\"Open: 9:30 am\",\"Close: 10:30 pm\",\"Monday and holidays are closed.\",bouquet=\"Sunflower\",plants=\"Pachira\",dried=\"Rose\")"
   ]
  },
  {
   "cell_type": "code",
   "execution_count": 1,
   "id": "16694572-ba9c-4122-9cfd-6bc5a965fc3a",
   "metadata": {},
   "outputs": [
    {
     "name": "stdout",
     "output_type": "stream",
     "text": [
      "1 (2, 3)\n"
     ]
    }
   ],
   "source": [
    "def job(pos, *args):\n",
    "    print(pos, args)\n",
    "job(1, 2, 3)"
   ]
  },
  {
   "cell_type": "code",
   "execution_count": 2,
   "id": "d0e2e34c-ecb1-4909-b9ff-599c2b2f2342",
   "metadata": {},
   "outputs": [
    {
     "name": "stdout",
     "output_type": "stream",
     "text": [
      "1\n",
      "2\n",
      "3\n"
     ]
    }
   ],
   "source": [
    "def job(pos, *args):\n",
    "    print(pos)\n",
    "    for arg in args:\n",
    "        print(arg)\n",
    "job(1, 2, 3)"
   ]
  },
  {
   "cell_type": "code",
   "execution_count": 7,
   "id": "c68099b7-5170-4a3a-9b8f-516ce8d268c4",
   "metadata": {},
   "outputs": [
    {
     "name": "stdout",
     "output_type": "stream",
     "text": [
      "1\n",
      "2\n",
      "3\n",
      "4\n"
     ]
    }
   ],
   "source": [
    "def job(*args, **kwargs):\n",
    "    for arg in args:\n",
    "        print(arg)\n",
    "    for kwarg in kwargs:\n",
    "        print(kwargs[kwarg])\n",
    "args = [1, 2]\n",
    "kwargs = {'three': 3, 'four': 4}\n",
    "job(*args, **kwargs)"
   ]
  },
  {
   "cell_type": "code",
   "execution_count": null,
   "id": "c7955f2f-d7a6-4c8d-9225-6a3f1d0ffa74",
   "metadata": {},
   "outputs": [],
   "source": []
  }
 ],
 "metadata": {
  "kernelspec": {
   "display_name": "Python 3 (ipykernel)",
   "language": "python",
   "name": "python3"
  },
  "language_info": {
   "codemirror_mode": {
    "name": "ipython",
    "version": 3
   },
   "file_extension": ".py",
   "mimetype": "text/x-python",
   "name": "python",
   "nbconvert_exporter": "python",
   "pygments_lexer": "ipython3",
   "version": "3.11.7"
  }
 },
 "nbformat": 4,
 "nbformat_minor": 5
}
